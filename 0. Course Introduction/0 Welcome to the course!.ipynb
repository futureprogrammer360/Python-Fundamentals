{
 "cells": [
  {
   "cell_type": "markdown",
   "metadata": {},
   "source": [
    "# Welcome to Python Fundamentals!"
   ]
  },
  {
   "cell_type": "markdown",
   "metadata": {},
   "source": [
    "## Why Python?\n",
    "Python is a popular general-purpose programming language that has a variety of applications in the real world. Python is able to do many different things, from artificial intelligence and machine learning, to data visualization and analysis, to videogame designing, to web scraping and automation, to computer vision, to database management, to web and application development... The list goes on.\n",
    "\n",
    "While being very powerful, Python is also a very simple language, and is fantastic for beginners and professionals alike.\n",
    "\n",
    "Python is used by many large companies in their software, such as Google, Facebook, Instagram, Spotify, Netflix, Amazon, Dropbox, Reddit, Uber, and many more.\n",
    "\n",
    "In this introductory course, you will be learning about the fundamental basics of this powerful language."
   ]
  },
  {
   "cell_type": "markdown",
   "metadata": {},
   "source": [
    "## Prerequisites\n",
    "You need no previous knowledge about Python or any other programming language to do well in this course. All you need is a working computer and a desire to learn something new!"
   ]
  },
  {
   "cell_type": "markdown",
   "metadata": {},
   "source": [
    "## Course curriculum\n",
    "This course is divided into 7 sections:\n",
    "   1. Basic syntax, data types, and variables\n",
    "   2. Control flow\n",
    "   3. Functions\n",
    "   4. Lists, tuples and dictionaries\n",
    "   5. Object-oriented programming\n",
    "   6. Modules\n",
    "   7. Handling external files"
   ]
  },
  {
   "cell_type": "markdown",
   "metadata": {},
   "source": [
    "## Downloading and installing Python\n",
    "To run Python, download and install the official version of the latest Python release. To do that, follow the instructions:\n",
    "   1. Go to https://www.Python.org/downloads/ on your internet browser.\n",
    "   2. Click on the button that says \"Download Python\" followed by the latest version number.\n",
    "   3. Save the application at the desired location on your hard drive.\n",
    "   4. Run the installer and follow its prompts and instructions.\n",
    "   5. After a successful setup, go to your applicatons menu, and open the app called \"IDLE\" under the Python folder.\n",
    "   6. This is Python's \"Integrated Development and Learning Environment\", in which you can write Python programs.\n",
    "   7. Good job! You have successfully downloaded and installed Python onto your computer.\n",
    "\n",
    "Now you're ready to start learning Python!"
   ]
  },
  {
   "cell_type": "markdown",
   "metadata": {},
   "source": [
    "# Good luck and have fun!"
   ]
  }
 ],
 "metadata": {
  "kernelspec": {
   "display_name": "Python 3 (ipykernel)",
   "language": "python",
   "name": "python3"
  },
  "language_info": {
   "codemirror_mode": {
    "name": "ipython",
    "version": 3
   },
   "file_extension": ".py",
   "mimetype": "text/x-python",
   "name": "python",
   "nbconvert_exporter": "python",
   "pygments_lexer": "ipython3",
   "version": "3.9.6"
  }
 },
 "nbformat": 4,
 "nbformat_minor": 4
}
