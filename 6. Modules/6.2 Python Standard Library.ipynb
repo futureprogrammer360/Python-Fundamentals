{
 "cells": [
  {
   "cell_type": "markdown",
   "id": "tested-square",
   "metadata": {},
   "source": [
    "# Python standard library\n",
    "There are hundreds of modules built into Python when you installed the interpreter onto your computer. These can be used anytime we want without any installation.\n",
    "\n",
    "In this lesson, we will explore a few of the most useful modules included in the Python standard library. These will come in handy whenever you write any programs."
   ]
  },
  {
   "cell_type": "markdown",
   "id": "republican-repeat",
   "metadata": {},
   "source": [
    "## `random` module\n",
    "If you've been following along the course, then you should already be somewhat familiar with the `random` module, which we've used in multiple projects. It's a builtin module that came with Python, which is why we can just import it to use its functions."
   ]
  },
  {
   "cell_type": "code",
   "execution_count": 1,
   "id": "younger-persian",
   "metadata": {},
   "outputs": [],
   "source": [
    "import random"
   ]
  },
  {
   "cell_type": "markdown",
   "id": "composite-paper",
   "metadata": {},
   "source": [
    "### `random.randint()`\n",
    "This is perhaps the most used function in the `random` module. `random.randint(a, b)` returns a random integer between `a` and `b`, both endpoints included."
   ]
  },
  {
   "cell_type": "code",
   "execution_count": 2,
   "id": "bridal-difference",
   "metadata": {
    "scrolled": true
   },
   "outputs": [
    {
     "name": "stdout",
     "output_type": "stream",
     "text": [
      "5 3 7 3 7 6 2 7 9 9 3 2 5 3 1 6 6 2 6 4 \n",
      "0 -9 4 6 -1 -8 -5 7 9 -2 8 -6 8 3 -2 -9 4 8 -6 5 "
     ]
    }
   ],
   "source": [
    "for i in range(20):\n",
    "    print(random.randint(1, 9), end=\" \")\n",
    "print()\n",
    "\n",
    "for i in range(20):\n",
    "    print(random.randint(-9, 9), end=\" \")"
   ]
  },
  {
   "cell_type": "markdown",
   "id": "defined-alabama",
   "metadata": {},
   "source": [
    "### `random.choice()`\n",
    "The `random.choice()` function is quite useful when you want a random element chosen from a sequence. Just pass the sequence (list, tuple, etc) into the function and the function will return a random element from that sequence."
   ]
  },
  {
   "cell_type": "code",
   "execution_count": 3,
   "id": "informed-schedule",
   "metadata": {},
   "outputs": [
    {
     "name": "stdout",
     "output_type": "stream",
     "text": [
      "R\n",
      "JavaScript\n",
      "Swift\n",
      "Swift\n",
      "JavaScript\n",
      "\n",
      "O N T Y ! "
     ]
    }
   ],
   "source": [
    "a_list = [\"Python\", \"C++\", \"C\", \"Swift\", \"JavaScript\", \"R\", \"SQL\"]\n",
    "for i in range(5):\n",
    "    print(random.choice(a_list))\n",
    "print()\n",
    "\n",
    "a_string = \"PYTHON!\"\n",
    "for i in range(5):\n",
    "    print(random.choice(a_string), end=\" \")"
   ]
  },
  {
   "cell_type": "markdown",
   "id": "sunrise-crest",
   "metadata": {},
   "source": [
    "### `random.shuffle()`\n",
    "The `random.shuffle` function shuffles a list (not a tuple, since a tuple cannot be modified) **in place**. The original list passed in is changed, **no new list is returned**."
   ]
  },
  {
   "cell_type": "code",
   "execution_count": 4,
   "id": "alpha-sweden",
   "metadata": {},
   "outputs": [
    {
     "name": "stdout",
     "output_type": "stream",
     "text": [
      "['A', 'B', 'C', 'D', 'E', 'F']\n",
      "['C', 'D', 'B', 'A', 'E', 'F']\n"
     ]
    }
   ],
   "source": [
    "another_list = [\"A\", \"B\", \"C\", \"D\", \"E\", \"F\"]\n",
    "print(another_list)\n",
    "random.shuffle(another_list)\n",
    "print(another_list)"
   ]
  },
  {
   "cell_type": "markdown",
   "id": "standard-devices",
   "metadata": {},
   "source": [
    "There are many more functions in the `random` module, which you can learn about here: [here](https://docs.python.org/3/library/random.html)"
   ]
  },
  {
   "cell_type": "markdown",
   "id": "seventh-position",
   "metadata": {},
   "source": [
    "## `math` module\n",
    "Computers do math really well, and as such, Python has a builtin module just for math!"
   ]
  },
  {
   "cell_type": "code",
   "execution_count": 5,
   "id": "terminal-metropolitan",
   "metadata": {},
   "outputs": [],
   "source": [
    "import math"
   ]
  },
  {
   "cell_type": "markdown",
   "id": "searching-yorkshire",
   "metadata": {},
   "source": [
    "### `math` module constants\n",
    "Python's `math` module has a few variables that represents math constants."
   ]
  },
  {
   "cell_type": "code",
   "execution_count": 6,
   "id": "wound-turner",
   "metadata": {},
   "outputs": [
    {
     "name": "stdout",
     "output_type": "stream",
     "text": [
      "3.141592653589793\n",
      "2.718281828459045\n",
      "inf\n",
      "nan\n",
      "6.283185307179586\n"
     ]
    }
   ],
   "source": [
    "print(math.pi)\n",
    "print(math.e)\n",
    "print(math.inf)\n",
    "print(math.nan)\n",
    "print(math.tau)"
   ]
  },
  {
   "cell_type": "markdown",
   "id": "drawn-canon",
   "metadata": {},
   "source": [
    "### `math.degrees()`, `math.radians()`\n",
    "* The `math.degrees()` function converts an angle from radians to degrees.\n",
    "* The `math.radians()` function converts an angle from degrees to radians."
   ]
  },
  {
   "cell_type": "code",
   "execution_count": 7,
   "id": "combined-professional",
   "metadata": {},
   "outputs": [
    {
     "name": "stdout",
     "output_type": "stream",
     "text": [
      "3.141592653589793\n",
      "5.602506898901797\n",
      "360.0\n",
      "225.0\n"
     ]
    }
   ],
   "source": [
    "print(math.radians(180))  # 180 degress to ___ radians\n",
    "print(math.radians(321))  # 321 degrees to ___ radians\n",
    "\n",
    "print(math.degrees(2 * math.pi))  # 2π radians to ___ degrees\n",
    "print(math.degrees(5 * math.pi / 4))  # 5π/4 radians to ___ degrees"
   ]
  },
  {
   "cell_type": "markdown",
   "id": "african-relief",
   "metadata": {},
   "source": [
    "### `math.sin()`, `math.cos()`, `math.tan()`\n",
    "Python's `math` modules provides the `math.sin()`, `math.cos()`, and `math.tan()` functions for trigonometry. They all take an angle value as parameters (*in radians*) and returns the sine, cosine and tangent of that number."
   ]
  },
  {
   "cell_type": "code",
   "execution_count": 8,
   "id": "lyric-surname",
   "metadata": {},
   "outputs": [
    {
     "name": "stdout",
     "output_type": "stream",
     "text": [
      "1.0\n",
      "1.0\n",
      "0.5773502691896257\n"
     ]
    }
   ],
   "source": [
    "print(math.sin(math.pi / 2))\n",
    "print(math.cos(-12 * math.pi))\n",
    "print(math.tan(math.radians(30)))"
   ]
  },
  {
   "cell_type": "markdown",
   "id": "registered-fraud",
   "metadata": {},
   "source": [
    "The `math` module also has many other trigonometric functions, like arc sine, arc cosine, arc tangent, inverse hyperbolic sine, inverse hyperbolic cosine, inverse hyperbolic tangent, etc."
   ]
  },
  {
   "cell_type": "markdown",
   "id": "thousand-greek",
   "metadata": {},
   "source": [
    "### Combinations and permutations\n",
    "While perhaps not the most used among the `math` module functions, the module has the `math.comb()` and `math.perm()` functions.\n",
    "* The `math.comb(a, b)` function returns the number of ways to pick `b` unordered items from `a` items without order and without repeats.\n",
    "* The `math.perm(a, b)` function returns the number of ways to choose `b` items from `a` items with order and without repeats."
   ]
  },
  {
   "cell_type": "code",
   "execution_count": 9,
   "id": "adjusted-liberal",
   "metadata": {},
   "outputs": [
    {
     "name": "stdout",
     "output_type": "stream",
     "text": [
      "3\n",
      "6\n"
     ]
    }
   ],
   "source": [
    "print(math.comb(3, 2))\n",
    "print(math.perm(3, 2))"
   ]
  },
  {
   "cell_type": "markdown",
   "id": "conscious-kingston",
   "metadata": {},
   "source": [
    "There are many more functions in the `math` module, which you can learn about here: [here](https://docs.python.org/3/library/math.html)"
   ]
  },
  {
   "cell_type": "markdown",
   "id": "animated-raising",
   "metadata": {},
   "source": [
    "## `os` module\n",
    "The `os` module is your go-to module when it comes to interacting with your operating system. It allows us to manage files and folders."
   ]
  },
  {
   "cell_type": "code",
   "execution_count": 10,
   "id": "parallel-spelling",
   "metadata": {},
   "outputs": [],
   "source": [
    "import os"
   ]
  },
  {
   "cell_type": "markdown",
   "id": "harmful-saturn",
   "metadata": {},
   "source": [
    "### `os.listdir()` function\n",
    "The `os.listdir()` function returns a list of all directories and files in the specified directory (by default it's the current working directory)."
   ]
  },
  {
   "cell_type": "code",
   "execution_count": 11,
   "id": "instrumental-opportunity",
   "metadata": {},
   "outputs": [
    {
     "name": "stdout",
     "output_type": "stream",
     "text": [
      "['6.1 Introduction to Modules.ipynb', '6.2 Python Standard Library.ipynb', '6.3 Third Party Modules & Packages.ipynb', 'main.py', 'module.py', 'Test Folder']\n",
      "\n",
      "['Another Folder', 'text.txt']\n"
     ]
    }
   ],
   "source": [
    "print(os.listdir())\n",
    "print()\n",
    "print(os.listdir(\"Test Folder\"))\n",
    "# Folder structure:\n",
    "# │   6.1 Introduction to Modules.ipynb\n",
    "# │   6.2 Python Standard Library.ipynb\n",
    "# │   6.3 Third Party Modules & Packages.ipynb\n",
    "# │   main.py\n",
    "# │   module.py\n",
    "# │\n",
    "# └───Test Folder\n",
    "#     │   text.txt\n",
    "#     │\n",
    "#     └───Another Folder"
   ]
  },
  {
   "cell_type": "markdown",
   "id": "aggregate-culture",
   "metadata": {},
   "source": [
    "There are many more functions in the `os` module, which you can learn about here: [here](https://docs.python.org/3/library/os.html)"
   ]
  },
  {
   "cell_type": "markdown",
   "id": "distinct-atlas",
   "metadata": {},
   "source": [
    "# Summary\n",
    "It would take a *long long* time if we talk about all the modules Python has builtin, and each of them has many many attributes. This video has demonstrated some of the most used functions built into Python, but this is by no mean a complete list. Let's get started importing!"
   ]
  }
 ],
 "metadata": {
  "kernelspec": {
   "display_name": "Python 3 (ipykernel)",
   "language": "python",
   "name": "python3"
  },
  "language_info": {
   "codemirror_mode": {
    "name": "ipython",
    "version": 3
   },
   "file_extension": ".py",
   "mimetype": "text/x-python",
   "name": "python",
   "nbconvert_exporter": "python",
   "pygments_lexer": "ipython3",
   "version": "3.9.6"
  }
 },
 "nbformat": 4,
 "nbformat_minor": 5
}
