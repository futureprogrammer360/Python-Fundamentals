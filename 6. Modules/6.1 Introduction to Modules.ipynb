{
 "cells": [
  {
   "cell_type": "markdown",
   "metadata": {},
   "source": [
    "# Modules\n",
    "One of the things that make Python such a favored and beloved language is it being a modular programming language. With an enormous number of builtin and third party modules, amazing programs can be made, whether it be machine learning, artificial intelligence, data science, web scraping, game development, or anything else. In this lesson, you will be learn all about modules and how they work."
   ]
  },
  {
   "cell_type": "markdown",
   "metadata": {},
   "source": [
    "## What are modules?\n",
    "You can think of a module as a library full of code that you can use over and over again. In most programming languages, this is done by separating code into different files which we can reuse at any later time. In Python, modules can be *builtin*, *user-defined*, or *installed*.\n",
    "\n",
    "Modules are really useful in organizing code. For instance, when writing a large program, it is ideal to separate related parts into their own files for easier access and debugging."
   ]
  },
  {
   "cell_type": "markdown",
   "metadata": {},
   "source": [
    "## Making a module\n",
    "Any file with a file extension `.py` can be considered a module. Any code in a `.py` file (i.e. variables, functions, classes, etc) can be used in other modules."
   ]
  },
  {
   "cell_type": "code",
   "execution_count": 1,
   "metadata": {},
   "outputs": [],
   "source": [
    "# module.py\n",
    "x = 2\n",
    "\n",
    "def my_function(num):\n",
    "    print(str(num) + \"!\")\n",
    "\n",
    "class C:\n",
    "    a = True"
   ]
  },
  {
   "cell_type": "markdown",
   "metadata": {},
   "source": [
    "## Importing\n",
    "To use a module, we need to first import that module into our program. To import a module, simply put `import m` at the top of a file, where `m` is the name of the module."
   ]
  },
  {
   "cell_type": "code",
   "execution_count": 2,
   "metadata": {},
   "outputs": [],
   "source": [
    "# main.py\n",
    "import module"
   ]
  },
  {
   "cell_type": "markdown",
   "metadata": {},
   "source": [
    "## Using members of a module\n",
    "To reference a member of a module (variable, function, class, etc), use the syntax `module.member`. If you're calling a function, just add a parenthesis at the end. Objects from another module can be used just like how you'd normally use any other object (variable assignment, modification, iteration, etc)."
   ]
  },
  {
   "cell_type": "code",
   "execution_count": 3,
   "metadata": {},
   "outputs": [
    {
     "name": "stdout",
     "output_type": "stream",
     "text": [
      "2\n",
      "2!\n",
      "True\n",
      "4\n"
     ]
    }
   ],
   "source": [
    "print(module.x)  # Would print 2\n",
    "module.my_function(2)  # Would print 2!\n",
    "print(module.C.a)  # Would print True\n",
    "\n",
    "module.x += 2\n",
    "print(module.x)  # Would print 4"
   ]
  },
  {
   "cell_type": "markdown",
   "metadata": {},
   "source": [
    "## Import `from` module\n",
    "Oftentimes, we don't need *everything* from a module, so importing certain objects from that module would increase speed and increase readability."
   ]
  },
  {
   "cell_type": "code",
   "execution_count": 4,
   "metadata": {},
   "outputs": [
    {
     "name": "stdout",
     "output_type": "stream",
     "text": [
      "4\n",
      "2!\n"
     ]
    }
   ],
   "source": [
    "from module import x, my_function\n",
    "\n",
    "print(x)  # No need for module. anymore!\n",
    "my_function(2)"
   ]
  },
  {
   "cell_type": "markdown",
   "metadata": {},
   "source": [
    "As you can see, importing parts of a module allows us to omit the module name."
   ]
  },
  {
   "cell_type": "markdown",
   "metadata": {},
   "source": [
    "### Import *everything* from module\n",
    "We can use the syntax `from module import *` to import everything from a module."
   ]
  },
  {
   "cell_type": "code",
   "execution_count": 5,
   "metadata": {},
   "outputs": [
    {
     "name": "stdout",
     "output_type": "stream",
     "text": [
      "True\n"
     ]
    }
   ],
   "source": [
    "from module import *\n",
    "\n",
    "print(C.a)  # No need for module. either"
   ]
  },
  {
   "cell_type": "markdown",
   "metadata": {},
   "source": [
    "## Aliasing modules using `as`\n",
    "When importing a module, we can rename it using the `as` keyword. This allows us to write shorter code and in certain situations, follow standard convention."
   ]
  },
  {
   "cell_type": "code",
   "execution_count": 6,
   "metadata": {},
   "outputs": [
    {
     "name": "stdout",
     "output_type": "stream",
     "text": [
      "4\n",
      "4\n"
     ]
    }
   ],
   "source": [
    "import module as m\n",
    "\n",
    "print(m.x)\n",
    "print(module.x)  # Would raise NameError in a normal situation\n",
    "                 # In this notebook, module was already defined\n",
    "                 # in a previous cell, so no error is raised"
   ]
  },
  {
   "cell_type": "markdown",
   "metadata": {},
   "source": [
    "## Check module members using `dir()` function\n",
    "To check the members of a module, you can use the `dir()` function, with the module as the parameter passed in."
   ]
  },
  {
   "cell_type": "code",
   "execution_count": 7,
   "metadata": {},
   "outputs": [
    {
     "name": "stdout",
     "output_type": "stream",
     "text": [
      "['C', '__builtins__', '__cached__', '__doc__', '__file__', '__loader__', '__name__', '__package__', '__spec__', 'my_function', 'x']\n"
     ]
    }
   ],
   "source": [
    "import module\n",
    "\n",
    "print(dir(module))  # List of strings of module's members\n",
    "                    # Notice C, my_function, and x"
   ]
  },
  {
   "cell_type": "markdown",
   "metadata": {},
   "source": [
    "# Summary\n",
    "Modules are really useful. Likely more useful than you can possibly imagine right now. In the next lesson, we will be talking about a few standard builtin modules that you can use to improve your programs. After that, we will briefly talk about third-party libraries, packages, and modules. To end the lesson, today we talked about:\n",
    "* What are modules?\n",
    "* Making a module\n",
    "* Importing a module\n",
    "    * Importing `from` a module\n",
    "        * Importing `*` from a module\n",
    "    * Renaming modules when importing\n",
    "* Checking module members using `dir` function"
   ]
  }
 ],
 "metadata": {
  "kernelspec": {
   "display_name": "Python 3 (ipykernel)",
   "language": "python",
   "name": "python3"
  },
  "language_info": {
   "codemirror_mode": {
    "name": "ipython",
    "version": 3
   },
   "file_extension": ".py",
   "mimetype": "text/x-python",
   "name": "python",
   "nbconvert_exporter": "python",
   "pygments_lexer": "ipython3",
   "version": "3.9.6"
  }
 },
 "nbformat": 4,
 "nbformat_minor": 4
}
