{
 "cells": [
  {
   "cell_type": "markdown",
   "id": "fe6fd427",
   "metadata": {},
   "source": [
    "# Third-Party Modules and Packages\n",
    "The reason why Python is so popular in areas like artifical intelligence, machine learning, data science, game development, web applications, etc, is due to the high number of Python third-party packages that anyone can install and use. Today we will take a look at how we can install any third-party packages/modules and use them."
   ]
  },
  {
   "cell_type": "markdown",
   "id": "80e9171b",
   "metadata": {},
   "source": [
    "## What are third-party modules?\n",
    "Python is *open-source*, so anyone anywhere can actively contribute to the Python ecosystem. Many programmers around the world make their projects available to everyone else by uploading them onto the internet so other developers can install and use them."
   ]
  },
  {
   "cell_type": "markdown",
   "id": "b34e0324",
   "metadata": {},
   "source": [
    "## `pip`\n",
    "`pip` stands for the \"preferred installer program\", which is included in the Python installation by default starting with Python version 3.4. Using `pip`, we can install, uninstall, and manage third-party Python programs."
   ]
  },
  {
   "cell_type": "markdown",
   "id": "7e4529e6",
   "metadata": {},
   "source": [
    "### Add `pip` to PATH\n",
    "Enter `pip` into your **command prompt or terminal**, if you get the error `'pip' is not recognized as an internal or external command, operable program or batch file.`, then you'll need to add `pip` to your Windows PATH so you can easily access it. Below are 3 ways to do so (try them in the order written):\n",
    "1. **Using CMD command:**\n",
    "    1. Search for `cmd` or `command prompt` in your start menu, and open the application.\n",
    "    2. Find your Python `Scripts` path, usually located at `%LocalAppData%\\Programs\\Python\\PythonXX\\Scripts`, where `XX` is your Python version (`39` for Python 3.9).\n",
    "    3. Type in `SETX PATH \"%PATH%Scripts;\"`, replacing `Scripts` with the actual path you found in step 2. If you have Python version 3.9 and your Python installation is at the default location, you can enter `SETX PATH \"%PATH%%LocalAppData%\\Programs\\Python\\Python39\\Scripts;\"`\n",
    "    4. Try `pip` in a **new instance** of command prompt. If an error is still reported, try method 2.\n",
    "\n",
    "\n",
    "2. **Manually editing `PATH`**\n",
    "    1. Find your Python `Scripts` path, usually located at `%LocalAppData%\\Programs\\Python\\PythonXX\\Scripts`, where `XX` is your Python version (`39` for Python 3.9).\n",
    "    2. Search for `Edit the system environment variables` in your start menu, and press `Enter`.\n",
    "    3. In the `System Properties` window that opens, click on `Environment Variables`.\n",
    "    4. Under `User variables`...\n",
    "        1. If `Path` is present in the list, double-click it. Click on `New`, and paste in the `Scripts` path you found in step 1.\n",
    "        2. Otherwise, click `New...`. Enter `Path` as Variable name, and the `Scripts` path as the Variable value.\n",
    "    5. Click `OK` until all windows close.\n",
    "    6. Try `pip` in a **new instance** of command prompt. If an error is still reported, try method 3.\n",
    "\n",
    "\n",
    "3. **Reinstalling Python**\n",
    "    1. Uninstall Python from your computer.\n",
    "    2. Download the installer for your Python version at https://www.python.org/downloads/ and run it. ***Make sure to check the box `Add Python X to PATH`***.\n",
    "    \n",
    "If none of the above options work for you, try using the command `py -m pip` instead of `pip`."
   ]
  },
  {
   "cell_type": "markdown",
   "id": "1e8d2479",
   "metadata": {},
   "source": [
    "### `pip install`\n",
    "The most used functionality of `pip` is installing Python packages from the internet. For that, we use the `pip install X` command, where `X` is the name of the package.\n",
    "\n",
    "Using the popular data science package `numpy` as example, we use the command `pip install numpy` to install it. **This is done in a terminal, NOT a Python file/shell**."
   ]
  },
  {
   "cell_type": "code",
   "execution_count": 1,
   "id": "4bd0ce17",
   "metadata": {
    "scrolled": true
   },
   "outputs": [
    {
     "name": "stdout",
     "output_type": "stream",
     "text": [
      "['ALLOW_THREADS', 'AxisError', 'BUFSIZE', 'CLIP', 'ComplexWarning', 'DataSource', 'ERR_CALL', 'ERR_DEFAULT', 'ERR_IGNORE', 'ERR_LOG', 'ERR_PRINT', 'ERR_RAISE', 'ERR_WARN', 'FLOATING_POINT_SUPPORT', 'FPE_DIVIDEBYZERO', 'FPE_INVALID', 'FPE_OVERFLOW', 'FPE_UNDERFLOW', 'False_', 'Inf', 'Infinity', 'MAXDIMS', 'MAY_SHARE_BOUNDS', 'MAY_SHARE_EXACT', 'MachAr', 'ModuleDeprecationWarning', 'NAN', 'NINF', 'NZERO', 'NaN', 'PINF', 'PZERO', 'RAISE', 'RankWarning', 'SHIFT_DIVIDEBYZERO', 'SHIFT_INVALID', 'SHIFT_OVERFLOW', 'SHIFT_UNDERFLOW', 'ScalarType', 'Tester', 'TooHardError', 'True_', 'UFUNC_BUFSIZE_DEFAULT', 'UFUNC_PYVALS_NAME', 'VisibleDeprecationWarning', 'WRAP', '_NoValue', '_UFUNC_API', '__NUMPY_SETUP__', '__all__', '__builtins__', '__cached__', '__config__', '__dir__', '__doc__', '__file__', '__getattr__', '__git_revision__', '__loader__', '__name__', '__package__', '__path__', '__spec__', '__version__', '_add_newdoc_ufunc', '_distributor_init', '_globals', '_mat', '_pytesttester', 'abs', 'absolute', 'add', 'add_docstring', 'add_newdoc', 'add_newdoc_ufunc', 'alen', 'all', 'allclose', 'alltrue', 'amax', 'amin', 'angle', 'any', 'append', 'apply_along_axis', 'apply_over_axes', 'arange', 'arccos', 'arccosh', 'arcsin', 'arcsinh', 'arctan', 'arctan2', 'arctanh', 'argmax', 'argmin', 'argpartition', 'argsort', 'argwhere', 'around', 'array', 'array2string', 'array_equal', 'array_equiv', 'array_repr', 'array_split', 'array_str', 'asanyarray', 'asarray', 'asarray_chkfinite', 'ascontiguousarray', 'asfarray', 'asfortranarray', 'asmatrix', 'asscalar', 'atleast_1d', 'atleast_2d', 'atleast_3d', 'average', 'bartlett', 'base_repr', 'binary_repr', 'bincount', 'bitwise_and', 'bitwise_not', 'bitwise_or', 'bitwise_xor', 'blackman', 'block', 'bmat', 'bool', 'bool8', 'bool_', 'broadcast', 'broadcast_arrays', 'broadcast_to', 'busday_count', 'busday_offset', 'busdaycalendar', 'byte', 'byte_bounds', 'bytes0', 'bytes_', 'c_', 'can_cast', 'cast', 'cbrt', 'cdouble', 'ceil', 'cfloat', 'char', 'character', 'chararray', 'choose', 'clip', 'clongdouble', 'clongfloat', 'column_stack', 'common_type', 'compare_chararrays', 'compat', 'complex', 'complex128', 'complex64', 'complex_', 'complexfloating', 'compress', 'concatenate', 'conj', 'conjugate', 'convolve', 'copy', 'copysign', 'copyto', 'core', 'corrcoef', 'correlate', 'cos', 'cosh', 'count_nonzero', 'cov', 'cross', 'csingle', 'ctypeslib', 'cumprod', 'cumproduct', 'cumsum', 'datetime64', 'datetime_as_string', 'datetime_data', 'deg2rad', 'degrees', 'delete', 'deprecate', 'deprecate_with_doc', 'diag', 'diag_indices', 'diag_indices_from', 'diagflat', 'diagonal', 'diff', 'digitize', 'disp', 'divide', 'divmod', 'dot', 'double', 'dsplit', 'dstack', 'dtype', 'e', 'ediff1d', 'einsum', 'einsum_path', 'emath', 'empty', 'empty_like', 'equal', 'errstate', 'euler_gamma', 'exp', 'exp2', 'expand_dims', 'expm1', 'extract', 'eye', 'fabs', 'fastCopyAndTranspose', 'fft', 'fill_diagonal', 'find_common_type', 'finfo', 'fix', 'flatiter', 'flatnonzero', 'flexible', 'flip', 'fliplr', 'flipud', 'float', 'float16', 'float32', 'float64', 'float_', 'float_power', 'floating', 'floor', 'floor_divide', 'fmax', 'fmin', 'fmod', 'format_float_positional', 'format_float_scientific', 'format_parser', 'frexp', 'frombuffer', 'fromfile', 'fromfunction', 'fromiter', 'frompyfunc', 'fromregex', 'fromstring', 'full', 'full_like', 'fv', 'gcd', 'generic', 'genfromtxt', 'geomspace', 'get_array_wrap', 'get_include', 'get_printoptions', 'getbufsize', 'geterr', 'geterrcall', 'geterrobj', 'gradient', 'greater', 'greater_equal', 'half', 'hamming', 'hanning', 'heaviside', 'histogram', 'histogram2d', 'histogram_bin_edges', 'histogramdd', 'hsplit', 'hstack', 'hypot', 'i0', 'identity', 'iinfo', 'imag', 'in1d', 'index_exp', 'indices', 'inexact', 'inf', 'info', 'infty', 'inner', 'insert', 'int', 'int0', 'int16', 'int32', 'int64', 'int8', 'int_', 'intc', 'integer', 'interp', 'intersect1d', 'intp', 'invert', 'ipmt', 'irr', 'is_busday', 'isclose', 'iscomplex', 'iscomplexobj', 'isfinite', 'isfortran', 'isin', 'isinf', 'isnan', 'isnat', 'isneginf', 'isposinf', 'isreal', 'isrealobj', 'isscalar', 'issctype', 'issubclass_', 'issubdtype', 'issubsctype', 'iterable', 'ix_', 'kaiser', 'kron', 'lcm', 'ldexp', 'left_shift', 'less', 'less_equal', 'lexsort', 'lib', 'linalg', 'linspace', 'little_endian', 'load', 'loads', 'loadtxt', 'log', 'log10', 'log1p', 'log2', 'logaddexp', 'logaddexp2', 'logical_and', 'logical_not', 'logical_or', 'logical_xor', 'logspace', 'long', 'longcomplex', 'longdouble', 'longfloat', 'longlong', 'lookfor', 'ma', 'mafromtxt', 'mask_indices', 'mat', 'math', 'matmul', 'matrix', 'matrixlib', 'max', 'maximum', 'maximum_sctype', 'may_share_memory', 'mean', 'median', 'memmap', 'meshgrid', 'mgrid', 'min', 'min_scalar_type', 'minimum', 'mintypecode', 'mirr', 'mod', 'modf', 'moveaxis', 'msort', 'multiply', 'nan', 'nan_to_num', 'nanargmax', 'nanargmin', 'nancumprod', 'nancumsum', 'nanmax', 'nanmean', 'nanmedian', 'nanmin', 'nanpercentile', 'nanprod', 'nanquantile', 'nanstd', 'nansum', 'nanvar', 'nbytes', 'ndarray', 'ndenumerate', 'ndfromtxt', 'ndim', 'ndindex', 'nditer', 'negative', 'nested_iters', 'newaxis', 'nextafter', 'nonzero', 'not_equal', 'nper', 'npv', 'numarray', 'number', 'obj2sctype', 'object', 'object0', 'object_', 'ogrid', 'oldnumeric', 'ones', 'ones_like', 'os', 'outer', 'packbits', 'pad', 'partition', 'percentile', 'pi', 'piecewise', 'place', 'pmt', 'poly', 'poly1d', 'polyadd', 'polyder', 'polydiv', 'polyfit', 'polyint', 'polymul', 'polynomial', 'polysub', 'polyval', 'positive', 'power', 'ppmt', 'printoptions', 'prod', 'product', 'promote_types', 'ptp', 'put', 'put_along_axis', 'putmask', 'pv', 'quantile', 'r_', 'rad2deg', 'radians', 'random', 'rate', 'ravel', 'ravel_multi_index', 'real', 'real_if_close', 'rec', 'recarray', 'recfromcsv', 'recfromtxt', 'reciprocal', 'record', 'remainder', 'repeat', 'require', 'reshape', 'resize', 'result_type', 'right_shift', 'rint', 'roll', 'rollaxis', 'roots', 'rot90', 'round', 'round_', 'row_stack', 's_', 'safe_eval', 'save', 'savetxt', 'savez', 'savez_compressed', 'sctype2char', 'sctypeDict', 'sctypeNA', 'sctypes', 'searchsorted', 'select', 'set_numeric_ops', 'set_printoptions', 'set_string_function', 'setbufsize', 'setdiff1d', 'seterr', 'seterrcall', 'seterrobj', 'setxor1d', 'shape', 'shares_memory', 'short', 'show_config', 'sign', 'signbit', 'signedinteger', 'sin', 'sinc', 'single', 'singlecomplex', 'sinh', 'size', 'sometrue', 'sort', 'sort_complex', 'source', 'spacing', 'split', 'sqrt', 'square', 'squeeze', 'stack', 'std', 'str', 'str0', 'str_', 'string_', 'subtract', 'sum', 'swapaxes', 'sys', 'take', 'take_along_axis', 'tan', 'tanh', 'tensordot', 'test', 'testing', 'tile', 'timedelta64', 'trace', 'tracemalloc_domain', 'transpose', 'trapz', 'tri', 'tril', 'tril_indices', 'tril_indices_from', 'trim_zeros', 'triu', 'triu_indices', 'triu_indices_from', 'true_divide', 'trunc', 'typeDict', 'typeNA', 'typecodes', 'typename', 'ubyte', 'ufunc', 'uint', 'uint0', 'uint16', 'uint32', 'uint64', 'uint8', 'uintc', 'uintp', 'ulonglong', 'unicode', 'unicode_', 'union1d', 'unique', 'unpackbits', 'unravel_index', 'unsignedinteger', 'unwrap', 'use_hugepage', 'ushort', 'vander', 'var', 'vdot', 'vectorize', 'version', 'void', 'void0', 'vsplit', 'vstack', 'warnings', 'where', 'who', 'zeros', 'zeros_like']\n"
     ]
    }
   ],
   "source": [
    "# Import numpy after installing it\n",
    "import numpy as np  # Standard convention\n",
    "print(dir(np))"
   ]
  },
  {
   "cell_type": "markdown",
   "id": "aae91505",
   "metadata": {},
   "source": [
    "### Other `pip` commands\n",
    "Typing `pip` directly in command prompt outputs a list of valid commands and brief descriptions. Here are some of the most important ones:\n",
    "* `pip uninstall`: Uninstalls specified packages.\n",
    "* `pip show`: Displays information about specified *installed* packages.\n",
    "* `pip list`: Lists installed packages and their versions.\n",
    "* `pip freeze`: Generates list of installed packages in `requirements.txt` format."
   ]
  },
  {
   "cell_type": "markdown",
   "id": "22aa220c",
   "metadata": {},
   "source": [
    "## Python Package Index\n",
    "How can we find Python packages and details about them? For that, we can use the *Python Package Index*, abbreviated `PyPI`. It allows Python developers to \"[f]ind, install and publish Python packages\". You can reach its website at https://pypi.org/."
   ]
  },
  {
   "cell_type": "markdown",
   "id": "f43ff0f3",
   "metadata": {},
   "source": [
    "## Summary\n",
    "Finally, you wield the true powers of Python. Python third-party packages lay the foundation for some of the world's most powerful technologies. The only limit now, is your imagination and creativity."
   ]
  }
 ],
 "metadata": {
  "kernelspec": {
   "display_name": "Python 3 (ipykernel)",
   "language": "python",
   "name": "python3"
  },
  "language_info": {
   "codemirror_mode": {
    "name": "ipython",
    "version": 3
   },
   "file_extension": ".py",
   "mimetype": "text/x-python",
   "name": "python",
   "nbconvert_exporter": "python",
   "pygments_lexer": "ipython3",
   "version": "3.9.6"
  }
 },
 "nbformat": 4,
 "nbformat_minor": 5
}
