{
 "cells": [
  {
   "cell_type": "markdown",
   "metadata": {},
   "source": [
    "# Rock Paper Scissors\n",
    "Today, we will be writing a Python program for rock paper scissors!"
   ]
  },
  {
   "cell_type": "markdown",
   "metadata": {},
   "source": [
    "## Goals\n",
    "* Allow user to enter choice (rock, paper, scissors)\n",
    "* Compare user input with computer choice\n",
    "* Show winner!"
   ]
  },
  {
   "cell_type": "markdown",
   "metadata": {},
   "source": [
    "## Key concepts\n",
    "* Functions\n",
    "* Control flow\n",
    "    * Loops\n",
    "    * Conditionals\n",
    "* Input/Output\n",
    "* `random` module"
   ]
  },
  {
   "cell_type": "markdown",
   "metadata": {},
   "source": [
    "## Brief overview of `random` module\n",
    "For now, don't worry too much about what the `random` module does or how it works - modules will be covered in depth later in the course! For this project, you will use the `randint()` function of the `random` module.\n",
    "\n",
    "Before we use that function, we need to import the module by writing `import random` at the top of the program. `random(a, b)` returns a random number between `a` and `b`, including both endpoints."
   ]
  },
  {
   "cell_type": "code",
   "execution_count": 1,
   "metadata": {},
   "outputs": [
    {
     "name": "stdout",
     "output_type": "stream",
     "text": [
      "2 2 2 1 2 3 3 1 3 2 2 3 3 1 2 1 3 2 3 1 1 1 2 1 3 "
     ]
    }
   ],
   "source": [
    "# Import the random module\n",
    "import random\n",
    "\n",
    "for _ in range(25):\n",
    "    print(random.randint(1, 3), end=\" \")  # 1, 2, or 3"
   ]
  },
  {
   "cell_type": "markdown",
   "metadata": {},
   "source": [
    "# Happy coding and have fun!"
   ]
  }
 ],
 "metadata": {
  "kernelspec": {
   "display_name": "Python 3 (ipykernel)",
   "language": "python",
   "name": "python3"
  },
  "language_info": {
   "codemirror_mode": {
    "name": "ipython",
    "version": 3
   },
   "file_extension": ".py",
   "mimetype": "text/x-python",
   "name": "python",
   "nbconvert_exporter": "python",
   "pygments_lexer": "ipython3",
   "version": "3.9.6"
  }
 },
 "nbformat": 4,
 "nbformat_minor": 4
}
