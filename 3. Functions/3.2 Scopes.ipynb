{
 "cells": [
  {
   "cell_type": "markdown",
   "metadata": {},
   "source": [
    "# Scopes\n",
    "Today we're going to be talking about scopes in Python. Now you may wonder, what are scopes? And why are we talking about them in the functions chapter? Soon, you'll see why knowing about scopes are so important to understanding and using functions."
   ]
  },
  {
   "cell_type": "markdown",
   "metadata": {},
   "source": [
    "## Local vs global\n",
    "Examine the code cell below, and hypothesize its output."
   ]
  },
  {
   "cell_type": "code",
   "execution_count": 1,
   "metadata": {},
   "outputs": [
    {
     "name": "stdout",
     "output_type": "stream",
     "text": [
      "I was declared and initiated in the func() function\n"
     ]
    },
    {
     "ename": "NameError",
     "evalue": "name 'string' is not defined",
     "output_type": "error",
     "traceback": [
      "\u001b[1;31m---------------------------------------------------------------------------\u001b[0m",
      "\u001b[1;31mNameError\u001b[0m                                 Traceback (most recent call last)",
      "\u001b[1;32m~\\AppData\\Local\\Temp/ipykernel_71496/3502562992.py\u001b[0m in \u001b[0;36m<module>\u001b[1;34m\u001b[0m\n\u001b[0;32m      5\u001b[0m \u001b[1;33m\u001b[0m\u001b[0m\n\u001b[0;32m      6\u001b[0m \u001b[0mfunc\u001b[0m\u001b[1;33m(\u001b[0m\u001b[1;33m)\u001b[0m  \u001b[1;31m# Calling a function\u001b[0m\u001b[1;33m\u001b[0m\u001b[1;33m\u001b[0m\u001b[0m\n\u001b[1;32m----> 7\u001b[1;33m \u001b[0mprint\u001b[0m\u001b[1;33m(\u001b[0m\u001b[0mstring\u001b[0m\u001b[1;33m)\u001b[0m\u001b[1;33m\u001b[0m\u001b[1;33m\u001b[0m\u001b[0m\n\u001b[0m",
      "\u001b[1;31mNameError\u001b[0m: name 'string' is not defined"
     ]
    }
   ],
   "source": [
    "# A function\n",
    "def func():\n",
    "    string = \"I was declared and initiated in the func() function\"\n",
    "    print(string)\n",
    "\n",
    "func()  # Calling a function\n",
    "print(string)"
   ]
  },
  {
   "cell_type": "markdown",
   "metadata": {},
   "source": [
    "In the example above, the variable `string` was defined inside the `func()` function, and is therefore a **local** variable (local is `string`'s scope). As a result, `string` is only \"visible\" inside the `func()` function. When we try to use a local variable outside its function, we would either get a `NameError` or access the wrong variable."
   ]
  },
  {
   "cell_type": "markdown",
   "metadata": {},
   "source": [
    "To work around this issue, we can have the function return the local variable and access it in a global scope. The cell below has been modified for this purpose."
   ]
  },
  {
   "cell_type": "code",
   "execution_count": 2,
   "metadata": {},
   "outputs": [
    {
     "name": "stdout",
     "output_type": "stream",
     "text": [
      "Inside the function: I was declared and initiated in the func() function\n",
      "Outside the function: I was declared and initiated in the func() function\n"
     ]
    }
   ],
   "source": [
    "# A function\n",
    "def func():\n",
    "    string = \"I was declared and initiated in the func() function\"\n",
    "    print(\"Inside the function: \" + string)\n",
    "    return string\n",
    "\n",
    "string = func()  # This string is a global variable\n",
    "print(\"Outside the function: \" + string)"
   ]
  },
  {
   "cell_type": "markdown",
   "metadata": {},
   "source": [
    "## `global`\n",
    "If we need to access or modify a global variable in a function, we can use the `global` keyword inside that function. Look at the code in the cell below and think about what will be the output of the code."
   ]
  },
  {
   "cell_type": "code",
   "execution_count": 3,
   "metadata": {
    "scrolled": true
   },
   "outputs": [
    {
     "name": "stdout",
     "output_type": "stream",
     "text": [
      "5\n",
      "10\n"
     ]
    }
   ],
   "source": [
    "num = 10  # Global variable\n",
    "def func():\n",
    "    num = 5  # Local variable\n",
    "    print(num)  # This will print 5\n",
    "\n",
    "func()\n",
    "print(num)  # Global variable - this will print 10"
   ]
  },
  {
   "cell_type": "markdown",
   "metadata": {},
   "source": [
    "Let's look at this example line-by-line.\n",
    "1. Declare and initiate the ***global*** variable `num` with a value of 10.\n",
    "2. Begin the definition of the function `func()`.\n",
    "3. Assign the variable `num` a value of 5. *However*, this is a new ***local*** variable because it is inside the scope of a function.\n",
    "4. Calls the `func()` function.\n",
    "5. Prints out the value of `num`. This is the ***global*** variable `num` since the local variable cannot be accessed outside the `func()` function."
   ]
  },
  {
   "cell_type": "markdown",
   "metadata": {},
   "source": [
    "The code from the previous cell has been copied to the one below. Using the `global` keyword, we can change the program's behavior."
   ]
  },
  {
   "cell_type": "code",
   "execution_count": 4,
   "metadata": {},
   "outputs": [
    {
     "name": "stdout",
     "output_type": "stream",
     "text": [
      "5\n",
      "5\n"
     ]
    }
   ],
   "source": [
    "num = 10  # Global variable\n",
    "def func():\n",
    "    global num  # <- Notice this line!\n",
    "    num = 5  # GLOBAL variable\n",
    "    print(num)\n",
    "\n",
    "func()\n",
    "print(num)  # Global variable"
   ]
  },
  {
   "cell_type": "markdown",
   "metadata": {},
   "source": [
    "## Summary\n",
    "In this lesson, we talked about:\n",
    "* The difference between global and local variables\n",
    "* How to access local variables in the global scope\n",
    "* How to access and modify global variables in a local scope"
   ]
  }
 ],
 "metadata": {
  "kernelspec": {
   "display_name": "Python 3 (ipykernel)",
   "language": "python",
   "name": "python3"
  },
  "language_info": {
   "codemirror_mode": {
    "name": "ipython",
    "version": 3
   },
   "file_extension": ".py",
   "mimetype": "text/x-python",
   "name": "python",
   "nbconvert_exporter": "python",
   "pygments_lexer": "ipython3",
   "version": "3.9.6"
  }
 },
 "nbformat": 4,
 "nbformat_minor": 4
}
