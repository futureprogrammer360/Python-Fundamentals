{
 "cells": [
  {
   "cell_type": "markdown",
   "metadata": {},
   "source": [
    "# Default and keyword arguments\n",
    "Today, we will be exploring some of the more advanced things we can do with functions in Python: default and keyword arguments."
   ]
  },
  {
   "cell_type": "markdown",
   "metadata": {},
   "source": [
    "## Default input value\n",
    "Some arguments of our functions may have a very common value that is used the majority of time. In this case, it is ideal to give these parameters **default** values."
   ]
  },
  {
   "cell_type": "code",
   "execution_count": 1,
   "metadata": {},
   "outputs": [
    {
     "name": "stdout",
     "output_type": "stream",
     "text": [
      "Hello from planet Earth!\n"
     ]
    },
    {
     "ename": "TypeError",
     "evalue": "greeting_from_planet() missing 1 required positional argument: 'planet'",
     "output_type": "error",
     "traceback": [
      "\u001b[1;31m---------------------------------------------------------------------------\u001b[0m",
      "\u001b[1;31mTypeError\u001b[0m                                 Traceback (most recent call last)",
      "\u001b[1;32m~\\AppData\\Local\\Temp/ipykernel_21232/380445412.py\u001b[0m in \u001b[0;36m<module>\u001b[1;34m\u001b[0m\n\u001b[0;32m      4\u001b[0m \u001b[1;33m\u001b[0m\u001b[0m\n\u001b[0;32m      5\u001b[0m \u001b[0mgreeting_from_planet\u001b[0m\u001b[1;33m(\u001b[0m\u001b[1;34m\"Earth\"\u001b[0m\u001b[1;33m)\u001b[0m\u001b[1;33m\u001b[0m\u001b[1;33m\u001b[0m\u001b[0m\n\u001b[1;32m----> 6\u001b[1;33m \u001b[0mgreeting_from_planet\u001b[0m\u001b[1;33m(\u001b[0m\u001b[1;33m)\u001b[0m\u001b[1;33m\u001b[0m\u001b[1;33m\u001b[0m\u001b[0m\n\u001b[0m",
      "\u001b[1;31mTypeError\u001b[0m: greeting_from_planet() missing 1 required positional argument: 'planet'"
     ]
    }
   ],
   "source": [
    "# Without a default input value - we have to pass in a value when calling\n",
    "def greeting_from_planet(planet):\n",
    "    print(\"Hello from planet \" + planet + \"!\")\n",
    "\n",
    "greeting_from_planet(\"Earth\")\n",
    "greeting_from_planet()"
   ]
  },
  {
   "cell_type": "code",
   "execution_count": 2,
   "metadata": {},
   "outputs": [
    {
     "name": "stdout",
     "output_type": "stream",
     "text": [
      "Hello from planet Earth!\n",
      "Hello from planet Mars!\n"
     ]
    }
   ],
   "source": [
    "# With a default input value - argument planet is optional when calling\n",
    "def greeting_from_planet(planet=\"Earth\"):\n",
    "    print(\"Hello from planet \" + planet + \"!\")\n",
    "\n",
    "greeting_from_planet()  # Default value for planet is used\n",
    "greeting_from_planet(\"Mars\")"
   ]
  },
  {
   "cell_type": "markdown",
   "metadata": {},
   "source": [
    "When we want to assign a default value to a function's parameter(s), we can do that in the function's definition.\n",
    "\n",
    "If a parameter has a default value, we don't need to pass in a value for that parameter and the variable will be assigned to the default value. If we do pass in a value in the function call though, the default value will be overridden."
   ]
  },
  {
   "cell_type": "markdown",
   "metadata": {},
   "source": [
    "## Keyword Arguments"
   ]
  },
  {
   "cell_type": "markdown",
   "metadata": {},
   "source": [
    "In the functions we have written so far, the order in which we pass in the arguments in the function calls matters. Below is an example."
   ]
  },
  {
   "cell_type": "code",
   "execution_count": 3,
   "metadata": {},
   "outputs": [],
   "source": [
    "def func(input_1, input_2, input_3):\n",
    "    print(input_1 + input_2 + input_3)"
   ]
  },
  {
   "cell_type": "code",
   "execution_count": 4,
   "metadata": {},
   "outputs": [
    {
     "name": "stdout",
     "output_type": "stream",
     "text": [
      "Python is great!\n"
     ]
    }
   ],
   "source": [
    "func(\"Python\", \" is \", \"great!\")"
   ]
  },
  {
   "cell_type": "code",
   "execution_count": 5,
   "metadata": {},
   "outputs": [
    {
     "name": "stdout",
     "output_type": "stream",
     "text": [
      "great! is Python\n"
     ]
    }
   ],
   "source": [
    "func(\"great!\", \" is \", \"Python\")"
   ]
  },
  {
   "cell_type": "markdown",
   "metadata": {},
   "source": [
    "The order in which we pass in the arguments determines which function variable gets assigned which value - these are known as **positional arguments**. When calling functions with many parameters, we can use what are called **keyword arguments**."
   ]
  },
  {
   "cell_type": "code",
   "execution_count": 6,
   "metadata": {},
   "outputs": [
    {
     "name": "stdout",
     "output_type": "stream",
     "text": [
      "Python is great!\n"
     ]
    }
   ],
   "source": [
    "func(input_3=\"great!\", input_2=\" is \", input_1=\"Python\")"
   ]
  },
  {
   "cell_type": "markdown",
   "metadata": {},
   "source": [
    "Keyword arguments are useful when you don't remember the order in which parameters come in a function or when a function have default parameter values and does not require all parameters to be explicitly passed in."
   ]
  },
  {
   "cell_type": "markdown",
   "metadata": {},
   "source": [
    "## Summary\n",
    "Today, we talked about the following regarding Python functions:\n",
    "* Default input values\n",
    "* Keyword arguments"
   ]
  }
 ],
 "metadata": {
  "kernelspec": {
   "display_name": "Python 3 (ipykernel)",
   "language": "python",
   "name": "python3"
  },
  "language_info": {
   "codemirror_mode": {
    "name": "ipython",
    "version": 3
   },
   "file_extension": ".py",
   "mimetype": "text/x-python",
   "name": "python",
   "nbconvert_exporter": "python",
   "pygments_lexer": "ipython3",
   "version": "3.9.6"
  }
 },
 "nbformat": 4,
 "nbformat_minor": 4
}
