{
 "cells": [
  {
   "cell_type": "markdown",
   "metadata": {},
   "source": [
    "# Functions\n",
    "In this chapter, we will be learning about functions in Python, a ***very*** important concept in programming."
   ]
  },
  {
   "cell_type": "markdown",
   "metadata": {},
   "source": [
    "## What is a function?\n",
    "If you have taken algebra or an equivalent math class, you are likely already quite familiar with functions. Functions are made up of 3 main parts:\n",
    "1. Input\n",
    "2. Processing\n",
    "3. Output\n",
    "\n",
    "Take $f(x)=x^2$ as an example, what happens in the function? A value of $x$ is inputted into the function (input), and it is squared (processing) and then $f(x)$ is now equal to $x^2$ (output)."
   ]
  },
  {
   "cell_type": "markdown",
   "metadata": {},
   "source": [
    "## Functions in Python\n",
    "Functions in Python are just like functions in math. We can **input** something into the function, before some **processing** and actions take place, and something is **outputted**."
   ]
  },
  {
   "cell_type": "markdown",
   "metadata": {},
   "source": [
    "### Syntax\n",
    "In Python, the syntax of writing a function is as follows:"
   ]
  },
  {
   "cell_type": "code",
   "execution_count": null,
   "metadata": {},
   "outputs": [],
   "source": [
    "def function_name(input(s)):  # Define function and accept input(s)\n",
    "    statement(s)  # Processing\n",
    "    return output  # Output(s)"
   ]
  },
  {
   "cell_type": "code",
   "execution_count": 1,
   "metadata": {},
   "outputs": [],
   "source": [
    "# Here's an example function\n",
    "def greetings(name):\n",
    "    print(\"Hello \" + name + \"!\")"
   ]
  },
  {
   "cell_type": "markdown",
   "metadata": {},
   "source": [
    "When the cell above is run, you will see... nothing printed out! The reason behind that is functions are run only when they are **called**. To do that, we write the name of the function, followed by a pair of parentheses `()`."
   ]
  },
  {
   "cell_type": "code",
   "execution_count": 2,
   "metadata": {},
   "outputs": [
    {
     "ename": "TypeError",
     "evalue": "greetings() missing 1 required positional argument: 'name'",
     "output_type": "error",
     "traceback": [
      "\u001b[1;31m---------------------------------------------------------------------------\u001b[0m",
      "\u001b[1;31mTypeError\u001b[0m                                 Traceback (most recent call last)",
      "\u001b[1;32m~\\AppData\\Local\\Temp/ipykernel_49008/1051733848.py\u001b[0m in \u001b[0;36m<module>\u001b[1;34m\u001b[0m\n\u001b[0;32m      1\u001b[0m \u001b[1;31m# Calling the function\u001b[0m\u001b[1;33m\u001b[0m\u001b[1;33m\u001b[0m\u001b[1;33m\u001b[0m\u001b[0m\n\u001b[1;32m----> 2\u001b[1;33m \u001b[0mgreetings\u001b[0m\u001b[1;33m(\u001b[0m\u001b[1;33m)\u001b[0m\u001b[1;33m\u001b[0m\u001b[1;33m\u001b[0m\u001b[0m\n\u001b[0m",
      "\u001b[1;31mTypeError\u001b[0m: greetings() missing 1 required positional argument: 'name'"
     ]
    }
   ],
   "source": [
    "# Calling the function\n",
    "greetings()"
   ]
  },
  {
   "cell_type": "markdown",
   "metadata": {},
   "source": [
    "We got an error... the function was defined to accept an input called `name`, and therefore we need to pass in an input when calling the function."
   ]
  },
  {
   "cell_type": "code",
   "execution_count": 3,
   "metadata": {},
   "outputs": [
    {
     "name": "stdout",
     "output_type": "stream",
     "text": [
      "Hello Programmer!\n"
     ]
    }
   ],
   "source": [
    "# Calling the function... again - this time with an input\n",
    "greetings(\"Programmer\")"
   ]
  },
  {
   "cell_type": "markdown",
   "metadata": {},
   "source": [
    "If we define a function to accept 2 required arguments and pass in 0, 1, 3 or more arguments when calling the function, an error will be raised."
   ]
  },
  {
   "cell_type": "markdown",
   "metadata": {},
   "source": [
    "### `return`\n",
    "We can use the `return` keyword to send objects and values back out of the function. The object following the `return` keyword is known as the return value of a function."
   ]
  },
  {
   "cell_type": "code",
   "execution_count": 4,
   "metadata": {},
   "outputs": [],
   "source": [
    "def bye(name):\n",
    "    string = \"Goodbye \" + name + \"!\"\n",
    "    return string"
   ]
  },
  {
   "cell_type": "code",
   "execution_count": 5,
   "metadata": {},
   "outputs": [
    {
     "name": "stdout",
     "output_type": "stream",
     "text": [
      "Goodbye Programmer!\n"
     ]
    }
   ],
   "source": [
    "print(bye(\"Programmer\"))"
   ]
  },
  {
   "cell_type": "code",
   "execution_count": 6,
   "metadata": {},
   "outputs": [
    {
     "name": "stdout",
     "output_type": "stream",
     "text": [
      "10000\n"
     ]
    }
   ],
   "source": [
    "# Another example of returning values\n",
    "def f(x):\n",
    "    return x ** 2  # x-squared\n",
    "\n",
    "print(f(100))"
   ]
  },
  {
   "cell_type": "markdown",
   "metadata": {},
   "source": [
    "We can also perform actions inside of a function, like printing out certain messages."
   ]
  },
  {
   "cell_type": "code",
   "execution_count": 7,
   "metadata": {},
   "outputs": [
    {
     "name": "stdout",
     "output_type": "stream",
     "text": [
      "Printed from inside of the function!\n",
      "4\n",
      "Printed from inside of the function!\n",
      "1666681\n"
     ]
    }
   ],
   "source": [
    "def f(x):\n",
    "    print(\"Printed from inside of the function!\")\n",
    "    return x ** 2\n",
    "\n",
    "print(f(2))\n",
    "print(f(1291))"
   ]
  },
  {
   "cell_type": "markdown",
   "metadata": {},
   "source": [
    "## Summary\n",
    "Today, we went over the basics of functions in Python, and now you are equipped with one of the most important knowledge in programming. In future lessons, we will continue exploring the different things we can do with functions. To end the lesson, here are the things you learned about today:\n",
    "* What is a function?\n",
    "* Functions in Python\n",
    "    * Python function syntax\n",
    "    * `return`ing values from a function\n",
    "    * Performing actions in a function"
   ]
  }
 ],
 "metadata": {
  "kernelspec": {
   "display_name": "Python 3 (ipykernel)",
   "language": "python",
   "name": "python3"
  },
  "language_info": {
   "codemirror_mode": {
    "name": "ipython",
    "version": 3
   },
   "file_extension": ".py",
   "mimetype": "text/x-python",
   "name": "python",
   "nbconvert_exporter": "python",
   "pygments_lexer": "ipython3",
   "version": "3.9.6"
  }
 },
 "nbformat": 4,
 "nbformat_minor": 4
}
