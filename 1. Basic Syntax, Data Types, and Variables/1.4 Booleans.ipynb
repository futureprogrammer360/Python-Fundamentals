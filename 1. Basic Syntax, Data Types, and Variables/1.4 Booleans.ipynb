{
 "cells": [
  {
   "cell_type": "markdown",
   "metadata": {},
   "source": [
    "# Booleans\n",
    "Now that we have talked about strings and numbers in Python, it's time to discuss another very important data type: Booleans."
   ]
  },
  {
   "cell_type": "markdown",
   "metadata": {},
   "source": [
    "## An introduction to Booleans\n",
    "As mentioned before, Booleans have two possible values, which are `True` and `False`. Just like their names, they represent that either something is true, or it is false. Just like with strings and numerical data types, we can also assign a variable with a Boolean value."
   ]
  },
  {
   "cell_type": "code",
   "execution_count": 1,
   "metadata": {},
   "outputs": [
    {
     "name": "stdout",
     "output_type": "stream",
     "text": [
      "True is type <class 'bool'>\n",
      "False is type <class 'bool'>\n"
     ]
    }
   ],
   "source": [
    "something_true = True\n",
    "something_false = False\n",
    "print(something_true, \"is type\", type(something_true))\n",
    "print(something_false, \"is type\", type(something_false))"
   ]
  },
  {
   "cell_type": "markdown",
   "metadata": {},
   "source": [
    "Note that both Boolean values are capitalized. If you type `true` instead of `True` or `false` instead of `False`, you will encounter a `NameError` or a logic error."
   ]
  },
  {
   "cell_type": "markdown",
   "metadata": {},
   "source": [
    "## Comparison\n",
    "One common use of Boolean values in programming is comparison. Imagine that you have two numbers, `a` and `b`, and you want to know if they are equal to each other. This is an excellent example where Booleans are used. In python, the comparison operators are the follows:\n",
    "* `a == b`: `True` if `a` is equal to `b`\n",
    "* `a != b`: `True` if `a` is not equal to `b`\n",
    "* `a > b`: `True` if `a` is greater than `b`\n",
    "* `a < b`: `True` if `a` is less than `b`\n",
    "* `a >= b`: `True` if `a` is greater than or equal to `b`\n",
    "* `a <= b`: `True` if `a` is less than or equal to `b`"
   ]
  },
  {
   "cell_type": "code",
   "execution_count": 2,
   "metadata": {
    "scrolled": true
   },
   "outputs": [
    {
     "name": "stdout",
     "output_type": "stream",
     "text": [
      "False\n",
      "True\n",
      "False\n",
      "True\n",
      "False\n",
      "True\n"
     ]
    }
   ],
   "source": [
    "# Here's an example of how comparison is used in Python\n",
    "a = 34\n",
    "b = 320\n",
    "\n",
    "# Comparing a and b\n",
    "print(a == b)\n",
    "print(a != b)\n",
    "print(a > b)\n",
    "print(a < b)\n",
    "print(a >= b)\n",
    "print(a <= b)"
   ]
  },
  {
   "cell_type": "markdown",
   "metadata": {},
   "source": [
    "## `bool()`\n",
    "Just like strings, ints, and floats, Booleans also have a special function used to convert values from other data types into Booleans.\n",
    "* Any non-empty strings can be converted into the Boolean value of `True` while an empty string `\"\"` can be represented by `False`.\n",
    "* Any non-zero number in any numerical data type can be converted into the Boolean value of `True` while `0` in any numerical data type can be represented by `False`.\n",
    "* Passing a Boolean value into the `bool()` function will return itself.\n",
    "* For other data types which we haven't yet discussed, the rules are as follows:\n",
    "    * In general, if a sequence or mapping is not empty, then it can be converted into `True`.\n",
    "    * If a sequence or mapping is empty, then it can be converted into `False`.\n",
    "    * If the value passed into the function is `None`, then it converts to `False`.\n",
    "\n",
    "In short, passing object `a` into the `bool()` function will return `True` unless any of the following is true:\n",
    "* `a` is empty\n",
    "* `a` is `False` or `None`\n",
    "* `a` is 0"
   ]
  },
  {
   "cell_type": "code",
   "execution_count": 3,
   "metadata": {},
   "outputs": [
    {
     "name": "stdout",
     "output_type": "stream",
     "text": [
      "5.34 converts to True\n",
      "12j converts to True\n",
      "0 converts to False\n",
      "0.0 converts to False\n"
     ]
    }
   ],
   "source": [
    "# Converting numbers to Booleans\n",
    "print(\"5.34 converts to\", bool(5.34))\n",
    "print(\"12j converts to\", bool(12j))\n",
    "print(\"0 converts to\", bool(0))\n",
    "print(\"0.0 converts to\", bool(0.0))"
   ]
  },
  {
   "cell_type": "code",
   "execution_count": 4,
   "metadata": {},
   "outputs": [
    {
     "name": "stdout",
     "output_type": "stream",
     "text": [
      "'String' converts to True\n",
      "'' converts to False\n"
     ]
    }
   ],
   "source": [
    "# Converting strings to Booleans\n",
    "print(\"'String' converts to\", bool('String'))\n",
    "print(\"'' converts to\", bool(''))"
   ]
  },
  {
   "cell_type": "code",
   "execution_count": 5,
   "metadata": {
    "scrolled": true
   },
   "outputs": [
    {
     "name": "stdout",
     "output_type": "stream",
     "text": [
      "['element'] converts to True\n",
      "(0, 0, 0) converts to True\n",
      "{'Language': 'Python'} converts to True\n",
      "[] converts to False\n",
      "() converts to False\n",
      "{} converts to False\n",
      "None converts to False\n"
     ]
    }
   ],
   "source": [
    "# Other data types (Don't worry if you don't understand what these are)\n",
    "print(\"['element'] converts to\", bool(['element']))\n",
    "print(\"(0, 0, 0) converts to\", bool((0, 0, 0)))\n",
    "print(\"{'Language': 'Python'} converts to\", bool({'Language': 'Python'}))\n",
    "print(\"[] converts to\", bool([]))\n",
    "print(\"() converts to\", bool(()))\n",
    "print(\"{} converts to\", bool({}))\n",
    "print(\"None converts to\", bool(None))"
   ]
  },
  {
   "cell_type": "markdown",
   "metadata": {},
   "source": [
    "## Boolean Operators\n",
    "Boolean operators in Python combine multiple conditions into one single Boolean. Here are the Boolean operators in Python:\n",
    "* `and`: `True` if *both* sides are `True`\n",
    "* `or`: `True` if *one or both* sides are `True`\n",
    "* `not`: `True` if `False`, `False` if `True`\n",
    "\n",
    "Here's what these look like in practice:"
   ]
  },
  {
   "cell_type": "code",
   "execution_count": 6,
   "metadata": {},
   "outputs": [
    {
     "name": "stdout",
     "output_type": "stream",
     "text": [
      "Both true: True\n",
      "One true one false: False\n",
      "Both false: False\n"
     ]
    }
   ],
   "source": [
    "# and\n",
    "print(\"Both true:\", 1 < 3 and 5 > 0)  # Both true\n",
    "print(\"One true one false:\", 2 <= 43 and 7 >= 29)  # One true one false\n",
    "print(\"Both false:\", 31 == 34 and 87 == 16)  # Both false"
   ]
  },
  {
   "cell_type": "code",
   "execution_count": 7,
   "metadata": {},
   "outputs": [
    {
     "name": "stdout",
     "output_type": "stream",
     "text": [
      "Both true: True\n",
      "One true one false: True\n",
      "Both false: False\n"
     ]
    }
   ],
   "source": [
    "# or\n",
    "print(\"Both true:\", 1 != 2 or 2 != 3)  # Both true\n",
    "print(\"One true one false:\", 58 <= 9 or 95 >= 58)  # One true one false\n",
    "print(\"Both false:\", 90 >= 103 or 124 <= 36)  # Both false"
   ]
  },
  {
   "cell_type": "code",
   "execution_count": 8,
   "metadata": {},
   "outputs": [
    {
     "name": "stdout",
     "output_type": "stream",
     "text": [
      "True: False\n",
      "False: True\n"
     ]
    }
   ],
   "source": [
    "# not\n",
    "print(\"True:\", not 3 + 2 == 5)  # True\n",
    "print(\"False:\", not 1 + 1 == 1)  # False"
   ]
  },
  {
   "cell_type": "markdown",
   "metadata": {},
   "source": [
    "One thing to keep in mind when writing longer expressions with Boolean operators, is that you can use parentheses to change the priority level of each evaluation (kind of like the order of operation in math). Since the operation in parentheses are done first, you can change the order in which the conditions are evaluated. Here's an example below."
   ]
  },
  {
   "cell_type": "code",
   "execution_count": 9,
   "metadata": {},
   "outputs": [
    {
     "name": "stdout",
     "output_type": "stream",
     "text": [
      "False\n",
      "True\n"
     ]
    }
   ],
   "source": [
    "# Changing the position of parentheses changes the result\n",
    "print((4 == 4 or 3 != 2) and 4 + 2 >= 7)\n",
    "print(4 == 4 or (3 != 2 and 4 + 2 >= 7))"
   ]
  },
  {
   "cell_type": "markdown",
   "metadata": {},
   "source": [
    "## Summary\n",
    "Today, we explored some of the more advanced operators and functions that deal with Python Booleans. To summarize, you have learned:\n",
    "1. Comparing values in Python\n",
    "2. The `bool()` function\n",
    "3. The Boolean operators\n",
    "    * `and`\n",
    "    * `or`\n",
    "    * `not`"
   ]
  }
 ],
 "metadata": {
  "kernelspec": {
   "display_name": "Python 3 (ipykernel)",
   "language": "python",
   "name": "python3"
  },
  "language_info": {
   "codemirror_mode": {
    "name": "ipython",
    "version": 3
   },
   "file_extension": ".py",
   "mimetype": "text/x-python",
   "name": "python",
   "nbconvert_exporter": "python",
   "pygments_lexer": "ipython3",
   "version": "3.9.6"
  }
 },
 "nbformat": 4,
 "nbformat_minor": 4
}
