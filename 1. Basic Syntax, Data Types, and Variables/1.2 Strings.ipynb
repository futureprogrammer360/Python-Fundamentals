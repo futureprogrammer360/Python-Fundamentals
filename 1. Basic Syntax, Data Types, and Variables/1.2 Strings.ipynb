{
 "cells": [
  {
   "cell_type": "markdown",
   "metadata": {},
   "source": [
    "# Strings\n",
    "In the last lesson, you learned about the Python data type string. In this lesson, you will learn about more advanced features of the string data type."
   ]
  },
  {
   "cell_type": "markdown",
   "metadata": {},
   "source": [
    "## String Concatenation\n",
    "String concatenation is the merging or combining of two or more strings. In Python, this can be simply done with the `+` operator. Something to pay attention to when concatenating strings is that a string cannot be `+`ed to a non-string data value. Doing so will raise a `TypeError` and interrupt the program execution. In order to avoid this, use the `str()` function to convert the non-string into a string."
   ]
  },
  {
   "cell_type": "code",
   "execution_count": 1,
   "metadata": {},
   "outputs": [
    {
     "name": "stdout",
     "output_type": "stream",
     "text": [
      "This is a concatenated string: ab\n"
     ]
    }
   ],
   "source": [
    "# Concatenating 2 strings\n",
    "a = \"a\"\n",
    "b = \"b\"\n",
    "ab = a + b\n",
    "print(\"This is a concatenated string: \" + ab)"
   ]
  },
  {
   "cell_type": "code",
   "execution_count": 2,
   "metadata": {},
   "outputs": [
    {
     "name": "stdout",
     "output_type": "stream",
     "text": [
      "A number: 1.618033988749\n"
     ]
    }
   ],
   "source": [
    "# Concatenating a string and a number\n",
    "a = \"A number: \"\n",
    "b = 1.618033988749\n",
    "ab = a + str(b)\n",
    "print(ab)"
   ]
  },
  {
   "cell_type": "markdown",
   "metadata": {},
   "source": [
    "## `len()`\n",
    "Sometimes, it is necessary to know the length of a string value. To do this, simply pass the string into the `len()` function, and it will return the string's length."
   ]
  },
  {
   "cell_type": "code",
   "execution_count": 3,
   "metadata": {},
   "outputs": [
    {
     "name": "stdout",
     "output_type": "stream",
     "text": [
      "The length of the string is: 9\n"
     ]
    }
   ],
   "source": [
    "# Print out the length of the string variable\n",
    "string = \"A string\\n\"\n",
    "length_of_string = len(string)\n",
    "print(\"The length of the string is: \" + str(length_of_string))"
   ]
  },
  {
   "cell_type": "markdown",
   "metadata": {},
   "source": [
    "## Upper and lower case\n",
    "To change the case of a string, Python has the built-in `.upper()` and `.lower()` methods."
   ]
  },
  {
   "cell_type": "code",
   "execution_count": 4,
   "metadata": {},
   "outputs": [
    {
     "name": "stdout",
     "output_type": "stream",
     "text": [
      "LOWER CASE TO UPPER CASE.\n",
      "upper case to lower case.\n"
     ]
    }
   ],
   "source": [
    "# Capitalize a lower case string\n",
    "print(\"lower case to upper case.\".upper())\n",
    "\n",
    "# Decapitalize an upper case string\n",
    "print(\"UPPER CASE TO LOWER CASE.\".lower())"
   ]
  },
  {
   "cell_type": "markdown",
   "metadata": {},
   "source": [
    "## Indexing and slicing\n",
    "To access the character at a specific location, or \"index\" of a string, we can use indexing. Index of a Python string is different from everyday counting however. The first character of a string holds the index of not `1`, but `0`. Additionally, the last character of the string has the index of `-1`. To get the character of a string at a specific index, we can write the code like this: `string[index]`. This will return the character at the index provided.\n",
    "\n",
    "Somewhat similar to indexing, slicing acquires a *substring* of a string value. Slicing uses the same syntax as indexing, the only difference being that when slicing, two numbers are passed into the square brackets, which are separated by a `:`. To see indexing and slicing in action, check out the examples below."
   ]
  },
  {
   "cell_type": "code",
   "execution_count": 5,
   "metadata": {},
   "outputs": [
    {
     "name": "stdout",
     "output_type": "stream",
     "text": [
      "T\n",
      "g\n"
     ]
    }
   ],
   "source": [
    "# Indexing\n",
    "a_string = \"This is a string\"\n",
    "\n",
    "first_character = a_string[0]\n",
    "last_character = a_string[-1]\n",
    "\n",
    "print(first_character)\n",
    "print(last_character)"
   ]
  },
  {
   "cell_type": "code",
   "execution_count": 6,
   "metadata": {},
   "outputs": [
    {
     "name": "stdout",
     "output_type": "stream",
     "text": [
      "This\n",
      "string.\n",
      "is\n"
     ]
    }
   ],
   "source": [
    "# Slicing\n",
    "another_string = \"This is another string.\"\n",
    "#                 0123456789\n",
    "first_to_fourth = another_string[:4]\n",
    "seventeenth_to_last = another_string[16:]\n",
    "sixth_to_seventh = another_string[5:7]\n",
    "\n",
    "print(first_to_fourth)\n",
    "print(seventeenth_to_last)\n",
    "print(sixth_to_seventh)"
   ]
  },
  {
   "cell_type": "markdown",
   "metadata": {},
   "source": [
    "## Replacing\n",
    "In Python, the `.replace()` method replaces substrings within a string with another substring."
   ]
  },
  {
   "cell_type": "code",
   "execution_count": 7,
   "metadata": {
    "scrolled": false
   },
   "outputs": [
    {
     "name": "stdout",
     "output_type": "stream",
     "text": [
      "Hara's a string!\n"
     ]
    }
   ],
   "source": [
    "string = \"Here's a string!\"\n",
    "string = string.replace(\"e\", \"a\")\n",
    "print(string)"
   ]
  },
  {
   "cell_type": "markdown",
   "metadata": {},
   "source": [
    "## `.strip()`\n",
    "Often, strings are not entirely \"clean\", and there are characters in a string which we don't want. For instance, if you are writing a program to extract and examine a phone number from the string below using slicing, it is going to be a bit difficult."
   ]
  },
  {
   "cell_type": "code",
   "execution_count": 8,
   "metadata": {},
   "outputs": [
    {
     "name": "stdout",
     "output_type": "stream",
     "text": [
      "Phone number:   123-456-7890    \n",
      "  1\n"
     ]
    }
   ],
   "source": [
    "phone_number = \"  123-456-7890    \"\n",
    "print(\"Phone number: \" + phone_number)\n",
    "area_code = phone_number[0:3]\n",
    "print(area_code)"
   ]
  },
  {
   "cell_type": "markdown",
   "metadata": {},
   "source": [
    "The `.strip()` method removes (by default) the whitespace at the beginning or end of a string."
   ]
  },
  {
   "cell_type": "code",
   "execution_count": 9,
   "metadata": {},
   "outputs": [
    {
     "name": "stdout",
     "output_type": "stream",
     "text": [
      "123-456-7890\n",
      "Area code: 123\n"
     ]
    }
   ],
   "source": [
    "cleaned_number = phone_number.strip()\n",
    "print(cleaned_number)\n",
    "area_code = cleaned_number[0:3]\n",
    "print(\"Area code: \" + area_code)"
   ]
  },
  {
   "cell_type": "markdown",
   "metadata": {},
   "source": [
    "The `.strip()` method can also be customized to remove a specific substring from the beginning or end of a string. To do that, just pass the substring into the method."
   ]
  },
  {
   "cell_type": "code",
   "execution_count": 10,
   "metadata": {
    "scrolled": true
   },
   "outputs": [
    {
     "name": "stdout",
     "output_type": "stream",
     "text": [
      "!!!!!I AM SO HAPPY!!!!!\n",
      "I am so happy.\n"
     ]
    }
   ],
   "source": [
    "string = \"!!!!!I AM SO HAPPY!!!!!\"\n",
    "print(string)\n",
    "print(string.strip(\"!\").capitalize() + \".\")"
   ]
  },
  {
   "cell_type": "markdown",
   "metadata": {},
   "source": [
    "## `in`\n",
    "If we want to check if a substring is `in` a string, we can write the statement in this form: `substring in string` and that will be stored as a Boolean value."
   ]
  },
  {
   "cell_type": "code",
   "execution_count": 11,
   "metadata": {},
   "outputs": [
    {
     "name": "stdout",
     "output_type": "stream",
     "text": [
      "False\n"
     ]
    }
   ],
   "source": [
    "string = \"I am a Python programmer!\"\n",
    "substring = \"Java\"\n",
    "Python_in_string = substring in string\n",
    "print(Python_in_string)"
   ]
  },
  {
   "cell_type": "markdown",
   "metadata": {},
   "source": [
    "## Summary\n",
    "Today, we explored some of the more advanced methods and functions that deal with Python strings. Just to summarize the lesson, you have learned:\n",
    "1. String concatenation - combining strings\n",
    "2. The `len()` function\n",
    "3. Making a string upper/lower-cased with the `.upper()` and `.lower()` methods\n",
    "4. Indexing (one character) and slicing (multiple characters)\n",
    "5. Replacing a substring of a string with the `.replace()` method\n",
    "6. `.strip()` method\n",
    "7. `in` to check substring `in` string"
   ]
  }
 ],
 "metadata": {
  "kernelspec": {
   "display_name": "Python 3 (ipykernel)",
   "language": "python",
   "name": "python3"
  },
  "language_info": {
   "codemirror_mode": {
    "name": "ipython",
    "version": 3
   },
   "file_extension": ".py",
   "mimetype": "text/x-python",
   "name": "python",
   "nbconvert_exporter": "python",
   "pygments_lexer": "ipython3",
   "version": "3.9.6"
  }
 },
 "nbformat": 4,
 "nbformat_minor": 4
}
