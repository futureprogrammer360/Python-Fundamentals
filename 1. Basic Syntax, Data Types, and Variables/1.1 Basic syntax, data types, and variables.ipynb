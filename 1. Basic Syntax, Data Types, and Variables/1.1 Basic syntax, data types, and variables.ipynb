{
 "cells": [
  {
   "cell_type": "markdown",
   "metadata": {
    "slideshow": {
     "slide_type": "-"
    }
   },
   "source": [
    "# Basic syntax, data types, and variables\n",
    "In this chapter, we are going to explore some basic syntax of Python and the common data types you will encounter when coding with Python."
   ]
  },
  {
   "cell_type": "markdown",
   "metadata": {},
   "source": [
    "## How to run Python?\n",
    "To start off, let's talk about the different ways we can run Python code. Generally, there are two different ways to execute Python code.\n",
    "\n",
    "The more common way to do so is called Python scripts. In this method of Python coding, programs are saved in files with a `.py` file extension. When a Python file is run, the code within the files are sent to the Python interpreter, where the code is executed.\n",
    "\n",
    "Alternatively, there is the interactive mode, where you receive immediate feedback when you run each line. This method of running Python is useful when you want to test out individual lines of code.\n",
    "\n",
    "The majority of the lessons in this course will be written in jupyter notebook files, which contain both code and explanations."
   ]
  },
  {
   "cell_type": "markdown",
   "metadata": {},
   "source": [
    "## Hello world!\n",
    "Almost every Python course on the internet starts by introducing the `print()` function, or more specifically, the `print(\"Hello world!\")` statement. In the interactive Python shell below, run the code, and see the output."
   ]
  },
  {
   "cell_type": "code",
   "execution_count": 1,
   "metadata": {},
   "outputs": [
    {
     "name": "stdout",
     "output_type": "stream",
     "text": [
      "Hello world!\n"
     ]
    }
   ],
   "source": [
    "print(\"Hello world!\")"
   ]
  },
  {
   "cell_type": "markdown",
   "metadata": {},
   "source": [
    "When executed, `print(\"Hello world!\")` outputs `Hello world!`. The `print()` statement is a function (more on that later) into which a message argument is passed and is then displayed on the screen."
   ]
  },
  {
   "cell_type": "markdown",
   "metadata": {},
   "source": [
    "## Commenting in Python files\n",
    "When writing programs, programmers use commenting to tell the Python interpreter to ignore part of the file and not execute them. Whether it is a reminder, to comment off a section of the code, or a helpful hint for a co-worker, Python's commenting is always happy to help. In Python, simply insert a hash sign (`#`), and the rest of that line will be ignored by the interpreter. Run the code below and see if the output (or the lack thereof) is expected."
   ]
  },
  {
   "cell_type": "code",
   "execution_count": 2,
   "metadata": {},
   "outputs": [],
   "source": [
    "# This line is a comment\n",
    "# Texts behind a \"#\" sign are ignored\n",
    "# print(\"Even if they are Python code\")"
   ]
  },
  {
   "cell_type": "markdown",
   "metadata": {},
   "source": [
    "## Data types\n",
    "In the programming world, data is divided into different types. Different data types have different behaviors when passed into functions, and are used to do different things. Let's explore some of the most basic and common data types in Python."
   ]
  },
  {
   "cell_type": "markdown",
   "metadata": {},
   "source": [
    "### Strings\n",
    "One of the most used data types in Python is the string data type. Strings are essentially arrays of characters, in other words, plain text. Strings are generally denoted by being enclosed within quotation marks. To display a string, you can pass it into the `print()` function."
   ]
  },
  {
   "cell_type": "code",
   "execution_count": 3,
   "metadata": {},
   "outputs": [
    {
     "name": "stdout",
     "output_type": "stream",
     "text": [
      "This is a string.\n",
      "\n",
      "This is also a string.\n",
      "\n",
      "This is a\n",
      "multi-line string.\n",
      "\n",
      "This is another\n",
      "multi-line string.\n"
     ]
    }
   ],
   "source": [
    "# Single quotation marks\n",
    "print('This is a string.\\n')\n",
    "\n",
    "# Double quotation marks\n",
    "print(\"This is also a string.\\n\")\n",
    "\n",
    "# Three single quotation marks\n",
    "print('''This is a\n",
    "multi-line string.\\n''')\n",
    "\n",
    "# Three double quotation marks\n",
    "print(\"\"\"This is another\n",
    "multi-line string.\"\"\")"
   ]
  },
  {
   "cell_type": "markdown",
   "metadata": {},
   "source": [
    "In line 2, 5, and 8 of the previous cell, there are `\\n`s before the end of the string. The backslash is known as the escape character in Python. Instead of displaying the character after the `\\`, Python manipulates the string in different ways. For example, `\\n` is called the new line character and inserts a new line in the string.\n",
    "\n",
    "Other uses of the escape character includes:\n",
    "* `\\n`: Inserts new line\n",
    "* `\\t`: Inserts a horizontal tab\n",
    "* `\\\"`: Intserts a double quote\n",
    "* `\\'`: Intserts a single quote\n",
    "* `\\\\`: Intserts a backslash (`\\`)"
   ]
  },
  {
   "cell_type": "markdown",
   "metadata": {},
   "source": [
    "### Numbers\n",
    "If there is one thing that computers do *really* well, it is math. But we can't do math if we don't have numbers, can we? Of course not! In Python, there are two basic data types for numbers. First, there is the `int` data type that deals with integers (positive or negative whole numbers without fractional parts). Secondly, there is the `float` data type. This handles numbers with a decimal point."
   ]
  },
  {
   "cell_type": "code",
   "execution_count": 4,
   "metadata": {},
   "outputs": [
    {
     "name": "stdout",
     "output_type": "stream",
     "text": [
      "100\n",
      "3.1415926535897\n"
     ]
    }
   ],
   "source": [
    "# This is an int\n",
    "print(100)\n",
    "\n",
    "# This is a float\n",
    "print(3.1415926535897)"
   ]
  },
  {
   "cell_type": "markdown",
   "metadata": {},
   "source": [
    "Now that you have numbers at your disposal, let's do some math! Here are the Python syntax of different arithmetic operations:\n",
    "* `a + b`: Adds `b` to `a`\n",
    "* `a - b`: Subtracts `b` from `a`\n",
    "* `a * b`: Multiplies `b` to `a`\n",
    "* `a / b`: Divides `a` by `b`\n",
    "* `a % b`: Divides `a` by `b` and returns remainder\n",
    "* `a ** b`: Raises `a` to the `b`th power\n",
    "* `a // b`: Divides `a` by `b` and returns the integer part"
   ]
  },
  {
   "cell_type": "markdown",
   "metadata": {},
   "source": [
    "### Booleans\n",
    "Often times programmers encounter a scenario where they need to evaluate whether something is true or false. Here's where Booleans are used. Booleans have one of two possible values, either `True` or `False`."
   ]
  },
  {
   "cell_type": "code",
   "execution_count": 5,
   "metadata": {
    "scrolled": true
   },
   "outputs": [
    {
     "name": "stdout",
     "output_type": "stream",
     "text": [
      "True\n",
      "False\n"
     ]
    }
   ],
   "source": [
    "print(2 > 1)\n",
    "print(2 < 1)"
   ]
  },
  {
   "cell_type": "markdown",
   "metadata": {},
   "source": [
    "### `type()`\n",
    "After learning about the 4 basic data types in Python, you might wonder how we can get the data type of an object. The `type()` function returns the class of the argument passed in, which is essentially its data type."
   ]
  },
  {
   "cell_type": "code",
   "execution_count": 6,
   "metadata": {},
   "outputs": [
    {
     "name": "stdout",
     "output_type": "stream",
     "text": [
      "<class 'str'>\n",
      "<class 'int'>\n",
      "<class 'float'>\n"
     ]
    }
   ],
   "source": [
    "print(type(\"Is this a string?\"))\n",
    "print(type(1234567890))\n",
    "print(type(0.123456789))"
   ]
  },
  {
   "cell_type": "markdown",
   "metadata": {},
   "source": [
    "## Variables\n",
    "Variables in Python are containers of data, whether it is a string, number, Boolean, or any other data type. To create (declare) and assign a value to a variable (initialize), simply type in `a = b`, where `a` is the name of the variable, and `b` is the value of `a`."
   ]
  },
  {
   "cell_type": "code",
   "execution_count": 7,
   "metadata": {},
   "outputs": [
    {
     "name": "stdout",
     "output_type": "stream",
     "text": [
      "Here's a variable!\n",
      "2.71828182\n",
      "True\n"
     ]
    }
   ],
   "source": [
    "string_variable = \"Here's a variable!\"\n",
    "print(string_variable)\n",
    "\n",
    "numerical_variable = 2.71828182\n",
    "print(numerical_variable)\n",
    "\n",
    "Boolean_variable = True\n",
    "print(Boolean_variable)"
   ]
  },
  {
   "cell_type": "markdown",
   "metadata": {},
   "source": [
    "When naming variables in Python, there are some rules that programmers need to follow. A Python variable can be of any length, and can contain any of the following:\n",
    "* Uppercase letter\n",
    "* Lowercase letter\n",
    "* Numerical digits\n",
    "* Underscore (`_`)\n",
    "\n",
    "Note that although numbers can be used in naming variables, the first character of a variable name cannot be a digit."
   ]
  },
  {
   "cell_type": "markdown",
   "metadata": {},
   "source": [
    "## `input()`\n",
    "Now that we know how to store values in variables, it's time to learn about the `input()` function. The most basic way users interact with a running Python program, is the `input()` function. In the function, pass in the prompt you want the user to see, and Python will display that on the screen before it ask for the user's input."
   ]
  },
  {
   "cell_type": "code",
   "execution_count": 8,
   "metadata": {},
   "outputs": [
    {
     "name": "stdout",
     "output_type": "stream",
     "text": [
      "What's your favorite programming language? Python\n",
      "My favorite programming language is Python\n"
     ]
    }
   ],
   "source": [
    "user_input = input(\"What's your favorite programming language? \")\n",
    "print(\"My favorite programming language is\", user_input)"
   ]
  },
  {
   "cell_type": "markdown",
   "metadata": {},
   "source": [
    "Something to pay attention to when using the `input()` function is that no matter what the user's input is, it will be returned as a string. Therefore, data from the `input()` function cannot be directly used for things like arithmetic operations."
   ]
  },
  {
   "cell_type": "markdown",
   "metadata": {},
   "source": [
    "## Summary\n",
    "Here concludes your first lesson on Python. Today, you learned:\n",
    "1. Different ways to run Python\n",
    "2. The `print()` function\n",
    "3. Commenting in Python\n",
    "4. Basic data types\n",
    "    * String\n",
    "    * Numbers\n",
    "        * Ints\n",
    "        * Floats\n",
    "    * Boolean\n",
    "5. Variables\n",
    "6. The `input()` function"
   ]
  }
 ],
 "metadata": {
  "kernelspec": {
   "display_name": "Python 3 (ipykernel)",
   "language": "python",
   "name": "python3"
  },
  "language_info": {
   "codemirror_mode": {
    "name": "ipython",
    "version": 3
   },
   "file_extension": ".py",
   "mimetype": "text/x-python",
   "name": "python",
   "nbconvert_exporter": "python",
   "pygments_lexer": "ipython3",
   "version": "3.9.6"
  }
 },
 "nbformat": 4,
 "nbformat_minor": 4
}
