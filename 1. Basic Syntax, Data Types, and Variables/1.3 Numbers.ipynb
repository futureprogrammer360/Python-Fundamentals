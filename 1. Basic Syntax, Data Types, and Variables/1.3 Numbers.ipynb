{
 "cells": [
  {
   "cell_type": "markdown",
   "metadata": {},
   "source": [
    "# Numbers\n",
    "Some of the most used data types in Python and programming in general, are the numerical data types. In Python, we have the **integers**, the **floating point numbers**, and the **complex numbers**. We have already briefly discussed the `int` and `float` data types in a previous lesson, so today, we are going to look into some advanced features that deal with numbers as well as introducing the less used `complex` data type."
   ]
  },
  {
   "cell_type": "markdown",
   "metadata": {},
   "source": [
    "## `int()` and `float()`\n",
    "Just like `str()`, the `int()` and `float()` functions convert a value into `int` and `float` data types, respectively. Only certain values can be passed into these functions however. If a string like `\"Python\"` is passed into one of these functions, it will raise a `ValueError`. `int()` and `float()` also accepts Booleans, which Python converts to either 0 or 1."
   ]
  },
  {
   "cell_type": "code",
   "execution_count": 1,
   "metadata": {},
   "outputs": [
    {
     "name": "stdout",
     "output_type": "stream",
     "text": [
      "2 * 5 = 10\n",
      "True as an int: 1\n",
      "False as a float: 0.0\n"
     ]
    }
   ],
   "source": [
    "two = \"2\"  # A string\n",
    "five = \"5\"  # Also a string\n",
    "print(\"2 * 5 = \" + str(int(two) * int(five)))\n",
    "\n",
    "true = True  # A bool\n",
    "false = False  # Also a bool\n",
    "print(\"True as an int: \" + str(int(true)))\n",
    "print(\"False as a float: \" + str(float(false)))"
   ]
  },
  {
   "cell_type": "markdown",
   "metadata": {},
   "source": [
    "## Scientific numbers\n",
    "Many large numbers are expressed as scientific numbers, which shows numbers in the format of a number `a` times 10 raised to the `b`th power ($a*10^b$). In Python, the `float` data type can also store scientific numbers, with the letters `e` or `E` replacing the \"times 10 to the power of\" part. In general, `aeb` or `aEb` is equal to `a` times 10 to the `b`th power. Check out the example below."
   ]
  },
  {
   "cell_type": "code",
   "execution_count": 2,
   "metadata": {
    "scrolled": true
   },
   "outputs": [
    {
     "name": "stdout",
     "output_type": "stream",
     "text": [
      "<class 'float'>\n",
      "0.009218\n",
      "0.009218\n"
     ]
    }
   ],
   "source": [
    "a_number = 9.218E-3  # Equivalent to 9.218 * 10 ** -3\n",
    "\n",
    "print(type(a_number))\n",
    "print(a_number)\n",
    "print(9.218 * 10 ** -3)  # \"Normal\" notation"
   ]
  },
  {
   "cell_type": "markdown",
   "metadata": {},
   "source": [
    "## Complex numbers\n",
    "Another numerical data type that Python supports, is the `complex` number, which is made up of a real part and an imaginary part, the latter being a multiple of the imaginary unit $i$, (the square root of -1). Python denotes a complex number's imaginary part with the suffix `j`. For example, the complex number $1 + 2i$ will be `1 + 2j` in Python."
   ]
  },
  {
   "cell_type": "code",
   "execution_count": 3,
   "metadata": {},
   "outputs": [
    {
     "name": "stdout",
     "output_type": "stream",
     "text": [
      "<class 'complex'>\n",
      "(43.2+2164.09j)\n"
     ]
    }
   ],
   "source": [
    "a_complex_number = 43.2 + 2164.09j\n",
    "\n",
    "print(type(a_complex_number))\n",
    "print(a_complex_number)"
   ]
  },
  {
   "cell_type": "markdown",
   "metadata": {},
   "source": [
    "Complex numbers also support the mathematical operations that can be done on `int`s and `float`s."
   ]
  },
  {
   "cell_type": "code",
   "execution_count": 4,
   "metadata": {},
   "outputs": [
    {
     "name": "stdout",
     "output_type": "stream",
     "text": [
      "(1844.3+2179.07j)\n"
     ]
    }
   ],
   "source": [
    "another_complex_number = 14.98j + 1801.1\n",
    "\n",
    "sum_of_two_complex_numbers = a_complex_number + another_complex_number\n",
    "print(sum_of_two_complex_numbers)"
   ]
  },
  {
   "cell_type": "markdown",
   "metadata": {},
   "source": [
    "And of course, the `complex` data type also has its own `complex()` function that converts values from another data type into a complex number. The function has 2 parameters, the first one representing the real part of the complex number and the second one being the imaginary part."
   ]
  },
  {
   "cell_type": "code",
   "execution_count": 5,
   "metadata": {},
   "outputs": [
    {
     "name": "stdout",
     "output_type": "stream",
     "text": [
      "(14+0j)\n",
      "(1+0j)\n",
      "(12+589j)\n"
     ]
    }
   ],
   "source": [
    "print(complex(\"14\"))\n",
    "print(complex(True))\n",
    "print(complex(12, 589))"
   ]
  },
  {
   "cell_type": "markdown",
   "metadata": {},
   "source": [
    "## Incrementing/decrementing variables\n",
    "Something you will do over and over again in programming, is incrementing/decrementing variables by a certain number."
   ]
  },
  {
   "cell_type": "code",
   "execution_count": 6,
   "metadata": {},
   "outputs": [
    {
     "name": "stdout",
     "output_type": "stream",
     "text": [
      "10\n",
      "12.5\n"
     ]
    }
   ],
   "source": [
    "# Here's how a beginner programmer might increment a variable\n",
    "payment = 10\n",
    "print(payment)\n",
    "tax = 2.5\n",
    "payment = payment + tax  # Remember = is assigning not equating\n",
    "print(payment)"
   ]
  },
  {
   "cell_type": "code",
   "execution_count": 7,
   "metadata": {},
   "outputs": [
    {
     "name": "stdout",
     "output_type": "stream",
     "text": [
      "10\n",
      "12.5\n"
     ]
    }
   ],
   "source": [
    "# Here's a better and the more popular way to do the same thing\n",
    "payment = 10\n",
    "print(payment)\n",
    "tax = 2.5\n",
    "payment += tax  # Same as payment = payment + tax\n",
    "print(payment)"
   ]
  },
  {
   "cell_type": "markdown",
   "metadata": {},
   "source": [
    "`a += b` is the shorter version of `a = a + b`. The same syntax also applies to other operators (`-=`, `*=`, `/=`, `%=`, `**=`, `//=`)."
   ]
  },
  {
   "cell_type": "markdown",
   "metadata": {},
   "source": [
    "## Summary\n",
    "In this lesson we explored the numerical data types in Python and different ways you can manipulate these data. To summarize, you learned:\n",
    "1. The `int()` and `float()` functions that convert data into `int`s and `float`s\n",
    "2. Scientific numbers with `e` or `E`\n",
    "3. Complex numbers using the character `j` and the `complex()` data type conversion function\n",
    "4. How to increment/decrement a variable (though really, it can be any arithmetic operator)"
   ]
  }
 ],
 "metadata": {
  "kernelspec": {
   "display_name": "Python 3 (ipykernel)",
   "language": "python",
   "name": "python3"
  },
  "language_info": {
   "codemirror_mode": {
    "name": "ipython",
    "version": 3
   },
   "file_extension": ".py",
   "mimetype": "text/x-python",
   "name": "python",
   "nbconvert_exporter": "python",
   "pygments_lexer": "ipython3",
   "version": "3.9.6"
  }
 },
 "nbformat": 4,
 "nbformat_minor": 4
}
