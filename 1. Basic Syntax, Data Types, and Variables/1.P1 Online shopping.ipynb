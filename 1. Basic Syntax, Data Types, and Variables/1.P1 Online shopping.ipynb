{
 "cells": [
  {
   "cell_type": "markdown",
   "metadata": {},
   "source": [
    "# Online shopping\n",
    "Today, you will be writing a small program using what you have learned about Python so far. The goal is to simulate a very basic online purchasing system."
   ]
  },
  {
   "cell_type": "markdown",
   "metadata": {},
   "source": [
    "## Goals\n",
    "1. Welcome the user with kind words.\n",
    "2. Ask for the user's name.\n",
    "3. Ask for the user's purchase.\n",
    "    * What item do they want?\n",
    "        * Any color, size etc\n",
    "    * How many do they want?\n",
    "4. Calculate the total price of the purchase.\n",
    "5. Print out a receipt of the purchase."
   ]
  },
  {
   "cell_type": "markdown",
   "metadata": {},
   "source": [
    "## Key concepts\n",
    "* `print()` and `input()` functions\n",
    "* Converting between different data types\n",
    "* String concatenation\n",
    "* Arithmetic operators and calculations"
   ]
  },
  {
   "cell_type": "markdown",
   "metadata": {},
   "source": [
    "### Add in anything else you want in the program and feel free to explore how you can make the code better.\n",
    "## Happy coding!"
   ]
  }
 ],
 "metadata": {
  "kernelspec": {
   "display_name": "Python 3 (ipykernel)",
   "language": "python",
   "name": "python3"
  },
  "language_info": {
   "codemirror_mode": {
    "name": "ipython",
    "version": 3
   },
   "file_extension": ".py",
   "mimetype": "text/x-python",
   "name": "python",
   "nbconvert_exporter": "python",
   "pygments_lexer": "ipython3",
   "version": "3.9.6"
  }
 },
 "nbformat": 4,
 "nbformat_minor": 4
}
