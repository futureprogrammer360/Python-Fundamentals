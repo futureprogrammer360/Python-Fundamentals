{
 "cells": [
  {
   "cell_type": "markdown",
   "metadata": {},
   "source": [
    "# Lists and tuples\n",
    "So far, most of the data types we have discussed only hold **one** value. An `int` holds one integer, a `float` holds one floating-point number, and a Boolean holds one value of `True` or `False`. The only exception, is the string. A string is an *array* of characters, and can contain as many or as few characters in it as we want. The data types we will be discussing in this lesson are quite similar to a string in that they contain a **collection** of values as one.\n",
    "\n",
    "The data types we will look at today, are the `list` and `tuple` data types, both of which are used to store multiple items as a single data."
   ]
  },
  {
   "cell_type": "markdown",
   "metadata": {},
   "source": [
    "## List\n",
    "A list is an *ordered* and *mutable* (can be changed) data structure containing elements. In Python, lists are denoted as being enclosed between square brackets `[]`. The items of a list are separated by commas. Below are some examples of lists."
   ]
  },
  {
   "cell_type": "code",
   "execution_count": 1,
   "metadata": {},
   "outputs": [
    {
     "name": "stdout",
     "output_type": "stream",
     "text": [
      "['Emma', 'Bob', 'Steven', 'Alice', 'John']\n",
      "<class 'list'>\n"
     ]
    }
   ],
   "source": [
    "# Same data type\n",
    "list_of_students = [\"Emma\", \"Bob\", \"Steven\", \"Alice\", \"John\"]\n",
    "print(list_of_students)\n",
    "print(type(list_of_students))"
   ]
  },
  {
   "cell_type": "code",
   "execution_count": 2,
   "metadata": {},
   "outputs": [
    {
     "name": "stdout",
     "output_type": "stream",
     "text": [
      "['String A', 1, True, 'String B', 2, True]\n"
     ]
    }
   ],
   "source": [
    "# Different data types\n",
    "list_of_random_items = [\"String A\", 1, True, \"String B\", 2, True]\n",
    "print(list_of_random_items)"
   ]
  },
  {
   "cell_type": "markdown",
   "metadata": {},
   "source": [
    "### List length\n",
    "Like with Strings, we can use the `len()` function to get the length of a list."
   ]
  },
  {
   "cell_type": "code",
   "execution_count": 3,
   "metadata": {},
   "outputs": [
    {
     "name": "stdout",
     "output_type": "stream",
     "text": [
      "7\n"
     ]
    }
   ],
   "source": [
    "programming_languages = [\"JavaScript\", \"C++\", \"Python\", \"C\", \"Swift\", \"Ruby\", \"Go\"]\n",
    "print(len(programming_languages))"
   ]
  },
  {
   "cell_type": "markdown",
   "metadata": {},
   "source": [
    "### List indexing\n",
    "Also like strings, we can use indexing to access items within a list. The first item of a list has index 0, the second item has index 1, and so on. The last item of a list has index -1, the second last item has index -2, and so on.\n",
    "\n",
    "We can access a list item of `list` at index of `n` using the syntax of `list[n]`."
   ]
  },
  {
   "cell_type": "code",
   "execution_count": 4,
   "metadata": {},
   "outputs": [
    {
     "name": "stdout",
     "output_type": "stream",
     "text": [
      "Best language: Python\n",
      "Some other language: C++\n"
     ]
    }
   ],
   "source": [
    "print(\"Best language: \" + programming_languages[2])\n",
    "print(\"Some other language: \" + programming_languages[-6])"
   ]
  },
  {
   "cell_type": "markdown",
   "metadata": {},
   "source": [
    "An attempt to access list items at non-existent indices would raise `IndexError`."
   ]
  },
  {
   "cell_type": "code",
   "execution_count": 5,
   "metadata": {},
   "outputs": [
    {
     "ename": "IndexError",
     "evalue": "list index out of range",
     "output_type": "error",
     "traceback": [
      "\u001b[1;31m---------------------------------------------------------------------------\u001b[0m",
      "\u001b[1;31mIndexError\u001b[0m                                Traceback (most recent call last)",
      "\u001b[1;32m~\\AppData\\Local\\Temp/ipykernel_68004/1685638994.py\u001b[0m in \u001b[0;36m<module>\u001b[1;34m\u001b[0m\n\u001b[0;32m      1\u001b[0m \u001b[0msome_list\u001b[0m \u001b[1;33m=\u001b[0m \u001b[1;33m[\u001b[0m\u001b[1;36m1\u001b[0m\u001b[1;33m,\u001b[0m \u001b[1;36m3.0\u001b[0m\u001b[1;33m,\u001b[0m \u001b[1;36m4.5\u001b[0m\u001b[1;33m,\u001b[0m \u001b[1;34m\"a string\"\u001b[0m\u001b[1;33m,\u001b[0m \u001b[1;32mTrue\u001b[0m\u001b[1;33m]\u001b[0m\u001b[1;33m\u001b[0m\u001b[1;33m\u001b[0m\u001b[0m\n\u001b[1;32m----> 2\u001b[1;33m \u001b[0mprint\u001b[0m\u001b[1;33m(\u001b[0m\u001b[0msome_list\u001b[0m\u001b[1;33m[\u001b[0m\u001b[1;36m5\u001b[0m\u001b[1;33m]\u001b[0m\u001b[1;33m)\u001b[0m\u001b[1;33m\u001b[0m\u001b[1;33m\u001b[0m\u001b[0m\n\u001b[0m",
      "\u001b[1;31mIndexError\u001b[0m: list index out of range"
     ]
    }
   ],
   "source": [
    "some_list = [1, 3.0, 4.5, \"a string\", True]\n",
    "print(some_list[5])"
   ]
  },
  {
   "cell_type": "markdown",
   "metadata": {},
   "source": [
    "### List slicing\n",
    "Just like with strings, we can also slice a list, accessing a sub-list of multiple items."
   ]
  },
  {
   "cell_type": "code",
   "execution_count": 6,
   "metadata": {
    "scrolled": true
   },
   "outputs": [
    {
     "name": "stdout",
     "output_type": "stream",
     "text": [
      "Group 1: ['Person 1', 'Person 2', 'Person 3']\n",
      "Group 2: ['Person 4', 'Person 5']\n",
      "Group 3: ['Person 6', 'Person 7']\n"
     ]
    }
   ],
   "source": [
    "people = [\"Person 1\", \"Person 2\", \"Person 3\", \"Person 4\", \"Person 5\", \"Person 6\", \"Person 7\"]\n",
    "\n",
    "group_1 = people[:3]\n",
    "group_2 = people[3:5]\n",
    "group_3 = people[5:]\n",
    "\n",
    "# Note the use of the str() function\n",
    "print(\"Group 1: \" + str(group_1))\n",
    "print(\"Group 2: \" + str(group_2))\n",
    "print(\"Group 3: \" + str(group_3))"
   ]
  },
  {
   "cell_type": "markdown",
   "metadata": {},
   "source": [
    "### Modifying lists\n",
    "Unlike some other data types, lists are mutable, meaning they can be modified. Below are a few examples of that in action."
   ]
  },
  {
   "cell_type": "code",
   "execution_count": 7,
   "metadata": {
    "scrolled": true
   },
   "outputs": [
    {
     "name": "stdout",
     "output_type": "stream",
     "text": [
      "['Person 1', 'Person 2', 'New person 3', 'Person 4', 'Person 5', 'Person 6', 'Person 7']\n"
     ]
    }
   ],
   "source": [
    "people[2] = \"New person 3\"\n",
    "print(people)"
   ]
  },
  {
   "cell_type": "code",
   "execution_count": 8,
   "metadata": {},
   "outputs": [
    {
     "name": "stdout",
     "output_type": "stream",
     "text": [
      "['Person 1', 'Person 2', 'New person 3', 'Person 4', 'New person 5', 'New person 6', 'Person 7']\n"
     ]
    }
   ],
   "source": [
    "people[4:6] = [\"New person 5\", \"New person 6\"]\n",
    "print(people)"
   ]
  },
  {
   "cell_type": "markdown",
   "metadata": {},
   "source": [
    "### `.pop()` method\n",
    "The `.pop()` method removes the element of a list at the index passed in (default to -1, so the last item). The element removed is returned from the `pop()` method call."
   ]
  },
  {
   "cell_type": "code",
   "execution_count": 9,
   "metadata": {},
   "outputs": [
    {
     "name": "stdout",
     "output_type": "stream",
     "text": [
      "['Person 1', 'Person 2', 'New person 3', 'Person 4', 'New person 5', 'New person 6', 'Person 7']\n",
      "Removed Person 7\n",
      "['Person 1', 'Person 2', 'New person 3', 'Person 4', 'New person 5', 'New person 6']\n",
      "Removed Person 2\n",
      "['Person 1', 'New person 3', 'Person 4', 'New person 5', 'New person 6']\n",
      "Removed New person 3\n",
      "['Person 1', 'Person 4', 'New person 5', 'New person 6']\n"
     ]
    }
   ],
   "source": [
    "print(people)\n",
    "print(\"Removed \" + people.pop())\n",
    "print(people)\n",
    "print(\"Removed \" + people.pop(1))\n",
    "print(people)\n",
    "print(\"Removed \" + people.pop(-4))\n",
    "print(people)"
   ]
  },
  {
   "cell_type": "markdown",
   "metadata": {},
   "source": [
    "### `.append()` method\n",
    "The `.append()` method appends an element to the end of a list."
   ]
  },
  {
   "cell_type": "code",
   "execution_count": 10,
   "metadata": {},
   "outputs": [
    {
     "name": "stdout",
     "output_type": "stream",
     "text": [
      "['Person 1', 'Person 4', 'New person 5', 'New person 6']\n",
      "['Person 1', 'Person 4', 'New person 5', 'New person 6', 'Newly appended person 7']\n"
     ]
    }
   ],
   "source": [
    "print(people)\n",
    "people.append(\"Newly appended person 7\")\n",
    "print(people)"
   ]
  },
  {
   "cell_type": "markdown",
   "metadata": {},
   "source": [
    "### `in`\n",
    "Just like with strings, we can also check if an element is in a list using the `in` keyword. If you want to see if element `e` is in list `l`, `e in l` would give you the boolean value for that."
   ]
  },
  {
   "cell_type": "code",
   "execution_count": 11,
   "metadata": {
    "scrolled": true
   },
   "outputs": [
    {
     "name": "stdout",
     "output_type": "stream",
     "text": [
      "False\n",
      "True\n"
     ]
    }
   ],
   "source": [
    "list_of_fruits = [\"apples\", \"oranges\", \"grapes\"]\n",
    "print(\"giraffe\" in list_of_fruits)\n",
    "print(\"apples\" in list_of_fruits)"
   ]
  },
  {
   "cell_type": "markdown",
   "metadata": {},
   "source": [
    "## Tuples\n",
    "Tuple is another data type in Python that can store multiple items in one collection. Unlike lists though, tuples cannot be changed. An attempt to do so will raise a `TypeError`. In Python, tuples are surrounded by parentheses `()`."
   ]
  },
  {
   "cell_type": "code",
   "execution_count": 12,
   "metadata": {},
   "outputs": [
    {
     "name": "stdout",
     "output_type": "stream",
     "text": [
      "('Hi', 'Hello', 'Hey', 'Nice to meet you')\n",
      "<class 'tuple'>\n"
     ]
    }
   ],
   "source": [
    "a_tuple = (\"Hi\", \"Hello\", \"Hey\", \"Nice to meet you\")\n",
    "print(a_tuple)\n",
    "print(type(a_tuple))"
   ]
  },
  {
   "cell_type": "code",
   "execution_count": 13,
   "metadata": {},
   "outputs": [
    {
     "name": "stdout",
     "output_type": "stream",
     "text": [
      "Hey\n",
      "Nice to meet you\n"
     ]
    }
   ],
   "source": [
    "# Accessing tuple items\n",
    "print(a_tuple[2])\n",
    "print(a_tuple[-1])"
   ]
  },
  {
   "cell_type": "code",
   "execution_count": 14,
   "metadata": {
    "scrolled": true
   },
   "outputs": [
    {
     "ename": "TypeError",
     "evalue": "'tuple' object does not support item assignment",
     "output_type": "error",
     "traceback": [
      "\u001b[1;31m---------------------------------------------------------------------------\u001b[0m",
      "\u001b[1;31mTypeError\u001b[0m                                 Traceback (most recent call last)",
      "\u001b[1;32m~\\AppData\\Local\\Temp/ipykernel_68004/2096401841.py\u001b[0m in \u001b[0;36m<module>\u001b[1;34m\u001b[0m\n\u001b[0;32m      1\u001b[0m \u001b[1;31m# Modifying tuple items\u001b[0m\u001b[1;33m\u001b[0m\u001b[1;33m\u001b[0m\u001b[1;33m\u001b[0m\u001b[0m\n\u001b[1;32m----> 2\u001b[1;33m \u001b[0ma_tuple\u001b[0m\u001b[1;33m[\u001b[0m\u001b[1;36m0\u001b[0m\u001b[1;33m]\u001b[0m \u001b[1;33m=\u001b[0m \u001b[1;34m\"Good morning\"\u001b[0m\u001b[1;33m\u001b[0m\u001b[1;33m\u001b[0m\u001b[0m\n\u001b[0m",
      "\u001b[1;31mTypeError\u001b[0m: 'tuple' object does not support item assignment"
     ]
    }
   ],
   "source": [
    "# Modifying tuple items\n",
    "a_tuple[0] = \"Good morning\""
   ]
  },
  {
   "cell_type": "markdown",
   "metadata": {},
   "source": [
    "There are ways to modify a tuple, but it is good practice to use tuples only when it is constant throughout a program - meaning it is never changed. If you do want it changed, using a list is probably a better idea, since the list data type offers more functionalities than tuples."
   ]
  },
  {
   "cell_type": "markdown",
   "metadata": {},
   "source": [
    "### Tuples with one item\n",
    "Something that you might come across, is how to make a tuple with only one item in it. With lists, simply wrapping that one item with square brackets will do: `[\"Hi\"]`. With tuples, a comma is needed before the ending parenthesis to show that the data is a tuple."
   ]
  },
  {
   "cell_type": "code",
   "execution_count": 15,
   "metadata": {},
   "outputs": [
    {
     "name": "stdout",
     "output_type": "stream",
     "text": [
      "<class 'bool'>\n",
      "<class 'tuple'>\n"
     ]
    }
   ],
   "source": [
    "not_a_tuple = (False)\n",
    "print(type(not_a_tuple))\n",
    "\n",
    "a_tuple = (True,)\n",
    "print(type(a_tuple))"
   ]
  },
  {
   "cell_type": "markdown",
   "metadata": {},
   "source": [
    "## Lists and Tuples with `for` loops\n",
    "One of the most common way of how lists and tuples are used, is with `for` loops, so let's take a look at that."
   ]
  },
  {
   "cell_type": "code",
   "execution_count": 16,
   "metadata": {},
   "outputs": [
    {
     "name": "stdout",
     "output_type": "stream",
     "text": [
      "4\n",
      "12\n",
      "20\n",
      "102\n",
      "19\n",
      "1\n"
     ]
    }
   ],
   "source": [
    "numbers = (4, 12, 20, 102, 19, 1)\n",
    "\n",
    "# Printing out items\n",
    "for num in numbers:\n",
    "    print(num)"
   ]
  },
  {
   "cell_type": "code",
   "execution_count": 17,
   "metadata": {},
   "outputs": [
    {
     "name": "stdout",
     "output_type": "stream",
     "text": [
      "[1, 4, 2, 6, 3]\n"
     ]
    }
   ],
   "source": [
    "numbers2 = [1, 4, 2, 6, 3]\n",
    "\n",
    "# Modifying lists - incorrectly\n",
    "for num in numbers2:\n",
    "    num *= 2  # Not modifying the numbers2 itself,\n",
    "              # but the temporary variable num\n",
    "\n",
    "print(numbers2)"
   ]
  },
  {
   "cell_type": "code",
   "execution_count": 18,
   "metadata": {},
   "outputs": [
    {
     "name": "stdout",
     "output_type": "stream",
     "text": [
      "[2, 8, 4, 12, 6]\n"
     ]
    }
   ],
   "source": [
    "# Modifying lists - correctly\n",
    "for i in range(len(numbers2)):\n",
    "    numbers2[i] *= 2  # Accessing list items with indexing\n",
    "\n",
    "print(numbers2)"
   ]
  },
  {
   "cell_type": "markdown",
   "metadata": {},
   "source": [
    "## Summary\n",
    "And there you have learned about lists and tuples in Python, which will prove to be very useful in your programming journey. The lesson today covered:\n",
    "* Lists\n",
    "    * Length of lists\n",
    "    * List indexing\n",
    "    * List slicing\n",
    "    * List modifications\n",
    "    * `.pop()`\n",
    "    * `.append()`\n",
    "    * `in` keyword\n",
    "* Tuples\n",
    "    * Tuples vs Lists\n",
    "    * Tuples with one item\n",
    "* `for` loop and lists/tuples"
   ]
  }
 ],
 "metadata": {
  "kernelspec": {
   "display_name": "Python 3 (ipykernel)",
   "language": "python",
   "name": "python3"
  },
  "language_info": {
   "codemirror_mode": {
    "name": "ipython",
    "version": 3
   },
   "file_extension": ".py",
   "mimetype": "text/x-python",
   "name": "python",
   "nbconvert_exporter": "python",
   "pygments_lexer": "ipython3",
   "version": "3.9.6"
  }
 },
 "nbformat": 4,
 "nbformat_minor": 4
}
