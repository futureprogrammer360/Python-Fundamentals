{
 "cells": [
  {
   "cell_type": "markdown",
   "metadata": {},
   "source": [
    "# Dictionaries\n",
    "In addition to lists and tuples, dictionary is another very useful data type in Python. A dictionary is a **mapping** data type, which maps a collection of **keys** to their associated **values**."
   ]
  },
  {
   "cell_type": "markdown",
   "metadata": {},
   "source": [
    "## Creating a dictionary\n",
    "To create a dictionary, we put data inside curly brackets `{}`. Dictionaries store data as **key-value pairs**. Pairs are separated by commas and each pair looks like this: `<key>: <value>`. The keys of a dictionary can be any immutable type and the values can be any data type. Below is an example of a dictionary."
   ]
  },
  {
   "cell_type": "code",
   "execution_count": 1,
   "metadata": {},
   "outputs": [
    {
     "name": "stdout",
     "output_type": "stream",
     "text": [
      "{'name': 'Python', 'first released': 1991, 'is useful': True, 'operating systems': ['windows', 'macos', 'linux', 'etc']}\n",
      "<class 'dict'>\n"
     ]
    }
   ],
   "source": [
    "a_mysterious_language = {\n",
    "    \"name\": \"Python\",\n",
    "    \"first released\": 1991,\n",
    "    \"is useful\": True,\n",
    "    \"operating systems\": [\"windows\", \"macos\", \"linux\", \"etc\"]\n",
    "}\n",
    "print(a_mysterious_language)\n",
    "print(type(a_mysterious_language))"
   ]
  },
  {
   "cell_type": "markdown",
   "metadata": {},
   "source": [
    "## Accessing data in a dictionary\n",
    "Dictionary entries can be accessed similar to accessing lists/tuples. Instead of the indices however, we pass in a key into the square brackets."
   ]
  },
  {
   "cell_type": "code",
   "execution_count": 2,
   "metadata": {},
   "outputs": [
    {
     "name": "stdout",
     "output_type": "stream",
     "text": [
      "1991\n"
     ]
    }
   ],
   "source": [
    "print(a_mysterious_language[\"first released\"])"
   ]
  },
  {
   "cell_type": "markdown",
   "metadata": {},
   "source": [
    "## Modifying a dictionary\n",
    "Dictionaries are mutable, meaning the items can be changed."
   ]
  },
  {
   "cell_type": "code",
   "execution_count": 3,
   "metadata": {},
   "outputs": [
    {
     "name": "stdout",
     "output_type": "stream",
     "text": [
      "{'name': 'C++', 'first released': 1985, 'is useful': True, 'operating systems': ['windows', 'macos', 'linux', 'etc'], 'is compiled': True}\n"
     ]
    }
   ],
   "source": [
    "a_mysterious_language[\"name\"] = \"C++\"\n",
    "a_mysterious_language[\"first released\"] = 1985\n",
    "a_mysterious_language[\"is compiled\"] = True  # New item\n",
    "print(a_mysterious_language)"
   ]
  },
  {
   "cell_type": "markdown",
   "metadata": {},
   "source": [
    "## Dictionary length\n",
    "To see how many key-value pairs a dictionary has, we can pass it into the `len()` function."
   ]
  },
  {
   "cell_type": "code",
   "execution_count": 4,
   "metadata": {},
   "outputs": [
    {
     "name": "stdout",
     "output_type": "stream",
     "text": [
      "5\n"
     ]
    }
   ],
   "source": [
    "print(len(a_mysterious_language))"
   ]
  },
  {
   "cell_type": "markdown",
   "metadata": {},
   "source": [
    "## Dictionary methods\n",
    "Python provides many method to work with dictionaries."
   ]
  },
  {
   "cell_type": "code",
   "execution_count": 5,
   "metadata": {},
   "outputs": [],
   "source": [
    "# We will work with this dictionary\n",
    "# to demonstrate the dictionary methods\n",
    "john = {\n",
    "    \"species\": \"human\",\n",
    "    \"gender\": \"male\",\n",
    "    \"age\": 20\n",
    "}"
   ]
  },
  {
   "cell_type": "markdown",
   "metadata": {},
   "source": [
    "### `.get()`\n",
    "The `.get()` method allows us to access the value of a dictionary key. If we use `[]` to find the value of a key not in a dictionary, a `KeyError` will be thrown. With the `.get()` method, that can be avoided and `None` will be returned."
   ]
  },
  {
   "cell_type": "code",
   "execution_count": 6,
   "metadata": {
    "scrolled": true
   },
   "outputs": [
    {
     "ename": "KeyError",
     "evalue": "'job'",
     "output_type": "error",
     "traceback": [
      "\u001b[1;31m---------------------------------------------------------------------------\u001b[0m",
      "\u001b[1;31mKeyError\u001b[0m                                  Traceback (most recent call last)",
      "\u001b[1;32m~\\AppData\\Local\\Temp/ipykernel_55256/911060009.py\u001b[0m in \u001b[0;36m<module>\u001b[1;34m\u001b[0m\n\u001b[1;32m----> 1\u001b[1;33m \u001b[0mprint\u001b[0m\u001b[1;33m(\u001b[0m\u001b[0mjohn\u001b[0m\u001b[1;33m[\u001b[0m\u001b[1;34m\"job\"\u001b[0m\u001b[1;33m]\u001b[0m\u001b[1;33m)\u001b[0m\u001b[1;33m\u001b[0m\u001b[1;33m\u001b[0m\u001b[0m\n\u001b[0m",
      "\u001b[1;31mKeyError\u001b[0m: 'job'"
     ]
    }
   ],
   "source": [
    "print(john[\"job\"])"
   ]
  },
  {
   "cell_type": "code",
   "execution_count": 7,
   "metadata": {
    "scrolled": true
   },
   "outputs": [
    {
     "name": "stdout",
     "output_type": "stream",
     "text": [
      "None\n",
      "20\n"
     ]
    }
   ],
   "source": [
    "print(john.get(\"job\"))\n",
    "print(john.get(\"age\"))"
   ]
  },
  {
   "cell_type": "markdown",
   "metadata": {},
   "source": [
    "### `.items()`\n",
    "The `.items()` method returns the items of a dictionary in the form of a list. Each tuple in that list has 2 values, the first being the key and the second is the value of that key."
   ]
  },
  {
   "cell_type": "code",
   "execution_count": 8,
   "metadata": {},
   "outputs": [
    {
     "name": "stdout",
     "output_type": "stream",
     "text": [
      "[('species', 'human'), ('gender', 'male'), ('age', 20)]\n"
     ]
    }
   ],
   "source": [
    "print(list(john.items()))"
   ]
  },
  {
   "cell_type": "markdown",
   "metadata": {},
   "source": [
    "### `.keys()`\n",
    "The `.keys()` method returns a list of the dictionary's keys. It is useful to make sure a key is in a dictionary before trying to access its value."
   ]
  },
  {
   "cell_type": "code",
   "execution_count": 9,
   "metadata": {},
   "outputs": [
    {
     "name": "stdout",
     "output_type": "stream",
     "text": [
      "['species', 'gender', 'age']\n"
     ]
    }
   ],
   "source": [
    "print(list(john.keys()))"
   ]
  },
  {
   "cell_type": "markdown",
   "metadata": {},
   "source": [
    "### `.values()`\n",
    "Similar to `.keys()`, the `.values()` method returns a list of the values of a dictionary."
   ]
  },
  {
   "cell_type": "code",
   "execution_count": 10,
   "metadata": {
    "scrolled": true
   },
   "outputs": [
    {
     "name": "stdout",
     "output_type": "stream",
     "text": [
      "['human', 'male', 20]\n"
     ]
    }
   ],
   "source": [
    "print(list(john.values()))"
   ]
  },
  {
   "cell_type": "markdown",
   "metadata": {},
   "source": [
    "### `.pop()`\n",
    "The `.pop()` method removes the key-value pair from the dictionary where the key matches the argument passed into the method call. The value of that pair is returned."
   ]
  },
  {
   "cell_type": "code",
   "execution_count": 11,
   "metadata": {},
   "outputs": [
    {
     "name": "stdout",
     "output_type": "stream",
     "text": [
      "{'species': 'human', 'gender': 'male', 'age': 20}\n",
      "Removed pair where value is human\n",
      "{'gender': 'male', 'age': 20}\n"
     ]
    }
   ],
   "source": [
    "print(john)\n",
    "print(\"Removed pair where value is \" + john.pop(\"species\"))\n",
    "print(john)"
   ]
  },
  {
   "cell_type": "markdown",
   "metadata": {},
   "source": [
    "# Summary\n",
    "Now you know all about the dictionary data type in Python, a powerful tool now in your programming tool kit. To conclude the lesson, you learned about:\n",
    "* How to create a dictionary\n",
    "* How to access data in a dictionary\n",
    "* How to modify data in a dictionary\n",
    "* How to get the length of a dictionary\n",
    "* Dictionary methods\n",
    "    * `.get()`\n",
    "    * `.items()`\n",
    "    * `.keys()`\n",
    "    * `.values()`\n",
    "    * `.pop()`"
   ]
  }
 ],
 "metadata": {
  "kernelspec": {
   "display_name": "Python 3 (ipykernel)",
   "language": "python",
   "name": "python3"
  },
  "language_info": {
   "codemirror_mode": {
    "name": "ipython",
    "version": 3
   },
   "file_extension": ".py",
   "mimetype": "text/x-python",
   "name": "python",
   "nbconvert_exporter": "python",
   "pygments_lexer": "ipython3",
   "version": "3.9.6"
  }
 },
 "nbformat": 4,
 "nbformat_minor": 4
}
