{
 "cells": [
  {
   "cell_type": "markdown",
   "metadata": {},
   "source": [
    "# Advanced lists, tuples, dictionaries\n",
    "In this lesson, we will explore lists, tuples, and dictionaries in more depth."
   ]
  },
  {
   "cell_type": "markdown",
   "metadata": {},
   "source": [
    "## Multidimensional lists/tuples\n",
    "You know that lists and tuples are used to hold data. So far, all of the data we have used are simple values of types `str`, `int`, `float`, `bool`, etc. Did you know we can also store lists inside lists, lists inside tuples, tuples inside lists- ok you get the idea. Lists (or tuples) that store complex data types like lists are known as multi-dimensional lists/tuples."
   ]
  },
  {
   "cell_type": "code",
   "execution_count": 1,
   "metadata": {},
   "outputs": [
    {
     "name": "stdout",
     "output_type": "stream",
     "text": [
      "[['10', False, 3.14], ['20', True, 2.72], ('3', {'day': '1', 'time': 12})]\n"
     ]
    }
   ],
   "source": [
    "matrix = [\n",
    "    [\"10\", False, 3.14],\n",
    "    [\"20\", True, 2.72],\n",
    "    (\"3\", {\"day\": \"1\", \"time\": 12})\n",
    "]\n",
    "print(matrix)"
   ]
  },
  {
   "cell_type": "markdown",
   "metadata": {},
   "source": [
    "### Accessing/modifying items inside multidimensional lists/tuples\n",
    "Specifying items in a multidimensional list (we'll use lists as example) may seem intimidating at first, but it's just like how we would do it with 1-dimensional lists."
   ]
  },
  {
   "cell_type": "code",
   "execution_count": 2,
   "metadata": {},
   "outputs": [
    {
     "name": "stdout",
     "output_type": "stream",
     "text": [
      "[['10', False, 3.14], ['20', True, 2.72], ('3', {'day': '1', 'time': 12})]\n",
      "['10', False, 3.14]\n",
      "3.14\n",
      "\n",
      "('3', {'day': '1', 'time': 12})\n",
      "{'day': '1', 'time': 12}\n",
      "12\n"
     ]
    }
   ],
   "source": [
    "# Accessing items\n",
    "print(matrix)\n",
    "\n",
    "print(matrix[0])             # [\"10\", True, 3.14]\n",
    "print(matrix[0][2])          # 3.14\n",
    "print()\n",
    "\n",
    "print(matrix[2])             # ('3', {'day': '1', 'time': 12})\n",
    "print(matrix[2][1])          # {'day': '1', 'time': 12}\n",
    "print(matrix[2][1][\"time\"])  # 12"
   ]
  },
  {
   "cell_type": "code",
   "execution_count": 3,
   "metadata": {},
   "outputs": [
    {
     "name": "stdout",
     "output_type": "stream",
     "text": [
      "True\n"
     ]
    }
   ],
   "source": [
    "# Values can be assigned to variables\n",
    "is_python_good = matrix[1][1]\n",
    "print(is_python_good)"
   ]
  },
  {
   "cell_type": "code",
   "execution_count": 4,
   "metadata": {},
   "outputs": [
    {
     "name": "stdout",
     "output_type": "stream",
     "text": [
      "Original: False\n",
      "Modified: True\n"
     ]
    }
   ],
   "source": [
    "# Modifying items\n",
    "print(\"Original: \" + str(matrix[0][1]))\n",
    "matrix[0][1] = not matrix[0][1]\n",
    "print(\"Modified: \" + str(matrix[0][1]))"
   ]
  },
  {
   "cell_type": "markdown",
   "metadata": {},
   "source": [
    "## `zip()` function\n",
    "The `zip()` function merges multiple iterators together into one zip object.\n",
    "\n",
    "If we call `zip()` with `n` iterator parameters, the shortest of which has `m` items, we would get a zip object with `m` tuples in it, each holding `n` elements. In each interior tuple of the zip object, you will find the `n` elements at the same index of their respective iterators."
   ]
  },
  {
   "cell_type": "code",
   "execution_count": 5,
   "metadata": {},
   "outputs": [
    {
     "name": "stdout",
     "output_type": "stream",
     "text": [
      "[(1, 2, 3, 4), (2, 3, 4, 5), (3, 4, 5, 6)]\n"
     ]
    }
   ],
   "source": [
    "list_1 =  [1, 2, 3]\n",
    "list_2 =  [2, 3, 4, 5]\n",
    "tuple_3 = (3, 4, 5, 6, 7)\n",
    "tuple_4 = (4, 5, 6, 7, 8, 9)\n",
    "\n",
    "zipped = zip(list_1, list_2, tuple_3, tuple_4)\n",
    "print(list(zipped))"
   ]
  },
  {
   "cell_type": "markdown",
   "metadata": {},
   "source": [
    "## Comprehension\n",
    "If you are to create a list of the even numbers between 10 and 21, what will you do? Most likely, you would use an approach similar to the code below."
   ]
  },
  {
   "cell_type": "code",
   "execution_count": 6,
   "metadata": {},
   "outputs": [
    {
     "name": "stdout",
     "output_type": "stream",
     "text": [
      "[10, 12, 14, 16, 18, 20]\n"
     ]
    }
   ],
   "source": [
    "list_of_even_numbers = []\n",
    "for num in range(10, 21):\n",
    "    if num % 2 == 0:\n",
    "        list_of_even_numbers.append(num)\n",
    "\n",
    "print(list_of_even_numbers)"
   ]
  },
  {
   "cell_type": "markdown",
   "metadata": {},
   "source": [
    "That was 4 lines of code. Python can do it in 1 using list comprehension! Here's how:"
   ]
  },
  {
   "cell_type": "code",
   "execution_count": 7,
   "metadata": {},
   "outputs": [
    {
     "name": "stdout",
     "output_type": "stream",
     "text": [
      "[10, 12, 14, 16, 18, 20]\n"
     ]
    }
   ],
   "source": [
    "list_of_even_numbers = [num for num in range(10, 21) if num % 2 == 0]\n",
    "print(list_of_even_numbers)"
   ]
  },
  {
   "cell_type": "markdown",
   "metadata": {},
   "source": [
    "The syntax of comprehension looks like this: `list = [expression for element in iterable if condition == True]`\n",
    "* `list` is the name of the new list created.\n",
    "* `expression` is the element inserted into `list`.\n",
    "* `element` is the element from `iterable`.\n",
    "* `iterable` is the iterable data from which the new list is built.\n",
    "* `condition` (optional) is the filter that controls whether or not an `element` goes into `list`\n",
    "\n",
    "Below are a few more examples."
   ]
  },
  {
   "cell_type": "code",
   "execution_count": 8,
   "metadata": {
    "scrolled": true
   },
   "outputs": [
    {
     "name": "stdout",
     "output_type": "stream",
     "text": [
      "['Bob - Teacher', 'Johnathan - Student', 'Mary - Student', 'Lucas - Teacher', 'Max - Student', 'Owen - Student', 'Collin - Teacher']\n",
      "\n",
      "['BOB - TEACHER', 'LUCAS - TEACHER', 'COLLIN - TEACHER']\n"
     ]
    }
   ],
   "source": [
    "people = [\"Bob - Teacher\", \"Johnathan - Student\",\n",
    "          \"Mary - Student\", \"Lucas - Teacher\", \"Max - Student\",\n",
    "          \"Owen - Student\", \"Collin - Teacher\"]\n",
    "print(people)\n",
    "print()\n",
    "\n",
    "# Add person in upper case to teachers if \"teacher\" is in element\n",
    "teachers = [p.upper() for p in people if \"teacher\" in p.lower()]\n",
    "print(teachers)"
   ]
  },
  {
   "cell_type": "code",
   "execution_count": 9,
   "metadata": {},
   "outputs": [
    {
     "name": "stdout",
     "output_type": "stream",
     "text": [
      "Original: [0, 1, 2, 3, 4, 5, 6, 7, 8, 9]\n",
      "Squared: [0, 1, 4, 9, 16, 25, 36, 49, 64, 81]\n"
     ]
    }
   ],
   "source": [
    "x = [i for i in range(10)]  # Equivalent to x = list(range(10))\n",
    "y = [i ** 2 for i in x]\n",
    "\n",
    "print(\"Original: \" + str(x))\n",
    "print(\"Squared: \" + str(y))"
   ]
  },
  {
   "cell_type": "code",
   "execution_count": 10,
   "metadata": {},
   "outputs": [
    {
     "name": "stdout",
     "output_type": "stream",
     "text": [
      "[True, True, True, True, True, True, True, True, True, True]\n"
     ]
    }
   ],
   "source": [
    "# Instead of [True, True, True, True, True, True, True, True, True...]\n",
    "many_true_s = [True for i in range(10)]\n",
    "print(many_true_s)"
   ]
  },
  {
   "cell_type": "code",
   "execution_count": 11,
   "metadata": {},
   "outputs": [
    {
     "name": "stdout",
     "output_type": "stream",
     "text": [
      "[[0, 1, 2, 3], [0, 1, 2, 3], [0, 1, 2, 3], [0, 1, 2, 3]]\n"
     ]
    }
   ],
   "source": [
    "# Nested list comprehension\n",
    "matrix = [[i for i in range(4)] for j in range(4)]\n",
    "print(matrix)"
   ]
  },
  {
   "cell_type": "code",
   "execution_count": 12,
   "metadata": {},
   "outputs": [
    {
     "name": "stdout",
     "output_type": "stream",
     "text": [
      "All: [0, 1, 2, 3, 4, 5, 6, 7, 8, 9, 10, 11, 12, 13, 14, 15, 16, 17, 18, 19]\n",
      "Odds: (1, 3, 5, 7, 9, 11, 13, 15, 17, 19)\n",
      "Evens: (0, 2, 4, 6, 8, 10, 12, 14, 16, 18)\n"
     ]
    }
   ],
   "source": [
    "# Tuple comprehension needs the tuple() function!\n",
    "all_nums = [i for i in range(20)]\n",
    "odds = tuple(i for i in all_nums if i % 2 == 1)\n",
    "evens = tuple(i for i in all_nums if i % 2 == 0)\n",
    "\n",
    "print(\"All: \" + str(all_nums))\n",
    "print(\"Odds: \" + str(odds))\n",
    "print(\"Evens: \" + str(evens))"
   ]
  },
  {
   "cell_type": "markdown",
   "metadata": {},
   "source": [
    "### Dictionary comprehension\n",
    "Dictionary comprehension is quite similar to list and tuple comprehension. The basic syntax is like this: `{key: value for key, value in data}`"
   ]
  },
  {
   "cell_type": "code",
   "execution_count": 13,
   "metadata": {},
   "outputs": [
    {
     "name": "stdout",
     "output_type": "stream",
     "text": [
      "[(0, 0), (1, 10), (2, 20), (3, 30), (4, 40)]\n",
      "{0: 0, 1: 10, 2: 20, 3: 30, 4: 40}\n"
     ]
    }
   ],
   "source": [
    "list_1 = [i for i in range(5)]\n",
    "tuple_2 = [i * 10 for i in list_1]\n",
    "dictionary = {key: value for key, value in zip(list_1, tuple_2)}\n",
    "\n",
    "print(list(zip(list_1, tuple_2)))\n",
    "print(dictionary)"
   ]
  },
  {
   "cell_type": "markdown",
   "metadata": {},
   "source": [
    "# Summary\n",
    "Congratulations for completing the lessons of Chapter 4. In this unit, you learned about lists, tuples, and dictionaries. These three data types will be very useful for you throughout your programming adventure.\n",
    "\n",
    "Today, we talked about:\n",
    "* Multidimensional lists/tuples\n",
    "* `zip()`\n",
    "* Comprehension\n",
    "    * List/tuple comprehension\n",
    "    * Dictionary comprehension"
   ]
  }
 ],
 "metadata": {
  "kernelspec": {
   "display_name": "Python 3 (ipykernel)",
   "language": "python",
   "name": "python3"
  },
  "language_info": {
   "codemirror_mode": {
    "name": "ipython",
    "version": 3
   },
   "file_extension": ".py",
   "mimetype": "text/x-python",
   "name": "python",
   "nbconvert_exporter": "python",
   "pygments_lexer": "ipython3",
   "version": "3.9.6"
  }
 },
 "nbformat": 4,
 "nbformat_minor": 4
}
