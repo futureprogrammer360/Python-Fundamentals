{
 "cells": [
  {
   "cell_type": "markdown",
   "metadata": {},
   "source": [
    "# Word guessing game\n",
    "Today, we combine what we have learned about Python so far into one program, and a fun one at that! The project we will be making today is a word guessing game - kind of like hangman!"
   ]
  },
  {
   "cell_type": "markdown",
   "metadata": {},
   "source": [
    "## Goals\n",
    "* Program chooses random word from list of words\n",
    "* Continuously asks user to enter letters they think are in the word\n",
    "* Limited guesses before game ends\n",
    "* Addresses repeats when guessing\n",
    "* Displays progress after each guess"
   ]
  },
  {
   "cell_type": "markdown",
   "metadata": {},
   "source": [
    "## Key concepts\n",
    "In this program, we use everything we've talked about so far in this course. Some of these are:\n",
    "* Conditionals to test conditions\n",
    "* Loops for repetition\n",
    "* Functions for repeated routines\n",
    "* Lists to store array-like data\n",
    "* `random` module to randomly select words"
   ]
  },
  {
   "cell_type": "markdown",
   "metadata": {},
   "source": [
    "## `random.choice` function\n",
    "We will use the `random.choice()` function in this project so the computer would be able to randomly choose words from a list. Before using the function, we need to import the module with the line `import random`. `random.choice()` returns an element from a sequence data randomly."
   ]
  },
  {
   "cell_type": "code",
   "execution_count": 1,
   "metadata": {},
   "outputs": [
    {
     "name": "stdout",
     "output_type": "stream",
     "text": [
      "drum\n",
      "viola\n",
      "viola\n",
      "cello\n",
      "violin\n",
      "viola\n",
      "cello\n",
      "viola\n",
      "violin\n",
      "cello\n"
     ]
    }
   ],
   "source": [
    "# Import random module\n",
    "import random\n",
    "\n",
    "instruments = [\"piano\", \"violin\", \"cello\", \"viola\", \"drum\"]\n",
    "for i in range(10):\n",
    "    print(random.choice(instruments))"
   ]
  },
  {
   "cell_type": "markdown",
   "metadata": {},
   "source": [
    "### Have fun making this program!"
   ]
  }
 ],
 "metadata": {
  "kernelspec": {
   "display_name": "Python 3 (ipykernel)",
   "language": "python",
   "name": "python3"
  },
  "language_info": {
   "codemirror_mode": {
    "name": "ipython",
    "version": 3
   },
   "file_extension": ".py",
   "mimetype": "text/x-python",
   "name": "python",
   "nbconvert_exporter": "python",
   "pygments_lexer": "ipython3",
   "version": "3.9.6"
  }
 },
 "nbformat": 4,
 "nbformat_minor": 4
}
