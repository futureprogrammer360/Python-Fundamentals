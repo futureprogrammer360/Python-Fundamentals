{
 "cells": [
  {
   "cell_type": "markdown",
   "metadata": {},
   "source": [
    "# Conditionals\n",
    "In the last lesson, we already talked about conditionals. We know that they are used to change the behavior of a program based on **conditions**. In this lesson, we are going to talk more about this very important concept in Python programming."
   ]
  },
  {
   "cell_type": "markdown",
   "metadata": {},
   "source": [
    "## Syntax and structure\n",
    "Each language has a different syntax and structure for its conditional statements. In Python, a group of conditional statements will look like this:"
   ]
  },
  {
   "cell_type": "code",
   "execution_count": null,
   "metadata": {},
   "outputs": [],
   "source": [
    "if something_is_true:\n",
    "    do_something\n",
    "    do_something\n",
    "    ...\n",
    "elif something_is_true:\n",
    "    do_something\n",
    "    do_something\n",
    "    ...\n",
    "else:\n",
    "    do_something\n",
    "    do_something\n",
    "    ...\n",
    "always_do_something  # Next part of the program"
   ]
  },
  {
   "cell_type": "markdown",
   "metadata": {},
   "source": [
    "Notice that the `do_something` lines are all **indented** at the same level with a few spaces. Under a conditional statement in Python, everything at the same indentation level will be executed as a group. Now let's talk about what these lines actually do."
   ]
  },
  {
   "cell_type": "markdown",
   "metadata": {},
   "source": [
    "### `if`\n",
    "`if` is always the first word of the first line in a conditional section of a program. It does exactly what it says: `if` something is evaluated to the Boolean `True`, the block of code under it will be run.\n",
    "\n",
    "The most important part of an `if` statement is to know that the statements underneath it will be run **if and only if** the Boolean expression after the `if` evaluates to `True`. That can be anything really, from `1 == 1` to  even just a variable with the value of `True`."
   ]
  },
  {
   "cell_type": "code",
   "execution_count": 1,
   "metadata": {},
   "outputs": [
    {
     "name": "stdout",
     "output_type": "stream",
     "text": [
      "True\n",
      "Correct again!\n",
      "Hooray!\n",
      "Yes\n",
      "Not False is True\n"
     ]
    }
   ],
   "source": [
    "# Here are some examples where the statements under if are executed\n",
    "if \"python\"[4] == \"o\":\n",
    "    print(\"True\")\n",
    "if 100 % 9 == 1:\n",
    "    print(\"Correct again!\")\n",
    "    print(\"Hooray!\")\n",
    "boolean_true = True\n",
    "if boolean_true:\n",
    "    print(\"Yes\")\n",
    "if not False:\n",
    "    print(\"Not False is True\")"
   ]
  },
  {
   "cell_type": "code",
   "execution_count": 2,
   "metadata": {},
   "outputs": [],
   "source": [
    "# Here are some examples where the statements under if are not executed\n",
    "java = \"bad\"\n",
    "if java == \"good\":\n",
    "    print(\"There is a mistake...\")\n",
    "if 1 + 2 != 3:\n",
    "    print(\"Math errors are annoying.\")\n",
    "if False:\n",
    "    print(\"False\")\n",
    "    print(\"False\")\n",
    "    print(\"False\")"
   ]
  },
  {
   "cell_type": "markdown",
   "metadata": {},
   "source": [
    "### `elif`\n",
    "`elif` is basically `if`, with a few differences. An `elif` statement can only follow after an `if` statement (or another `elif` statement), and is evaluated only if the `if`/`elif` statements above it are not executed. Here are some examples:"
   ]
  },
  {
   "cell_type": "code",
   "execution_count": 3,
   "metadata": {},
   "outputs": [
    {
     "name": "stdout",
     "output_type": "stream",
     "text": [
      "Python is a good language!\n"
     ]
    }
   ],
   "source": [
    "if \"Python is a good language\":  # Non-empty strings evaluate to True\n",
    "    print(\"Python is a good language!\")\n",
    "elif True:  # True is... well True\n",
    "    print(\"This won't be executed because the if block was ran.\")"
   ]
  },
  {
   "cell_type": "code",
   "execution_count": 4,
   "metadata": {},
   "outputs": [
    {
     "name": "stdout",
     "output_type": "stream",
     "text": [
      "3 squared is indeed 9.\n"
     ]
    }
   ],
   "source": [
    "a = 9\n",
    "b = 1\n",
    "c = 3\n",
    "d = 2\n",
    "if a == c * d:\n",
    "    print(\"That doesn't seem right.\")\n",
    "elif b * d * c + c != a:\n",
    "    print(\"Incorrect.\")\n",
    "elif a == c ** d:\n",
    "    print(\"3 squared is indeed 9.\")\n",
    "elif b + b == d:\n",
    "    print(\"Correct, but skipped because the second elif was ran.\")"
   ]
  },
  {
   "cell_type": "markdown",
   "metadata": {},
   "source": [
    "### `else`\n",
    "The last part of conditionals is the `else` statement. It simply \"catches\" any case (or condition) which the previous `if` or `elif` statements did not \"catch\". There can only be one (or no) `else` statement after each `if` statement."
   ]
  },
  {
   "cell_type": "code",
   "execution_count": 5,
   "metadata": {},
   "outputs": [
    {
     "name": "stdout",
     "output_type": "stream",
     "text": [
      "Number: 314\n",
      "Even number\n"
     ]
    }
   ],
   "source": [
    "# Example of if-else\n",
    "num = int(input(\"Number: \"))\n",
    "if num % 2 == 0:\n",
    "    print(\"Even number\")\n",
    "else:\n",
    "    print(\"Odd number\")"
   ]
  },
  {
   "cell_type": "code",
   "execution_count": 6,
   "metadata": {},
   "outputs": [
    {
     "name": "stdout",
     "output_type": "stream",
     "text": [
      "Unknown weather...\n"
     ]
    }
   ],
   "source": [
    "# Example of if-elif-else\n",
    "weather = \"hurricane\"\n",
    "if weather == \"sunny\":\n",
    "    print(\"Go outside!\")\n",
    "elif weather == \"raining\":\n",
    "    print(\"Go outside with an umbrella.\")\n",
    "elif weather == \"snowing\":\n",
    "    print(\"Let's make snowmen!\")\n",
    "else:\n",
    "    print(\"Unknown weather...\")"
   ]
  },
  {
   "cell_type": "markdown",
   "metadata": {},
   "source": [
    "Note: `elif` and `else` statements are optional. They can only go after an `if` statement."
   ]
  },
  {
   "cell_type": "markdown",
   "metadata": {},
   "source": [
    "### `if-if` vs `if-elif`\n",
    "Now you might wonder, what is the difference between an `if` clause and an `elif` one if there's already an `if` block. In an `if-if` situation, both `if`s are evaluated independently - regardless of whether the first `if` was ran or not, the second will be tested. In the case of `if-elif`, the `elif` is considered if and only if all the `if`s and `elif`s above it were not executed."
   ]
  },
  {
   "cell_type": "code",
   "execution_count": 7,
   "metadata": {},
   "outputs": [
    {
     "name": "stdout",
     "output_type": "stream",
     "text": [
      "Number larger than 5.\n",
      "Number larger than 7.\n"
     ]
    }
   ],
   "source": [
    "# If-if\n",
    "num = 10\n",
    "if num > 5:\n",
    "    print(\"Number larger than 5.\")\n",
    "if num > 7:\n",
    "    print(\"Number larger than 7.\")"
   ]
  },
  {
   "cell_type": "code",
   "execution_count": 8,
   "metadata": {},
   "outputs": [
    {
     "name": "stdout",
     "output_type": "stream",
     "text": [
      "Number larger than 5.\n"
     ]
    }
   ],
   "source": [
    "# If-elif\n",
    "num = 10\n",
    "if num > 5:\n",
    "    print(\"Number larger than 5.\")\n",
    "elif num > 7:\n",
    "    print(\"Number larger than 7.\")  # True but not run because it's elif"
   ]
  },
  {
   "cell_type": "markdown",
   "metadata": {},
   "source": [
    "## Summary\n",
    "Today we looked deeply into the use of conditionals in Python. Here's a summary:\n",
    "* Syntax and structure of conditionals\n",
    "* Where and how to use the following:\n",
    "    * `if`\n",
    "    * `elif`\n",
    "    * `else`\n",
    "* `if-if` vs `if-elif`"
   ]
  }
 ],
 "metadata": {
  "kernelspec": {
   "display_name": "Python 3 (ipykernel)",
   "language": "python",
   "name": "python3"
  },
  "language_info": {
   "codemirror_mode": {
    "name": "ipython",
    "version": 3
   },
   "file_extension": ".py",
   "mimetype": "text/x-python",
   "name": "python",
   "nbconvert_exporter": "python",
   "pygments_lexer": "ipython3",
   "version": "3.9.6"
  }
 },
 "nbformat": 4,
 "nbformat_minor": 4
}
