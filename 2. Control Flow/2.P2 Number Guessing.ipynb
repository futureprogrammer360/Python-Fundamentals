{
 "cells": [
  {
   "cell_type": "markdown",
   "metadata": {},
   "source": [
    "# Number Guessing\n",
    "Today, we will be writing a Python program to simulate a number guessing game."
   ]
  },
  {
   "cell_type": "markdown",
   "metadata": {},
   "source": [
    "## Goals\n",
    "* Allow user to input guesses\n",
    "* Gives hints to user\n",
    "* Limited tries before game ends"
   ]
  },
  {
   "cell_type": "markdown",
   "metadata": {},
   "source": [
    "## Key concepts\n",
    "* I/O\n",
    "* Control flow\n",
    "    * Conditionals\n",
    "    * Loops\n",
    "* `random` module"
   ]
  },
  {
   "cell_type": "markdown",
   "metadata": {},
   "source": [
    "## Introduction `random` module\n",
    "We haven't talked about modules yet - it will be covered in a later chapter of this course! For this project, we're going to use the `randint()` function of the `random` module to make our program more interesting and more fun. Don't worry in the slightest if you don't understand how it works yet, it will be explained in depth later.\n",
    "\n",
    "Before we use that function, we need to import the module by writing `import random` at the top of the program. `random(a, b)` returns a random number between `a` and `b`, including both endpoints."
   ]
  },
  {
   "cell_type": "code",
   "execution_count": 1,
   "metadata": {},
   "outputs": [
    {
     "name": "stdout",
     "output_type": "stream",
     "text": [
      "1 3 1 1 2 3 2 2 2 1 2 2 3 3 3 3 1 1 1 1 2 2 3 1 3 "
     ]
    }
   ],
   "source": [
    "# Import the random module\n",
    "import random\n",
    "\n",
    "# Demonstration of how the function works\n",
    "for _ in range(25):\n",
    "    print(random.randint(1, 3), end=\" \")  # 1, 2, or 3"
   ]
  },
  {
   "cell_type": "markdown",
   "metadata": {},
   "source": [
    "# Let's code!"
   ]
  }
 ],
 "metadata": {
  "kernelspec": {
   "display_name": "Python 3 (ipykernel)",
   "language": "python",
   "name": "python3"
  },
  "language_info": {
   "codemirror_mode": {
    "name": "ipython",
    "version": 3
   },
   "file_extension": ".py",
   "mimetype": "text/x-python",
   "name": "python",
   "nbconvert_exporter": "python",
   "pygments_lexer": "ipython3",
   "version": "3.9.6"
  }
 },
 "nbformat": 4,
 "nbformat_minor": 4
}
