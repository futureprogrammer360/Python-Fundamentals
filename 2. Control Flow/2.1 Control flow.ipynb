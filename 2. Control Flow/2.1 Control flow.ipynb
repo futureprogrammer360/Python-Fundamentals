{
 "cells": [
  {
   "cell_type": "markdown",
   "metadata": {},
   "source": [
    "# Control flow\n",
    "This unit is all about control flow and loops in Python. Using this knowledge, you can start making fun projects such as simple text-based games. Let's get started!"
   ]
  },
  {
   "cell_type": "markdown",
   "metadata": {},
   "source": [
    "## Programming logic\n",
    "Programming is not all about learning the syntax and memorizing them. Instead, programming deals largely with logic. This is known as the control flow of a program. Today, we are going to focus on **conditionals** and **loops**, two of the most important parts of control flow."
   ]
  },
  {
   "cell_type": "markdown",
   "metadata": {},
   "source": [
    "## Conditionals\n",
    "In many situations in life, we humans make decisions. For instance, if it is snowing, then it would be best to stay inside. If it is sunny, then we should go outdoors. In programming, this is known as **conditionals**. Conditionals are used when a program needs to evaluate a condition and change its behavior (or flow) accordingly."
   ]
  },
  {
   "cell_type": "markdown",
   "metadata": {},
   "source": [
    "### `if`, `elif`, and `else`\n",
    "Consider the real life situation of planning a day's activities. More likely than not, the decision-making process would be something along these lines: **\"If it is sunny, I will go outside, or if it is raining, I will go outside with an umbrella, or else, I'll just stay inside...\"** Note in this statement, there are three important phrases: **if**, **or if**, and **or else**. **If** describes the first possible condition, **or if** describes the second (or third, fourth, etc) possible condition, and **or else** catches all other possible conditions.\n",
    "\n",
    "In Python programming, the same principle applies. The only minor difference is the wording. In Python, **if** is also `if`, **or if** is `elif` (short for \"else if\"), and **or else** is just `else`. Together, these three make up conditionals in Python. Below is a sample program using conditionals. Try to make sense of the code on your own and continue when you are ready."
   ]
  },
  {
   "cell_type": "code",
   "execution_count": 1,
   "metadata": {},
   "outputs": [
    {
     "name": "stdout",
     "output_type": "stream",
     "text": [
      "Number is equal to 10.\n"
     ]
    }
   ],
   "source": [
    "num = 10\n",
    "if num > 10:\n",
    "    print(\"Number is larger than 10.\")\n",
    "elif num < 10:\n",
    "    print(\"Number is less than 10.\")\n",
    "elif num == 10:\n",
    "    print(\"Number is equal to 10.\")\n",
    "else:\n",
    "    print(\"There seems to be a mistake...\")"
   ]
  },
  {
   "cell_type": "markdown",
   "metadata": {},
   "source": [
    "Hopefully, you understood that the program is comparing the variable `num` against `10`. A different message is printed out depending on whether `num` is greater than, less than, or equal to `10`. The `else` block handles any previously uncatched conditions in the `if` and `elif` blocks. In this case, this is never reached."
   ]
  },
  {
   "cell_type": "markdown",
   "metadata": {},
   "source": [
    "## Loops\n",
    "Have you encountered a situation where you want Python to repetitively do the same thing multiple times? Maybe not yet, but as you start writing longer and more complicated programs, you definitely will. Examine the code below, is it efficient? Is it easy to write? Can you think of another way to achieve the same thing?"
   ]
  },
  {
   "cell_type": "code",
   "execution_count": 2,
   "metadata": {},
   "outputs": [
    {
     "name": "stdout",
     "output_type": "stream",
     "text": [
      "Hello!\n",
      "Hello!\n",
      "Hello!\n",
      "Hello!\n",
      "Hello!\n",
      "Hello!\n",
      "Hello!\n",
      "Hello!\n",
      "Hello!\n",
      "Hello!\n"
     ]
    }
   ],
   "source": [
    "print(\"Hello!\")\n",
    "print(\"Hello!\")\n",
    "print(\"Hello!\")\n",
    "print(\"Hello!\")\n",
    "print(\"Hello!\")\n",
    "print(\"Hello!\")\n",
    "print(\"Hello!\")\n",
    "print(\"Hello!\")\n",
    "print(\"Hello!\")\n",
    "print(\"Hello!\")"
   ]
  },
  {
   "cell_type": "markdown",
   "metadata": {},
   "source": [
    "As you see, the program prints out \"Hello!\" numerous times. Right now, the `print()` statement was executed 10 times, imagine writing it 100 times or 1000 times! Or imagine if the `print()` statement isn't the only statement we want to run each time! That will be a *very* long program. And this is where loops come in."
   ]
  },
  {
   "cell_type": "markdown",
   "metadata": {},
   "source": [
    "### `for` loops\n",
    "There are two main types of loops in Python. One of them is the `for` loop. `for` loops are *iterative*. They *iterate* through a sequence data type and execute statement(s) once for each item in that sequence. To understand the concept more clearly, let's look at an example."
   ]
  },
  {
   "cell_type": "code",
   "execution_count": 3,
   "metadata": {},
   "outputs": [
    {
     "name": "stdout",
     "output_type": "stream",
     "text": [
      "a\n",
      " \n",
      "w\n",
      "o\n",
      "r\n",
      "d\n"
     ]
    }
   ],
   "source": [
    "for character in \"a word\":\n",
    "    print(character)\n",
    "\n",
    "# For each character in the string \"a word\", the character will be printed"
   ]
  },
  {
   "cell_type": "markdown",
   "metadata": {},
   "source": [
    "As you can see in this simple program above, the basic structure of a `for` loop is as follows:"
   ]
  },
  {
   "cell_type": "code",
   "execution_count": null,
   "metadata": {},
   "outputs": [],
   "source": [
    "for temporary_variable in sequence_variable:\n",
    "    statement(s)"
   ]
  },
  {
   "cell_type": "markdown",
   "metadata": {},
   "source": [
    "### `while` loops\n",
    "The other type of loops in Python is the `while` loop. While `for` loops iterate through a sequence and executes statement(s) for each iteration, `while` loops run statement(s) **as long as** (*while*) a certain condition is `True`."
   ]
  },
  {
   "cell_type": "code",
   "execution_count": 4,
   "metadata": {},
   "outputs": [
    {
     "name": "stdout",
     "output_type": "stream",
     "text": [
      "0\n",
      "1\n",
      "2\n",
      "3\n",
      "4\n",
      "5\n"
     ]
    }
   ],
   "source": [
    "count = 0\n",
    "while count <= 5:\n",
    "    print(count)\n",
    "    count += 1"
   ]
  },
  {
   "cell_type": "markdown",
   "metadata": {},
   "source": [
    "## Summary\n",
    "And this is the end of the lesson on Python conditionals and loops. Today, you were introduced to the following: \n",
    "1. Conditionals (`if`-`elif`-`else`)\n",
    "2. Loops\n",
    "    * `for` loops\n",
    "    * `while` loops\n",
    "    \n",
    "If you don't fully understand these concepts yet, don't worry. This lesson is meant to be an introduction to those topics. In the next few lessons, we are going to dive deeper into each and explore more about them."
   ]
  }
 ],
 "metadata": {
  "kernelspec": {
   "display_name": "Python 3 (ipykernel)",
   "language": "python",
   "name": "python3"
  },
  "language_info": {
   "codemirror_mode": {
    "name": "ipython",
    "version": 3
   },
   "file_extension": ".py",
   "mimetype": "text/x-python",
   "name": "python",
   "nbconvert_exporter": "python",
   "pygments_lexer": "ipython3",
   "version": "3.9.6"
  }
 },
 "nbformat": 4,
 "nbformat_minor": 4
}
