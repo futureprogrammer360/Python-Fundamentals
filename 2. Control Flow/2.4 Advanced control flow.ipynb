{
 "cells": [
  {
   "cell_type": "markdown",
   "metadata": {},
   "source": [
    "# Advanced control flow\n",
    "You have already learned about the basics of control flow in Python. Now, we will dive even deeper, and talk about nested control flow and other more complex ways you can modify a program to suit your needs."
   ]
  },
  {
   "cell_type": "markdown",
   "metadata": {},
   "source": [
    "## Nested conditionals\n",
    "So far, we have only been using conditionals where conditional statements form a \"ladder\". But quite often, you will encounter conditionals where things are more complex. Examine the program down below, and try to understand how the program \"flows\"."
   ]
  },
  {
   "cell_type": "code",
   "execution_count": 1,
   "metadata": {},
   "outputs": [
    {
     "name": "stdout",
     "output_type": "stream",
     "text": [
      "Sorry, park is closed. We should go to the garden.\n",
      "Have a nice day!\n"
     ]
    }
   ],
   "source": [
    "park_open = False\n",
    "weather = \"sunny\"\n",
    "if weather == \"sunny\":\n",
    "    if park_open:  # No need to write \"== True\"\n",
    "        print(\"Let's go to the park!\")\n",
    "    else:\n",
    "        print(\"Sorry, park is closed. We should go to the garden.\")\n",
    "else:\n",
    "    print(\"The sun isn't out, let's go to the museum.\")\n",
    "print(\"Have a nice day!\")"
   ]
  },
  {
   "cell_type": "markdown",
   "metadata": {},
   "source": [
    "There are two conditions deciding how the code above behaves. Firstly, there is the Boolean `park_open`, which determines whether the park is open, and then there is the string `weather`, storing the current weather as a string variable. The weather is evaluated first. If it is sunny, then we evaluate `park_open`, if not, we just go to the museum and have a nice day."
   ]
  },
  {
   "cell_type": "code",
   "execution_count": 2,
   "metadata": {},
   "outputs": [
    {
     "name": "stdout",
     "output_type": "stream",
     "text": [
      "Enter number here: 10\n",
      "Num is 10\n"
     ]
    }
   ],
   "source": [
    "# Here's an extreme case of nested conditionals that\n",
    "# you'll probably never see in real life\n",
    "num = int(input(\"Enter number here: \"))  # Number between 0 and 10\n",
    "if num < 5:\n",
    "    if num == 2:\n",
    "        print(\"Num is 2\")\n",
    "    elif num > 2:\n",
    "        if num == 3:\n",
    "            print(\"Num is 3\")\n",
    "        else:\n",
    "            print(\"Num is 4\")\n",
    "    else:\n",
    "        if num == 0:\n",
    "            print(\"Num is 0\")\n",
    "        else:\n",
    "            print(\"Num is 1\")\n",
    "else:\n",
    "    if num > 7:\n",
    "        if num > 8:\n",
    "            if num == 9:\n",
    "                print(\"Num is 9\")\n",
    "            else:\n",
    "                print(\"Num is 10\")\n",
    "        else:\n",
    "            print(\"Num is 8\")\n",
    "    elif num > 6:\n",
    "        print(\"Num is 7\")\n",
    "    elif num < 6:\n",
    "        print(\"Num is 5\")\n",
    "    else:\n",
    "        print(\"Num is 6\")"
   ]
  },
  {
   "cell_type": "markdown",
   "metadata": {},
   "source": [
    "You'll probably never see or write such a useless program as the one above, but it is a good example of how nested conditionals can be used."
   ]
  },
  {
   "cell_type": "markdown",
   "metadata": {},
   "source": [
    "## Nested `for` loops\n",
    "`for` loops can also be nested inside one another. Below are two examples."
   ]
  },
  {
   "cell_type": "code",
   "execution_count": 3,
   "metadata": {},
   "outputs": [
    {
     "name": "stdout",
     "output_type": "stream",
     "text": [
      "h b\n",
      "h y\n",
      "h e\n",
      "i b\n",
      "i y\n",
      "i e\n"
     ]
    }
   ],
   "source": [
    "for char_hi in \"hi\":\n",
    "    for char_bye in \"bye\":\n",
    "        print(char_hi, char_bye)"
   ]
  },
  {
   "cell_type": "code",
   "execution_count": 4,
   "metadata": {},
   "outputs": [
    {
     "name": "stdout",
     "output_type": "stream",
     "text": [
      "-20\n",
      "-40\n",
      "-21\n",
      "-42\n",
      "-40\n",
      "-80\n",
      "-42\n",
      "-84\n"
     ]
    }
   ],
   "source": [
    "for i in range(1, 3):  # 1, 2\n",
    "    for j in range(20, 22):  # 20, 21\n",
    "        for k in range(-1, -3, -1):  # -1, -2\n",
    "            print(i * j * k)"
   ]
  },
  {
   "cell_type": "markdown",
   "metadata": {},
   "source": [
    "## Other types of nested loops\n",
    "The idea of nested loops is the same for `while` loops as well. You can even combine multiple `for` loops with multiple `while` loops - only if you see the need to, since a nested loop with too many \"layers\" tend to be a little bit confusing."
   ]
  },
  {
   "cell_type": "markdown",
   "metadata": {},
   "source": [
    "## Control flow keywords\n",
    "There a few important keywords in Python that are often used in control flow."
   ]
  },
  {
   "cell_type": "markdown",
   "metadata": {},
   "source": [
    "### `continue`\n",
    "Firstly, there is the `continue` keyword. It is used to *continue* to the next iteration of a loop (both `for` and `while` loop). Below are examples of how `continue` is used."
   ]
  },
  {
   "cell_type": "code",
   "execution_count": 5,
   "metadata": {},
   "outputs": [
    {
     "name": "stdout",
     "output_type": "stream",
     "text": [
      "0\n",
      "2\n",
      "4\n",
      "6\n",
      "8\n"
     ]
    }
   ],
   "source": [
    "# Continue in for loops\n",
    "for i in range(10):\n",
    "    if i % 2 == 1:\n",
    "        continue  # Go back to line 2 without running line 5\n",
    "    print(i)"
   ]
  },
  {
   "cell_type": "code",
   "execution_count": 6,
   "metadata": {},
   "outputs": [
    {
     "name": "stdout",
     "output_type": "stream",
     "text": [
      "9\n",
      "7\n",
      "Out of loop\n"
     ]
    }
   ],
   "source": [
    "# Continue in while loops\n",
    "num = 10\n",
    "while num > 7:\n",
    "    num -= 1\n",
    "    if num == 8:\n",
    "        continue\n",
    "    print(num)\n",
    "print(\"Out of loop\")"
   ]
  },
  {
   "cell_type": "markdown",
   "metadata": {},
   "source": [
    "### `break`\n",
    "The second keyword used in Python's control flow, is the `break` keyword. Its purpose is to `break` the loop it is in, and \"flow\" the program to the next part. You can see some examples of `break` below."
   ]
  },
  {
   "cell_type": "code",
   "execution_count": 7,
   "metadata": {},
   "outputs": [
    {
     "name": "stdout",
     "output_type": "stream",
     "text": [
      "0 squared is 0\n",
      "2 squared is 4\n",
      "4 squared is 16\n",
      "The for loop has been exited.\n"
     ]
    }
   ],
   "source": [
    "# Break in for loops\n",
    "for i in range(0, 12041122, 2):\n",
    "    print(str(i) + \" squared is \" + str(i ** 2))\n",
    "    if i == 4:\n",
    "        break  # The loop will be exited\n",
    "print(\"The for loop has been exited.\")"
   ]
  },
  {
   "cell_type": "code",
   "execution_count": 8,
   "metadata": {},
   "outputs": [
    {
     "name": "stdout",
     "output_type": "stream",
     "text": [
      "3\n",
      "4\n",
      "5\n",
      "Let's get out of this loop\n",
      "We're out of the loop\n"
     ]
    }
   ],
   "source": [
    "num = 3\n",
    "while num < 931546589:\n",
    "    if num == 6:\n",
    "        print(\"Let's get out of this loop\")\n",
    "        break\n",
    "    print(num)\n",
    "    num += 1\n",
    "print(\"We're out of the loop\")"
   ]
  },
  {
   "cell_type": "markdown",
   "metadata": {},
   "source": [
    "### `pass`\n",
    "The last Python keyword we are going to cover today, is the `pass` keyword. It is simply a placeholder that does nothing.\n",
    "\n",
    "Why will you want to use it? Perhaps when writing shorter programs you won't need it, but when your code starts getting longer and longer, you might find yourself wanting to put down an empty placeholder for code you want to write later. `pass` is also used to prevent syntax errors.\n",
    "\n",
    "Below are a few examples of where and how you can use `pass`."
   ]
  },
  {
   "cell_type": "code",
   "execution_count": 9,
   "metadata": {},
   "outputs": [
    {
     "name": "stdout",
     "output_type": "stream",
     "text": [
      "Entering for loop\n",
      "Loop exited\n"
     ]
    }
   ],
   "source": [
    "# Pass in for loop\n",
    "print(\"Entering for loop\")\n",
    "for i in range(112311202):\n",
    "    pass\n",
    "print(\"Loop exited\")"
   ]
  },
  {
   "cell_type": "code",
   "execution_count": 10,
   "metadata": {},
   "outputs": [
    {
     "name": "stdout",
     "output_type": "stream",
     "text": [
      "Entering conditionals\n",
      "Out of the conditionals\n"
     ]
    }
   ],
   "source": [
    "# Pass in conditionals\n",
    "num = 10\n",
    "print(\"Entering conditionals\")\n",
    "if num + 1 == 3:\n",
    "    pass\n",
    "elif num == 6:\n",
    "    pass\n",
    "elif num > 4:\n",
    "    pass\n",
    "elif num < 49:\n",
    "    pass\n",
    "else:\n",
    "    pass\n",
    "print(\"Out of the conditionals\")"
   ]
  },
  {
   "cell_type": "markdown",
   "metadata": {},
   "source": [
    "A note about `pass`: when it comes to control flow, `pass` is used in `for` loops and conditionals. It's unlikely you will ever see a `pass` in a `while` loop because it will just be an infinite loop that will never end.\n",
    "\n",
    "Also, `pass` is not limited to control flow - it can also be used in functions, classes, and more (you'll learn about those later in the course so don't worry about them yet)."
   ]
  },
  {
   "cell_type": "markdown",
   "metadata": {},
   "source": [
    "## Summary\n",
    "Hooray! Congratulations on learning control flow. This is one of the most important parts of programming and you'll use the skills you learned these past lessons all the time. To conclude the lesson, these are the things you learned today:\n",
    "* Nested control flow\n",
    "    * Nested conditionals\n",
    "    * Nested loops\n",
    "* Control flow keywords\n",
    "    * `continue`\n",
    "    * `break`\n",
    "    * `pass`"
   ]
  }
 ],
 "metadata": {
  "kernelspec": {
   "display_name": "Python 3 (ipykernel)",
   "language": "python",
   "name": "python3"
  },
  "language_info": {
   "codemirror_mode": {
    "name": "ipython",
    "version": 3
   },
   "file_extension": ".py",
   "mimetype": "text/x-python",
   "name": "python",
   "nbconvert_exporter": "python",
   "pygments_lexer": "ipython3",
   "version": "3.9.6"
  }
 },
 "nbformat": 4,
 "nbformat_minor": 4
}
