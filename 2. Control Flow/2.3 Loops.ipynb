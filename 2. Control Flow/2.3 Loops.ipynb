{
 "cells": [
  {
   "cell_type": "markdown",
   "metadata": {},
   "source": [
    "# Loops\n",
    "In lesson 2.1: Control Flow, you had already been introduced to the concept of loops in Python. Just to review, there are two main types of loops in Python and most other languages as well: `for` loops and `while` loops."
   ]
  },
  {
   "cell_type": "markdown",
   "metadata": {},
   "source": [
    "## `for` loops\n",
    "`for` loops are iterative. A `for` loop will run as many time(s) as there are elements in the sequence variable the loop runs on. Just to review, the structure of a `for` loop is as follows:"
   ]
  },
  {
   "cell_type": "code",
   "execution_count": null,
   "metadata": {},
   "outputs": [],
   "source": [
    "for temporary_variable in sequence_data:\n",
    "    statement(s)"
   ]
  },
  {
   "cell_type": "markdown",
   "metadata": {},
   "source": [
    "A `for` loop in Python starts with the keyword `for`, followed by a `temporary_variable` that you can name, and then the keyword `in`, and lastly the sequence data (which can also be a variable). On the following line(s) which need to be indented, are the statements that you want to run for each of the elements in the sequence.\n",
    "\n",
    "The `sequence_data` in a `for` loop can be a value of any sequence data type. A sequence data is a \"list\" of values stored in an organized fashion. So far, the only one we have talked about is the string. In the near future, we will also learn about data types like list, tuple, dictionary, etc."
   ]
  },
  {
   "cell_type": "code",
   "execution_count": 1,
   "metadata": {},
   "outputs": [
    {
     "name": "stdout",
     "output_type": "stream",
     "text": [
      "==P====P====P====P====P==\n",
      "==y====y====y====y====y==\n",
      "==t====t====t====t====t==\n",
      "==h====h====h====h====h==\n",
      "==o====o====o====o====o==\n",
      "==n====n====n====n====n==\n",
      "== ==== ==== ==== ==== ==\n",
      "==i====i====i====i====i==\n",
      "==s====s====s====s====s==\n",
      "== ==== ==== ==== ==== ==\n",
      "==a====a====a====a====a==\n",
      "==w====w====w====w====w==\n",
      "==e====e====e====e====e==\n",
      "==s====s====s====s====s==\n",
      "==o====o====o====o====o==\n",
      "==m====m====m====m====m==\n",
      "==e====e====e====e====e==\n",
      "==!====!====!====!====!==\n"
     ]
    }
   ],
   "source": [
    "# Here's an example of a for loop\n",
    "for character in \"Python is awesome!\":\n",
    "    print((\"==\" + character + \"==\") * 5)"
   ]
  },
  {
   "cell_type": "markdown",
   "metadata": {},
   "source": [
    "## `range()`\n",
    "The `range()` data type in Python is often used with `for` loops. `range()` returns a sequence of numbers, starting from 0 (by default), and increments by 1 (by default), and stops *before* a specified number. None of these numbers need to be positive. `range()` data are very frequently used with `for` loops, especially when a certain number of iterations is desired."
   ]
  },
  {
   "cell_type": "code",
   "execution_count": 2,
   "metadata": {},
   "outputs": [
    {
     "name": "stdout",
     "output_type": "stream",
     "text": [
      "0\n",
      "1\n",
      "2\n",
      "3\n",
      "4\n"
     ]
    }
   ],
   "source": [
    "# Let's see what numbers are in range(5)\n",
    "for i in range(5):\n",
    "    print(i)"
   ]
  },
  {
   "cell_type": "code",
   "execution_count": 3,
   "metadata": {},
   "outputs": [
    {
     "name": "stdout",
     "output_type": "stream",
     "text": [
      "Hello\n",
      "Hello\n",
      "Hello\n"
     ]
    }
   ],
   "source": [
    "# You can do other stuff with range() as well\n",
    "for i in range(3):\n",
    "    print(\"Hello\")"
   ]
  },
  {
   "cell_type": "code",
   "execution_count": 4,
   "metadata": {},
   "outputs": [
    {
     "name": "stdout",
     "output_type": "stream",
     "text": [
      "4 squared  is 16\n",
      "5 squared  is 25\n",
      "6 squared  is 36\n",
      "7 squared  is 49\n",
      "8 squared  is 64\n",
      "9 squared  is 81\n",
      "10 squared  is 100\n",
      "11 squared  is 121\n"
     ]
    }
   ],
   "source": [
    "# range(start, stop)\n",
    "for i in range(4, 12):\n",
    "    i_squared = i ** 2\n",
    "    print(str(i) + \" squared  is \" + str(i_squared))"
   ]
  },
  {
   "cell_type": "code",
   "execution_count": 5,
   "metadata": {},
   "outputs": [
    {
     "name": "stdout",
     "output_type": "stream",
     "text": [
      "6\n",
      "9\n",
      "12\n",
      "15\n",
      "18\n",
      "21\n"
     ]
    }
   ],
   "source": [
    "# range(start, stop, increment/decrement)\n",
    "for i in range(6, 22, 3):\n",
    "    print(i)"
   ]
  },
  {
   "cell_type": "markdown",
   "metadata": {},
   "source": [
    "## `while` loops\n",
    "Recall from our previous discussion of `while` loops that this type of loop runs as long as a certain condition is satisfied. A real life analogy of this would be: \"While it is raining, I will stay home\". Below are some examples."
   ]
  },
  {
   "cell_type": "code",
   "execution_count": 6,
   "metadata": {},
   "outputs": [
    {
     "name": "stdout",
     "output_type": "stream",
     "text": [
      "10\n",
      "9\n",
      "8\n",
      "7\n",
      "6\n",
      "5\n",
      "4\n",
      "3\n",
      "2\n",
      "1\n",
      "0\n"
     ]
    }
   ],
   "source": [
    "num = 10\n",
    "while num >= 0:\n",
    "    print(num)\n",
    "    num -= 1"
   ]
  },
  {
   "cell_type": "markdown",
   "metadata": {},
   "source": [
    "###### Beware infinite loops\n",
    "Now you may possibly wonder, what will happen if the condition always evaluates to true? The answer is: the loop will always run. Well, as long as your computer has battery and doesn't die. It is better of course, to make sure the program has a way to end, but if you ever run into an infinite loop unexpectedly, don't panic, just simply interrupt the program's execution and all will be well. In IDLE and most other runtime environments, just press `CTRL-C` and a `KeyboardInterrupt` will happen, ending the program."
   ]
  },
  {
   "cell_type": "markdown",
   "metadata": {},
   "source": [
    "## Summary\n",
    "Today, we discussed the following:\n",
    "* `for` loops\n",
    "    * `range()`\n",
    "* `while` loops\n",
    "    * Infinite loops"
   ]
  }
 ],
 "metadata": {
  "kernelspec": {
   "display_name": "Python 3 (ipykernel)",
   "language": "python",
   "name": "python3"
  },
  "language_info": {
   "codemirror_mode": {
    "name": "ipython",
    "version": 3
   },
   "file_extension": ".py",
   "mimetype": "text/x-python",
   "name": "python",
   "nbconvert_exporter": "python",
   "pygments_lexer": "ipython3",
   "version": "3.9.6"
  }
 },
 "nbformat": 4,
 "nbformat_minor": 4
}
