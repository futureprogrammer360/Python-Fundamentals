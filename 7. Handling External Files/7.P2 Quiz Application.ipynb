{
 "cells": [
  {
   "cell_type": "markdown",
   "id": "8e01f58b",
   "metadata": {},
   "source": [
    "# Quiz Application\n",
    "Today, we will create a quiz application using Python and `JSON`."
   ]
  },
  {
   "cell_type": "markdown",
   "id": "63668ca8",
   "metadata": {},
   "source": [
    "## Goals\n",
    "* Store quiz data in `json` files\n",
    "* Use Python to read in the quiz data and handle user interaction"
   ]
  },
  {
   "cell_type": "markdown",
   "id": "abf3d8ff",
   "metadata": {},
   "source": [
    "## Main concepts\n",
    "* File operations\n",
    "* `json` module"
   ]
  },
  {
   "cell_type": "markdown",
   "id": "fc287a49",
   "metadata": {},
   "source": [
    "## Have fun coding!"
   ]
  }
 ],
 "metadata": {
  "kernelspec": {
   "display_name": "Python 3 (ipykernel)",
   "language": "python",
   "name": "python3"
  },
  "language_info": {
   "codemirror_mode": {
    "name": "ipython",
    "version": 3
   },
   "file_extension": ".py",
   "mimetype": "text/x-python",
   "name": "python",
   "nbconvert_exporter": "python",
   "pygments_lexer": "ipython3",
   "version": "3.9.6"
  }
 },
 "nbformat": 4,
 "nbformat_minor": 5
}
