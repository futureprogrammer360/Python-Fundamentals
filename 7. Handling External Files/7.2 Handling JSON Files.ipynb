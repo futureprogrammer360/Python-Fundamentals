{
 "cells": [
  {
   "cell_type": "markdown",
   "metadata": {},
   "source": [
    "# Handling JSON files\n",
    "`JSON` stands for `JavaScript Object Notation`. It is a common data format used to store and transfer data over the internet. Although the file format was extended from JavaScript, `JSON` is also frequently used in Python programming, especially in fields like web scraping and web applications. `JSON` files generally have a file extension `.json`."
   ]
  },
  {
   "cell_type": "code",
   "execution_count": 1,
   "metadata": {},
   "outputs": [
    {
     "name": "stdout",
     "output_type": "stream",
     "text": [
      "json-data.json\n",
      "json2.json\n"
     ]
    }
   ],
   "source": [
    "# List json files\n",
    "import os\n",
    "for item in os.listdir():\n",
    "    if item.endswith(\".json\"):\n",
    "        print(item)"
   ]
  },
  {
   "cell_type": "markdown",
   "metadata": {},
   "source": [
    "## `json` module\n",
    "Python has a built-in module to interact with `JSON` data, called... `json`."
   ]
  },
  {
   "cell_type": "code",
   "execution_count": 2,
   "metadata": {},
   "outputs": [],
   "source": [
    "import json"
   ]
  },
  {
   "cell_type": "markdown",
   "metadata": {},
   "source": [
    "## Reading from `json` files\n",
    "To parse a JSON file content into Python objects, the `json` module provides:\n",
    "* `json.loads()`: takes a `JSON` **string** as argument.\n",
    "* `json.load()`: takes a `JSON` **file object** as argument.\n",
    "\n",
    "Both functions return a deserialized dictionary of Python objects."
   ]
  },
  {
   "cell_type": "code",
   "execution_count": 3,
   "metadata": {
    "scrolled": true
   },
   "outputs": [
    {
     "name": "stdout",
     "output_type": "stream",
     "text": [
      "{\n",
      "    \"firstName\": \"Future\",\n",
      "    \"lastName\": \"Programmer\",\n",
      "    \"hobbies\": [\"programming\", \"photography\", \"traveling\"],\n",
      "    \"age\": 15,\n",
      "    \"likes_python\": true\n",
      "}\n",
      "<class 'str'>\n",
      "\n",
      "{'firstName': 'Future', 'lastName': 'Programmer', 'hobbies': ['programming', 'photography', 'traveling'], 'age': 15, 'likes_python': True}\n",
      "<class 'dict'>\n"
     ]
    }
   ],
   "source": [
    "# json.loads(): string\n",
    "with open(\"json-data.json\") as file:\n",
    "    content = file.read()\n",
    "    print(content)\n",
    "    print(type(content))\n",
    "    print()\n",
    "\n",
    "    data = json.loads(content)\n",
    "    print(data)\n",
    "    print(type(data))"
   ]
  },
  {
   "cell_type": "code",
   "execution_count": 4,
   "metadata": {},
   "outputs": [
    {
     "name": "stdout",
     "output_type": "stream",
     "text": [
      "{'firstName': 'Future', 'lastName': 'Programmer', 'hobbies': ['programming', 'photography', 'traveling'], 'age': 15, 'likes_python': True}\n"
     ]
    }
   ],
   "source": [
    "# json.load(): file object\n",
    "with open(\"json-data.json\") as file:\n",
    "    data = json.load(file)\n",
    "    print(data)"
   ]
  },
  {
   "cell_type": "markdown",
   "metadata": {},
   "source": [
    "### Accessing `JSON` data\n",
    "We can access data in a `JSON` file like any other dictionary."
   ]
  },
  {
   "cell_type": "code",
   "execution_count": 5,
   "metadata": {},
   "outputs": [
    {
     "name": "stdout",
     "output_type": "stream",
     "text": [
      "Future Programmer\n",
      "programming photography traveling "
     ]
    }
   ],
   "source": [
    "name = data[\"firstName\"] + \" \" + data[\"lastName\"]\n",
    "print(name)\n",
    "for hobby in data[\"hobbies\"]:\n",
    "    print(hobby, end=\" \")"
   ]
  },
  {
   "cell_type": "markdown",
   "metadata": {},
   "source": [
    "## Writing to `JSON` files\n",
    "We can use the `json.dumps` and `json.dump` functions to convert a Python object into JSON.\n",
    "* `json.dumps`: convert Python object into `JSON` **string**.\n",
    "* `json.dump`: write Python object into a **file**."
   ]
  },
  {
   "cell_type": "code",
   "execution_count": 6,
   "metadata": {},
   "outputs": [],
   "source": [
    "x = {\n",
    "    \"name\": \"Future Programmer\",\n",
    "    \"hobbies\": [\"programming\", \"photography\", \"traveling\"],\n",
    "    \"age\": 15,\n",
    "    \"likes_python\": True\n",
    "}"
   ]
  },
  {
   "cell_type": "code",
   "execution_count": 7,
   "metadata": {
    "scrolled": false
   },
   "outputs": [
    {
     "name": "stdout",
     "output_type": "stream",
     "text": [
      "{\"name\": \"Future Programmer\", \"hobbies\": [\"programming\", \"photography\", \"traveling\"], \"age\": 15, \"likes_python\": true} \n",
      "\n",
      "{\n",
      "  \"name\": \"Future Programmer\",\n",
      "  \"hobbies\": [\n",
      "    \"programming\",\n",
      "    \"photography\",\n",
      "    \"traveling\"\n",
      "  ],\n",
      "  \"age\": 15,\n",
      "  \"likes_python\": true\n",
      "} \n",
      "\n",
      "{\n",
      "  \"age\": 15,\n",
      "  \"hobbies\": [\n",
      "    \"programming\",\n",
      "    \"photography\",\n",
      "    \"traveling\"\n",
      "  ],\n",
      "  \"likes_python\": true,\n",
      "  \"name\": \"Future Programmer\"\n",
      "}\n"
     ]
    }
   ],
   "source": [
    "# json.dumps(): converts to string\n",
    "print(json.dumps(x), \"\\n\")\n",
    "print(json.dumps(x, indent=2), \"\\n\")\n",
    "print(json.dumps(x, indent=2, sort_keys=True))"
   ]
  },
  {
   "cell_type": "code",
   "execution_count": 8,
   "metadata": {},
   "outputs": [
    {
     "name": "stdout",
     "output_type": "stream",
     "text": [
      "{\n",
      "  \"name\": \"Future Programmer\",\n",
      "  \"hobbies\": [\n",
      "    \"programming\",\n",
      "    \"photography\",\n",
      "    \"traveling\"\n",
      "  ],\n",
      "  \"age\": 15,\n",
      "  \"likes_python\": true\n",
      "}\n"
     ]
    }
   ],
   "source": [
    "with open(\"json2.json\", \"w\") as file:\n",
    "#      file.write(json.dumps(x))\n",
    "     file.write(json.dumps(x, indent=2))\n",
    "\n",
    "with open(\"json2.json\") as file:\n",
    "    print(file.read())"
   ]
  },
  {
   "cell_type": "code",
   "execution_count": 9,
   "metadata": {},
   "outputs": [
    {
     "name": "stdout",
     "output_type": "stream",
     "text": [
      "{\n",
      "  \"name\": \"Future Programmer\",\n",
      "  \"hobbies\": [\n",
      "    \"programming\",\n",
      "    \"photography\",\n",
      "    \"traveling\"\n",
      "  ],\n",
      "  \"age\": 15,\n",
      "  \"likes_python\": true\n",
      "}\n"
     ]
    }
   ],
   "source": [
    "# json.dump(): writes to file\n",
    "with open(\"json2.json\", \"w\") as file:\n",
    "     json.dump(x, file, indent=2)\n",
    "\n",
    "with open(\"json2.json\") as file:\n",
    "    print(file.read())"
   ]
  },
  {
   "cell_type": "markdown",
   "metadata": {},
   "source": [
    "## Summary\n",
    "`JSON` data is used in many different situations, and the skills you learned in this lesson will allow you to work with this data format using Python."
   ]
  }
 ],
 "metadata": {
  "kernelspec": {
   "display_name": "Python 3 (ipykernel)",
   "language": "python",
   "name": "python3"
  },
  "language_info": {
   "codemirror_mode": {
    "name": "ipython",
    "version": 3
   },
   "file_extension": ".py",
   "mimetype": "text/x-python",
   "name": "python",
   "nbconvert_exporter": "python",
   "pygments_lexer": "ipython3",
   "version": "3.9.6"
  }
 },
 "nbformat": 4,
 "nbformat_minor": 4
}
