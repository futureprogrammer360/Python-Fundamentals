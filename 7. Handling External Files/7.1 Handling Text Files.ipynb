{
 "cells": [
  {
   "cell_type": "markdown",
   "metadata": {},
   "source": [
    "# Handling text files\n",
    "So far, data in our programs have been stored in our computer's **memory**, and can only be accessed during the runtime of our programs. In many real-life situations, it is better to store relevant data on our computer's hard drive as **files**, so they can preserved permanently.\n",
    "\n",
    "In this lesson, we will focus on using a very common and important type of files, **text files** (with a file extension `.txt`), and learn about how we can use Python to read and modify these files."
   ]
  },
  {
   "cell_type": "markdown",
   "metadata": {},
   "source": [
    "Before we get started reading and writing to text files, let's use the `os.listdir()` function to see which text files are in our **current working directory**."
   ]
  },
  {
   "cell_type": "code",
   "execution_count": 1,
   "metadata": {},
   "outputs": [
    {
     "name": "stdout",
     "output_type": "stream",
     "text": [
      "Another File.txt\n",
      "text-file.txt\n"
     ]
    }
   ],
   "source": [
    "import os\n",
    "for item in os.listdir():  # Get files and directories in cwd\n",
    "    if item.endswith(\".txt\"):  # Select files with .txt extension\n",
    "        print(item)"
   ]
  },
  {
   "cell_type": "markdown",
   "metadata": {},
   "source": [
    "## Opening a text file from Python\n",
    "To open a file in a Python program, we can use the `open()` function. `open()` takes two arguments, the *file name*, and the *mode* you want to open the file in. Below are the different mode values you can pass in:\n",
    "* `\"r\"`: Opens file in *read* mode (default value)\n",
    "* `\"a\"`: Opens file in *append* mode\n",
    "* `\"w\"`: Opens file in *write* mode\n",
    "* `\"r+\"`: Opens file for both *reading* and *writing*\n",
    "\n",
    "For the *file name* parameter, you can directly pass in the file's name if the text file is located in the same directory as the Python script. Otherwise, we'll need to pass in the absolute path including the directories it is in."
   ]
  },
  {
   "cell_type": "code",
   "execution_count": 2,
   "metadata": {},
   "outputs": [
    {
     "name": "stdout",
     "output_type": "stream",
     "text": [
      "<_io.TextIOWrapper name='text-file.txt' mode='r' encoding='cp1252'>\n",
      "<class '_io.TextIOWrapper'>\n"
     ]
    }
   ],
   "source": [
    "file = open(\"text-file.txt\")  # If file is in cwd\n",
    "# file = open(\"C:\\Folder\\text-file.txt\")  # Example of absolute path\n",
    "print(file)\n",
    "print(type(file))"
   ]
  },
  {
   "cell_type": "markdown",
   "metadata": {},
   "source": [
    "## Closing a file\n",
    "After finishing the file operation, we should always close the file using the `.close()` method of the file to free up the resources related to the file.\n",
    "\n",
    "Not closing a file can impact the performance of the program, taking up more memory than is necessary, which might slow down your computer. Sometimes, changes made to a file may not even show until you close it."
   ]
  },
  {
   "cell_type": "code",
   "execution_count": 3,
   "metadata": {
    "scrolled": true
   },
   "outputs": [],
   "source": [
    "file.close()"
   ]
  },
  {
   "cell_type": "markdown",
   "metadata": {},
   "source": [
    "### `with` statement\n",
    "Examine the code segment below, and hypothesize whether or not the file would be closed."
   ]
  },
  {
   "cell_type": "code",
   "execution_count": 4,
   "metadata": {
    "scrolled": false
   },
   "outputs": [
    {
     "ename": "ZeroDivisionError",
     "evalue": "division by zero",
     "output_type": "error",
     "traceback": [
      "\u001b[1;31m---------------------------------------------------------------------------\u001b[0m",
      "\u001b[1;31mZeroDivisionError\u001b[0m                         Traceback (most recent call last)",
      "\u001b[1;32m~\\AppData\\Local\\Temp/ipykernel_50428/1761811561.py\u001b[0m in \u001b[0;36m<module>\u001b[1;34m\u001b[0m\n\u001b[0;32m      1\u001b[0m \u001b[0mfile\u001b[0m \u001b[1;33m=\u001b[0m \u001b[0mopen\u001b[0m\u001b[1;33m(\u001b[0m\u001b[1;34m\"text-file.txt\"\u001b[0m\u001b[1;33m)\u001b[0m\u001b[1;33m\u001b[0m\u001b[1;33m\u001b[0m\u001b[0m\n\u001b[1;32m----> 2\u001b[1;33m \u001b[0mprint\u001b[0m\u001b[1;33m(\u001b[0m\u001b[1;36m1\u001b[0m \u001b[1;33m/\u001b[0m \u001b[1;36m0\u001b[0m\u001b[1;33m)\u001b[0m\u001b[1;33m\u001b[0m\u001b[1;33m\u001b[0m\u001b[0m\n\u001b[0m\u001b[0;32m      3\u001b[0m \u001b[0mfile\u001b[0m\u001b[1;33m.\u001b[0m\u001b[0mclose\u001b[0m\u001b[1;33m(\u001b[0m\u001b[1;33m)\u001b[0m\u001b[1;33m\u001b[0m\u001b[1;33m\u001b[0m\u001b[0m\n",
      "\u001b[1;31mZeroDivisionError\u001b[0m: division by zero"
     ]
    }
   ],
   "source": [
    "file = open(\"text-file.txt\")\n",
    "print(1 / 0)\n",
    "file.close()"
   ]
  },
  {
   "cell_type": "code",
   "execution_count": 5,
   "metadata": {},
   "outputs": [
    {
     "name": "stdout",
     "output_type": "stream",
     "text": [
      "False\n",
      "True\n"
     ]
    }
   ],
   "source": [
    "print(file.closed)\n",
    "file.close()\n",
    "print(file.closed)"
   ]
  },
  {
   "cell_type": "markdown",
   "metadata": {},
   "source": [
    "In the code above, the file object is not closed, since line 2 raises an error that crashes the script. To prevent that, we can use the `with` keyword. The benefit is that the file would be automatically closed even if an error is raised. Below is the syntax:"
   ]
  },
  {
   "cell_type": "code",
   "execution_count": 6,
   "metadata": {
    "scrolled": true
   },
   "outputs": [
    {
     "name": "stdout",
     "output_type": "stream",
     "text": [
      "True\n"
     ]
    }
   ],
   "source": [
    "with open(\"text-file.txt\") as file:\n",
    "    pass  # Do tasks\n",
    "print(file.closed)"
   ]
  },
  {
   "cell_type": "markdown",
   "metadata": {},
   "source": [
    "## Reading a text file\n",
    "To read the data stored in a text file, we can use the following methods of a file object:\n",
    "* `.read()`: Reads the entire file\n",
    "* `.readline()`: Reads a single line from the file\n",
    "* `.readlines()`: Reads all lines from a file and store as list"
   ]
  },
  {
   "cell_type": "code",
   "execution_count": 7,
   "metadata": {},
   "outputs": [
    {
     "name": "stdout",
     "output_type": "stream",
     "text": [
      "Congratulations, you successfully read the text stored in text-file.txt!\n",
      "This is the second line of the file!\n",
      "Line 3 is here!\n"
     ]
    }
   ],
   "source": [
    "with open(\"text-file.txt\") as file:\n",
    "    entirety_of_data = file.read()\n",
    "#     part_of_data = file.read(15)  # First 15 characters\n",
    "\n",
    "print(entirety_of_data)\n",
    "# print(part_of_data)"
   ]
  },
  {
   "cell_type": "code",
   "execution_count": 8,
   "metadata": {
    "scrolled": true
   },
   "outputs": [
    {
     "name": "stdout",
     "output_type": "stream",
     "text": [
      "Congratulations, you successfully read the text stored in text-file.txt!\n",
      "This is the second line of the file!\n",
      "Line 3 is here!"
     ]
    }
   ],
   "source": [
    "with open(\"text-file.txt\") as file:\n",
    "    print(file.readline(), end=\"\")\n",
    "    print(file.readline(), end=\"\")\n",
    "    print(file.readline(), end=\"\")"
   ]
  },
  {
   "cell_type": "code",
   "execution_count": 9,
   "metadata": {},
   "outputs": [
    {
     "name": "stdout",
     "output_type": "stream",
     "text": [
      "['Congratulations, you successfully read the text stored in text-file.txt!\\n', 'This is the second line of the file!\\n', 'Line 3 is here!']\n"
     ]
    }
   ],
   "source": [
    "with open(\"text-file.txt\") as file:\n",
    "    print(file.readlines())  # List of strings"
   ]
  },
  {
   "cell_type": "code",
   "execution_count": 10,
   "metadata": {
    "scrolled": true
   },
   "outputs": [
    {
     "name": "stdout",
     "output_type": "stream",
     "text": [
      "Congratulations, you successfully read the text stored in text-file.txt!\n",
      "This is the second line of the file!\n",
      "Line 3 is here!"
     ]
    }
   ],
   "source": [
    "# Looping through a file's lines\n",
    "with open(\"text-file.txt\") as file:\n",
    "    for line in file:\n",
    "        print(line, end=\"\")"
   ]
  },
  {
   "cell_type": "markdown",
   "metadata": {},
   "source": [
    "## Writing to a file\n",
    "To write to a file, we need to pay attention to the mode in which the file is opened in.\n",
    "* If it is open in *`w`rite* mode, the entire file is erased and rewritten.\n",
    "* If it is open in *`a`ppend* mode, data is *appended* (added) to the end of the original file."
   ]
  },
  {
   "cell_type": "code",
   "execution_count": 11,
   "metadata": {},
   "outputs": [
    {
     "name": "stdout",
     "output_type": "stream",
     "text": [
      "New content that replaced the old content.\n",
      "\n"
     ]
    }
   ],
   "source": [
    "with open(\"Another File.txt\", \"w\") as file:\n",
    "    file.write(\"New content that replaced the old content.\\n\")\n",
    "\n",
    "with open(\"Another File.txt\") as file:\n",
    "    print(file.read())"
   ]
  },
  {
   "cell_type": "code",
   "execution_count": 12,
   "metadata": {},
   "outputs": [
    {
     "name": "stdout",
     "output_type": "stream",
     "text": [
      "New content that replaced the old content.\n",
      "New content that is appended to the old content.\n"
     ]
    }
   ],
   "source": [
    "with open(\"Another File.txt\", \"a\") as file:\n",
    "    file.write(\"New content that is appended to the old content.\")\n",
    "\n",
    "with open(\"Another File.txt\") as file:\n",
    "    print(file.read())"
   ]
  },
  {
   "cell_type": "markdown",
   "metadata": {},
   "source": [
    "# Summary\n",
    "Today, you learned how to open, close, read from, and write to a file using Python. Now, you can store and read data in and from your computer's hard drive, rather than in its memory."
   ]
  }
 ],
 "metadata": {
  "kernelspec": {
   "display_name": "Python 3 (ipykernel)",
   "language": "python",
   "name": "python3"
  },
  "language_info": {
   "codemirror_mode": {
    "name": "ipython",
    "version": 3
   },
   "file_extension": ".py",
   "mimetype": "text/x-python",
   "name": "python",
   "nbconvert_exporter": "python",
   "pygments_lexer": "ipython3",
   "version": "3.9.6"
  }
 },
 "nbformat": 4,
 "nbformat_minor": 4
}
