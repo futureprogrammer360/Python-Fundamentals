{
 "cells": [
  {
   "cell_type": "markdown",
   "metadata": {},
   "source": [
    "# Dunder Methods\n",
    "In Python, classes can have special \"magic\" methods. What do they do? Let's find out."
   ]
  },
  {
   "cell_type": "markdown",
   "metadata": {},
   "source": [
    "## Example of dunder method in use\n",
    "When you use operators like `+`, `==`, `[]` or builtin functions like `len()`, what really happens?"
   ]
  },
  {
   "cell_type": "code",
   "execution_count": 1,
   "metadata": {},
   "outputs": [
    {
     "name": "stdout",
     "output_type": "stream",
     "text": [
      "2\n",
      "False\n",
      "Python\n",
      "14\n"
     ]
    }
   ],
   "source": [
    "print(1 + 1)\n",
    "print(1 + 1 == 3)\n",
    "print(\"Python is awesome!\"[0:6])\n",
    "print(len(\"Dunder methods\"))"
   ]
  },
  {
   "cell_type": "markdown",
   "metadata": {},
   "source": [
    "Keep in mind that classes are essentially new data types that we programmers can make to suit the needs of our programs. Python gives us the power of using operators like the ones above in our own classes through *dunder methods*. Dunder stands for *double-underscore*, because there are two underscores before and after the method name.\n",
    "\n",
    "You have already met one of those \"magic\" methods, `__init__`! The `__init__` method is called whenever an object is initialized."
   ]
  },
  {
   "cell_type": "markdown",
   "metadata": {},
   "source": [
    "## `__repr__` method\n",
    "One commonly used dunder method, is the `__repr__` method."
   ]
  },
  {
   "cell_type": "code",
   "execution_count": 2,
   "metadata": {},
   "outputs": [
    {
     "name": "stdout",
     "output_type": "stream",
     "text": [
      "<__main__.Language object at 0x0000024FDB5E9850>\n"
     ]
    }
   ],
   "source": [
    "class Language:\n",
    "    def __init__(self, name):\n",
    "        self.name = name\n",
    "\n",
    "l = Language(\"Python\")\n",
    "print(l)"
   ]
  },
  {
   "cell_type": "markdown",
   "metadata": {},
   "source": [
    "By default, the memory address of an object is printed out when we use the `print` function to display an object. But that's useless to humans, so let's use the `__repr__` method!\n",
    "\n",
    "The `__repr__` method returns a string that represents the object."
   ]
  },
  {
   "cell_type": "code",
   "execution_count": 3,
   "metadata": {},
   "outputs": [
    {
     "name": "stdout",
     "output_type": "stream",
     "text": [
      "A language called Python\n",
      "A language called C++\n"
     ]
    }
   ],
   "source": [
    "class Language:\n",
    "    def __init__(self, name):\n",
    "        self.name = name\n",
    "    \n",
    "    def __repr__(self):\n",
    "        return \"A language called \" + self.name\n",
    "\n",
    "l1 = Language(\"Python\")\n",
    "l2 = Language(\"C++\")\n",
    "print(l1)\n",
    "print(l2)"
   ]
  },
  {
   "cell_type": "markdown",
   "metadata": {},
   "source": [
    "That's more like it! We can actually differentiate between objects using the `__repr__` method!"
   ]
  },
  {
   "cell_type": "markdown",
   "metadata": {},
   "source": [
    "## `__eq__` method\n",
    "Whenever you use the double equal sign (`==`), the `__eq__` method of a class is called."
   ]
  },
  {
   "cell_type": "code",
   "execution_count": 4,
   "metadata": {},
   "outputs": [
    {
     "name": "stdout",
     "output_type": "stream",
     "text": [
      "False\n"
     ]
    }
   ],
   "source": [
    "l3 = Language(\"Python\")\n",
    "print(l1 == l3)"
   ]
  },
  {
   "cell_type": "markdown",
   "metadata": {},
   "source": [
    "By default, Python checks whether two objects are the same object and returns the boolean representation of that. We can customize the `__eq__` method so that `True` would be returned if the language names are the same."
   ]
  },
  {
   "cell_type": "code",
   "execution_count": 5,
   "metadata": {},
   "outputs": [
    {
     "name": "stdout",
     "output_type": "stream",
     "text": [
      "True\n",
      "False\n"
     ]
    }
   ],
   "source": [
    "class Language:\n",
    "    def __init__(self, name):\n",
    "        self.name = name\n",
    "\n",
    "    def __eq__(self, other):  # <-- Note the other parameter\n",
    "        return self.name == other.name\n",
    "\n",
    "l1 = Language(\"JavaScript\")\n",
    "l2 = Language(\"JavaScript\")\n",
    "l3 = Language(\"Java\")\n",
    "print(l1 == l2)\n",
    "print(l1 == l3)"
   ]
  },
  {
   "cell_type": "markdown",
   "metadata": {},
   "source": [
    "The `other` parameter is the *object* which `self` is compared to. That's right! We can pass our own objects as function/method arguments!"
   ]
  },
  {
   "cell_type": "markdown",
   "metadata": {},
   "source": [
    "## `__getitem__` method\n",
    "We have used indexing and slicing with `list`, `tuple`, `dict` objects, we can do that with our own objects too using the `__getitem__` method."
   ]
  },
  {
   "cell_type": "code",
   "execution_count": 6,
   "metadata": {},
   "outputs": [
    {
     "ename": "TypeError",
     "evalue": "'Language' object is not subscriptable",
     "output_type": "error",
     "traceback": [
      "\u001b[1;31m---------------------------------------------------------------------------\u001b[0m",
      "\u001b[1;31mTypeError\u001b[0m                                 Traceback (most recent call last)",
      "\u001b[1;32m~\\AppData\\Local\\Temp/ipykernel_35464/312399453.py\u001b[0m in \u001b[0;36m<module>\u001b[1;34m\u001b[0m\n\u001b[1;32m----> 1\u001b[1;33m \u001b[0mprint\u001b[0m\u001b[1;33m(\u001b[0m\u001b[0ml2\u001b[0m\u001b[1;33m[\u001b[0m\u001b[1;36m3\u001b[0m\u001b[1;33m]\u001b[0m\u001b[1;33m)\u001b[0m\u001b[1;33m\u001b[0m\u001b[1;33m\u001b[0m\u001b[0m\n\u001b[0m",
      "\u001b[1;31mTypeError\u001b[0m: 'Language' object is not subscriptable"
     ]
    }
   ],
   "source": [
    "print(l2[3])"
   ]
  },
  {
   "cell_type": "code",
   "execution_count": 7,
   "metadata": {},
   "outputs": [
    {
     "name": "stdout",
     "output_type": "stream",
     "text": [
      "t\n",
      "ed Query L\n"
     ]
    }
   ],
   "source": [
    "class Language:\n",
    "    def __init__(self, name):\n",
    "        self.name = name\n",
    "    \n",
    "    def __getitem__(self, key):  # <-- Note the key parameter\n",
    "        return self.name[key]\n",
    "\n",
    "l1 = Language(\"Structured Query Language\")\n",
    "print(l1[5])  #0123456789111111111122222\n",
    "print(l1[8:18])  #       012345678901234"
   ]
  },
  {
   "cell_type": "markdown",
   "metadata": {},
   "source": [
    "## `__add__` method\n",
    "While it doesn't make much sense with the `Language` class example, here's how we can use the `__add__` method."
   ]
  },
  {
   "cell_type": "code",
   "execution_count": 8,
   "metadata": {},
   "outputs": [
    {
     "name": "stdout",
     "output_type": "stream",
     "text": [
      "A language called Python Ruby\n",
      "A language called Ruby Python\n"
     ]
    }
   ],
   "source": [
    "class Language:\n",
    "    def __init__(self, name):\n",
    "        self.name = name\n",
    "    \n",
    "    def __repr__(self):\n",
    "        return \"A language called \" + self.name\n",
    "    \n",
    "    def __add__(self, other):  # <-- Note the other parameter\n",
    "        return Language(self.name + \" \" + other.name)  # Returning a new object!\n",
    "    \n",
    "l1 = Language(\"Python\")\n",
    "l2 = Language(\"Ruby\")\n",
    "print(l1 + l2)\n",
    "l3 = l2 + l1\n",
    "print(l3)"
   ]
  },
  {
   "cell_type": "markdown",
   "metadata": {},
   "source": [
    "## `__len__`\n",
    "The `__len__` method allows our classes to be used with the `len` function."
   ]
  },
  {
   "cell_type": "code",
   "execution_count": 9,
   "metadata": {},
   "outputs": [
    {
     "ename": "TypeError",
     "evalue": "object of type 'Language' has no len()",
     "output_type": "error",
     "traceback": [
      "\u001b[1;31m---------------------------------------------------------------------------\u001b[0m",
      "\u001b[1;31mTypeError\u001b[0m                                 Traceback (most recent call last)",
      "\u001b[1;32m~\\AppData\\Local\\Temp/ipykernel_35464/2191238816.py\u001b[0m in \u001b[0;36m<module>\u001b[1;34m\u001b[0m\n\u001b[0;32m      4\u001b[0m \u001b[1;33m\u001b[0m\u001b[0m\n\u001b[0;32m      5\u001b[0m \u001b[0ml1\u001b[0m \u001b[1;33m=\u001b[0m \u001b[0mLanguage\u001b[0m\u001b[1;33m(\u001b[0m\u001b[1;34m\"Assembly\"\u001b[0m\u001b[1;33m)\u001b[0m\u001b[1;33m\u001b[0m\u001b[1;33m\u001b[0m\u001b[0m\n\u001b[1;32m----> 6\u001b[1;33m \u001b[0mprint\u001b[0m\u001b[1;33m(\u001b[0m\u001b[0mlen\u001b[0m\u001b[1;33m(\u001b[0m\u001b[0ml1\u001b[0m\u001b[1;33m)\u001b[0m\u001b[1;33m)\u001b[0m\u001b[1;33m\u001b[0m\u001b[1;33m\u001b[0m\u001b[0m\n\u001b[0m",
      "\u001b[1;31mTypeError\u001b[0m: object of type 'Language' has no len()"
     ]
    }
   ],
   "source": [
    "class Language:\n",
    "    def __init__(self, name):\n",
    "        self.name = name\n",
    "\n",
    "l1 = Language(\"Assembly\")\n",
    "print(len(l1))"
   ]
  },
  {
   "cell_type": "code",
   "execution_count": 10,
   "metadata": {},
   "outputs": [
    {
     "name": "stdout",
     "output_type": "stream",
     "text": [
      "6\n"
     ]
    }
   ],
   "source": [
    "class Language:\n",
    "    def __init__(self, name):\n",
    "        self.name = name\n",
    "   \n",
    "    def __len__(self):\n",
    "        return len(self.name)\n",
    "    \n",
    "l1 = Language(\"Python\")\n",
    "print(len(l1))"
   ]
  },
  {
   "cell_type": "markdown",
   "metadata": {},
   "source": [
    "# Summary\n",
    "There are dozens of special dunder methods supported by Python, some for type conversion, some for comparison, some for arithmetic operations, some for iteration, and others as well. This lesson has hopefully given you insight on how these methods can be used. The methods we focused on today were:\n",
    "* `__repr__`\n",
    "* `__eq__`\n",
    "* `__getitem__`\n",
    "* `__add__`\n",
    "* `__len__`"
   ]
  }
 ],
 "metadata": {
  "kernelspec": {
   "display_name": "Python 3 (ipykernel)",
   "language": "python",
   "name": "python3"
  },
  "language_info": {
   "codemirror_mode": {
    "name": "ipython",
    "version": 3
   },
   "file_extension": ".py",
   "mimetype": "text/x-python",
   "name": "python",
   "nbconvert_exporter": "python",
   "pygments_lexer": "ipython3",
   "version": "3.9.6"
  }
 },
 "nbformat": 4,
 "nbformat_minor": 4
}
