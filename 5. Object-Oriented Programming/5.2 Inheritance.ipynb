{
 "cells": [
  {
   "cell_type": "markdown",
   "metadata": {},
   "source": [
    "# Inheritance\n",
    "One of OOP's most useful and interesting capabilities, is inheritance."
   ]
  },
  {
   "cell_type": "markdown",
   "metadata": {},
   "source": [
    "## What is inheritance?\n",
    "Picture a scenario where you need to write two classes, `Student` and `Teacher`, representing a student and a teacher. Below is an example of how that can be implemented."
   ]
  },
  {
   "cell_type": "code",
   "execution_count": 1,
   "metadata": {},
   "outputs": [
    {
     "name": "stdout",
     "output_type": "stream",
     "text": [
      "I am Bob and I am 15.\n",
      "My GPA is 4.2\n",
      "\n",
      "I am Mrs. Smith and I am 34.\n",
      "I teach programming\n"
     ]
    }
   ],
   "source": [
    "class Student:\n",
    "    def __init__(self, name, age, gpa):\n",
    "        self.name = name\n",
    "        self.age = age\n",
    "        self.gpa = gpa\n",
    "    \n",
    "    def introduce(self):\n",
    "        print(\"I am \" + self.name + \" and I am \" + str(self.age) + \".\")\n",
    "        print(\"My GPA is \" + str(self.gpa))\n",
    "\n",
    "class Teacher:\n",
    "    def __init__(self, name, age, subject):\n",
    "        self.name = name\n",
    "        self.age = age\n",
    "        self.subject = subject\n",
    "\n",
    "    def introduce(self):\n",
    "        print(\"I am \" + self.name + \" and I am \" + str(self.age) + \".\")\n",
    "        print(\"I teach \" + self.subject)\n",
    "\n",
    "student1 = Student(\"Bob\", 15, 4.2)\n",
    "teacher1 = Teacher(\"Mrs. Smith\", 34, \"programming\")\n",
    "student1.introduce()\n",
    "print()\n",
    "teacher1.introduce()"
   ]
  },
  {
   "cell_type": "markdown",
   "metadata": {},
   "source": [
    "The code above is so repetitive! Not only did we repeat the code for `name` and `age`, we also wrote the `introduce()` method twice with only slight variation between the two classes."
   ]
  },
  {
   "cell_type": "markdown",
   "metadata": {},
   "source": [
    "This is where we can use inheritance to make our code a lot simpler. Inheritance is - like the name suggests - defining a class to inherit the properties and methods of another class.\n",
    "* Parent class: class being inherited from, aka superclass.\n",
    "* Child class: class inheriting from the parent class, aka subclass.\n",
    "\n",
    "To improve the `Student` and `Teacher` classes above, we can make a common parent class called `Person` that both subclasses inherit from. A `Student` **is** a `Person`, and so is a `Teacher`."
   ]
  },
  {
   "cell_type": "code",
   "execution_count": 2,
   "metadata": {},
   "outputs": [],
   "source": [
    "class Person:\n",
    "    def __init__(self, name, age):\n",
    "        self.name = name\n",
    "        self.age = age\n",
    "    \n",
    "    def introduce(self):\n",
    "        print(\"I am \" + self.name + \" and I am \" + str(self.age) + \".\")"
   ]
  },
  {
   "cell_type": "markdown",
   "metadata": {},
   "source": [
    "Now, we define the `Student` class, which inherits from the `Person` class. We simply put the name of the parent class (`Person` in this case) into parenthesis after the subclass's name."
   ]
  },
  {
   "cell_type": "code",
   "execution_count": 3,
   "metadata": {},
   "outputs": [],
   "source": [
    "class Student(Person):  # <-- Inheritance!\n",
    "    pass  # Put pass here to prevent crash"
   ]
  },
  {
   "cell_type": "markdown",
   "metadata": {},
   "source": [
    "Right now, a `Student` object would be the same as a `Person` object because of inheritance. Let's test that!"
   ]
  },
  {
   "cell_type": "code",
   "execution_count": 4,
   "metadata": {},
   "outputs": [
    {
     "name": "stdout",
     "output_type": "stream",
     "text": [
      "I am Person 1 and I am 50.\n",
      "I am Student 1 and I am 22.\n"
     ]
    }
   ],
   "source": [
    "p1 = Person(\"Person 1\", 50)\n",
    "s1 = Student(\"Student 1\", 22)\n",
    "p1.introduce()\n",
    "s1.introduce()"
   ]
  },
  {
   "cell_type": "markdown",
   "metadata": {},
   "source": [
    "The `Student` object had the `name` and `age` attributes as well as the `introduce()` method even though we did not explicitly define them in the class definition. This is because all properties and methods of a parent class are inherited by a child class.\n",
    "\n",
    "Now let's make it so a `Student` object has features in addition to the ones defined in the `Person` class."
   ]
  },
  {
   "cell_type": "code",
   "execution_count": 5,
   "metadata": {},
   "outputs": [
    {
     "name": "stdout",
     "output_type": "stream",
     "text": [
      "I am Some Student and I am 5.\n",
      "My GPA is 2.7\n"
     ]
    }
   ],
   "source": [
    "class Student(Person):\n",
    "    def __init__(self, name, age, gpa):  # Subclass __init__ overrides superclass\n",
    "\n",
    "        super().__init__(name, age)      # Calling superclass's __init__() method\n",
    "                                         # with correct parameters\n",
    "\n",
    "        self.gpa = gpa                   # Additional attributes\n",
    "    \n",
    "    def introduce(self):\n",
    "        super().introduce()  # Call introduce() of parent class\n",
    "        print(\"My GPA is \" + str(self.gpa))\n",
    "\n",
    "\n",
    "s1 = Student(\"Some Student\", 5, 2.7)\n",
    "s1.introduce()"
   ]
  },
  {
   "cell_type": "markdown",
   "metadata": {},
   "source": [
    "Now our students are able to announce their GPA when introducing themselves in addition to their name and age. Let's do the same for the teachers!"
   ]
  },
  {
   "cell_type": "code",
   "execution_count": 6,
   "metadata": {
    "scrolled": true
   },
   "outputs": [
    {
     "name": "stdout",
     "output_type": "stream",
     "text": [
      "I am Some Teacher and I am 29.\n",
      "I teach computer science\n"
     ]
    }
   ],
   "source": [
    "class Teacher(Person):\n",
    "    def __init__(self, name, age, subject):\n",
    "        super().__init__(name, age)\n",
    "        self.subject = subject\n",
    "    \n",
    "    def introduce(self):\n",
    "        super().introduce()\n",
    "        print(\"I teach \" + self.subject)\n",
    "\n",
    "t1 = Teacher(\"Some Teacher\", 29, \"computer science\")\n",
    "t1.introduce()"
   ]
  },
  {
   "cell_type": "markdown",
   "metadata": {},
   "source": [
    "Cool! Now we are able to have classes that inherit properties from parent classes. This can model many relationships in the real world, like `Laptop` and `Desktop` both inheriting from `Computer`.\n",
    "\n",
    "Any class can be a superclass and a subclass can inherit as many parents as needed. A superclass can be inherited by any number of subclasses."
   ]
  },
  {
   "cell_type": "markdown",
   "metadata": {},
   "source": [
    "# Summary\n",
    "Inheritance is something you'll run into again and again as you continue your journey of object-oriented programming. With this concept, we can make our classes inherit superclasses from modules and packages - so we don't have to copy thousands of lines that other people have already written!\n",
    "\n",
    "Hopefully today's lesson has given you a good idea on how inheritance works and the potential use cases thereof."
   ]
  }
 ],
 "metadata": {
  "kernelspec": {
   "display_name": "Python 3 (ipykernel)",
   "language": "python",
   "name": "python3"
  },
  "language_info": {
   "codemirror_mode": {
    "name": "ipython",
    "version": 3
   },
   "file_extension": ".py",
   "mimetype": "text/x-python",
   "name": "python",
   "nbconvert_exporter": "python",
   "pygments_lexer": "ipython3",
   "version": "3.9.6"
  }
 },
 "nbformat": 4,
 "nbformat_minor": 4
}
