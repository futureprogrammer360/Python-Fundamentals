{
 "cells": [
  {
   "cell_type": "markdown",
   "metadata": {},
   "source": [
    "# Intro to Object-Oriented Programming\n",
    "In chapter 5 of the Python Fundamentals series, we explore the realm of object-oriented programming."
   ]
  },
  {
   "cell_type": "markdown",
   "metadata": {},
   "source": [
    "## What is OOP?\n",
    "Python is an **object-oriented** programming language. What's an object? Spoiler alert: you have used objects since day 1 of Python programming! When people say everything in Python is an object, they mean *everything*.\n",
    "\n",
    "Earlier in the course, you were introduced to the `type()` function. The `type()` function returns the **class** of the **object** passed in. Classes and objects are the foundation of OOP."
   ]
  },
  {
   "cell_type": "code",
   "execution_count": 1,
   "metadata": {},
   "outputs": [
    {
     "name": "stdout",
     "output_type": "stream",
     "text": [
      "<class 'str'>\n",
      "<class 'bool'>\n",
      "<class 'NoneType'>\n",
      "<class 'dict'>\n"
     ]
    }
   ],
   "source": [
    "print(type(\"This is an object!\"))\n",
    "print(type(True))\n",
    "print(type(None))\n",
    "print(type({\"type\": \"object!\"}))"
   ]
  },
  {
   "cell_type": "markdown",
   "metadata": {},
   "source": [
    "All of the output starts with the word `class`. This is the class of the object."
   ]
  },
  {
   "cell_type": "markdown",
   "metadata": {},
   "source": [
    "## Class\n",
    "You can think of a class as a blueprint of a robot. It *defines* how the robot will look like once constructed but doesn't do the act of building it. Another way to think about a class, is making a custom data type!\n",
    "\n",
    "Classes often represent real-world objects, and usually have properties and methods. Properties of a class are variables that hold values. Methods are basically functions that belong to a class.\n",
    "\n",
    "To create a class in Python, we use the `class` keyword."
   ]
  },
  {
   "cell_type": "code",
   "execution_count": null,
   "metadata": {},
   "outputs": [],
   "source": [
    "# Syntax of a class definition in Python\n",
    "class ClassName(module.BaseClass, ...):\n",
    "    statement(s)"
   ]
  },
  {
   "cell_type": "markdown",
   "metadata": {},
   "source": [
    "* `class`: keyword used to create the class\n",
    "* `ClassName`: name that identifies the class - generally in UpperCamelCase\n",
    "* `module.BaseClassName, ...`: classes that `ClassName` inherits from\n",
    "* `statement(s)`: body of the class definition (**indented**)"
   ]
  },
  {
   "cell_type": "markdown",
   "metadata": {},
   "source": [
    "### Class examples"
   ]
  },
  {
   "cell_type": "code",
   "execution_count": 2,
   "metadata": {},
   "outputs": [],
   "source": [
    "class MyFirstClass:\n",
    "    var = \"Variable in MyFirstClass\""
   ]
  },
  {
   "cell_type": "markdown",
   "metadata": {},
   "source": [
    "Just like how the definition of a function doesn't run it, the creation of a class doesn't actually make the object! To create an object, we can use the syntax `object_name = ClassName()`"
   ]
  },
  {
   "cell_type": "code",
   "execution_count": 3,
   "metadata": {},
   "outputs": [
    {
     "name": "stdout",
     "output_type": "stream",
     "text": [
      "<__main__.MyFirstClass object at 0x000002171F707B80>\n",
      "<class '__main__.MyFirstClass'>\n"
     ]
    }
   ],
   "source": [
    "# Creates an instance of MyFirstClass called my_first_object\n",
    "my_first_object = MyFirstClass()\n",
    "print(my_first_object)\n",
    "print(type(my_first_object))"
   ]
  },
  {
   "cell_type": "markdown",
   "metadata": {},
   "source": [
    "To access attributes of an object, we use the **dot notation**. If `x` is an attribute of class `C` and `obj` is an instance of `C`, we can access `x` of `obj` using `obj.x`."
   ]
  },
  {
   "cell_type": "code",
   "execution_count": 4,
   "metadata": {
    "scrolled": true
   },
   "outputs": [
    {
     "name": "stdout",
     "output_type": "stream",
     "text": [
      "Variable in MyFirstClass\n",
      "Variable in MyFirstClass\n"
     ]
    }
   ],
   "source": [
    "print(my_first_object.var)\n",
    "print(MyFirstClass.var)"
   ]
  },
  {
   "cell_type": "markdown",
   "metadata": {},
   "source": [
    "Wait! If we can access the members of a class without creating an object, why should we bother to? That... brings us back to the discussion about object-oriented programming.\n",
    "\n",
    "If we take the `int` class as an example, each object of that class holds different values and their attributes also have different values."
   ]
  },
  {
   "cell_type": "code",
   "execution_count": 5,
   "metadata": {},
   "outputs": [
    {
     "name": "stdout",
     "output_type": "stream",
     "text": [
      "<class 'int'> <class 'int'>\n",
      "11213\t      189128\n"
     ]
    }
   ],
   "source": [
    "int_1 = 11213\n",
    "int_2 = 189128\n",
    "\n",
    "print(type(int_1), type(int_2))\n",
    "print(int_1.real, int_2.real, sep=\"\\t      \")"
   ]
  },
  {
   "cell_type": "markdown",
   "metadata": {},
   "source": [
    "### `__init__()`\n",
    "\n",
    "To make it possible for different objects to hold different attribute values, we need to talk about the `__init__()` method. As mentioned above, classes can have methods in them. There is a built-in method that all classes have, called `__init__()`, which is always run when an object gets initiated. If we do not explicitly define a `__init__()` method when creating the class, Python will give the class an empty one as default. Below is an example of a class with a custom `__init__()` method."
   ]
  },
  {
   "cell_type": "code",
   "execution_count": 6,
   "metadata": {},
   "outputs": [],
   "source": [
    "class Programmer:\n",
    "    def __init__(self, name, fav_lang):\n",
    "        self.name = name  # The current object's name is...\n",
    "        self.fav_lang = fav_lang  # The current object's fav_lang is..."
   ]
  },
  {
   "cell_type": "markdown",
   "metadata": {},
   "source": [
    "We made a class called `Programmer`. The `__init__` function takes 3 parameters.\n",
    "\n",
    "`self` is a special parameter that points toward the current instance of the class. We use it to access variables of the instance we're working with. The variable doesn't have to be called `self`, but it is extremely rare for it to be called anything else. *It is not passed during object initiation.*\n",
    "\n",
    "Inside the constructor, we give the object 2 attributes: `name` and `fav_lang`, the values of which both passed when creating the object."
   ]
  },
  {
   "cell_type": "code",
   "execution_count": 7,
   "metadata": {},
   "outputs": [
    {
     "name": "stdout",
     "output_type": "stream",
     "text": [
      "Name: Future Programmer\n",
      "Favorite language: Python\n"
     ]
    }
   ],
   "source": [
    "me = Programmer(\"Future Programmer\", \"Python\")  # self NOT passed\n",
    "print(\"Name: \" + me.name)\n",
    "print(\"Favorite language: \" + me.fav_lang)"
   ]
  },
  {
   "cell_type": "code",
   "execution_count": 8,
   "metadata": {
    "scrolled": true
   },
   "outputs": [
    {
     "name": "stdout",
     "output_type": "stream",
     "text": [
      "Name: Bob\n",
      "Favorite language: Ruby\n"
     ]
    }
   ],
   "source": [
    "bob = Programmer(\"Bob\", \"Ruby\")\n",
    "print(\"Name: \" + bob.name)\n",
    "print(\"Favorite language: \" + bob.fav_lang)"
   ]
  },
  {
   "cell_type": "markdown",
   "metadata": {},
   "source": [
    "And that is how you create multiple instances of a class with different values!"
   ]
  },
  {
   "cell_type": "markdown",
   "metadata": {},
   "source": [
    "### Methods of a class\n",
    "There are actually multiple types of methods that can exist in a class. By far the most commonly used one and the one we're going to focus on, is called the instance method.\n",
    "\n",
    "An instance method is, as the name suggests, a method of a class instance (aka an object). You can think of a method like a function that belongs to an object."
   ]
  },
  {
   "cell_type": "code",
   "execution_count": 9,
   "metadata": {},
   "outputs": [],
   "source": [
    "class Dog:\n",
    "    def __init__(self, name, breed):\n",
    "        self.name = name\n",
    "        self.breed = breed\n",
    "    \n",
    "    def bark(self):\n",
    "        for i in range(3):\n",
    "            print(\"Bark x\" + str(i + 1))\n",
    "    \n",
    "    def change_name(self, new_name):\n",
    "        self.name = new_name"
   ]
  },
  {
   "cell_type": "code",
   "execution_count": 10,
   "metadata": {},
   "outputs": [
    {
     "name": "stdout",
     "output_type": "stream",
     "text": [
      "Dog 1 is a German Sheperd\n",
      "Bark x1\n",
      "Bark x2\n",
      "Bark x3\n",
      "New name for dog 1!\n"
     ]
    }
   ],
   "source": [
    "dog1 = Dog(\"Dog 1\", \"German Sheperd\")\n",
    "print(dog1.name + \" is a \" + dog1.breed)\n",
    "dog1.bark()  # self not passed\n",
    "dog1.change_name(\"New name for dog 1!\")\n",
    "print(dog1.name)"
   ]
  },
  {
   "cell_type": "code",
   "execution_count": 11,
   "metadata": {},
   "outputs": [
    {
     "name": "stdout",
     "output_type": "stream",
     "text": [
      "Another dog is a Golden Retriever\n",
      "Bark x1\n",
      "Bark x2\n",
      "Bark x3\n",
      "The second dog\n"
     ]
    }
   ],
   "source": [
    "dog2 = Dog(\"Another dog\", \"Golden Retriever\")\n",
    "print(dog2.name + \" is a \" + dog2.breed)\n",
    "dog2.bark()\n",
    "dog2.change_name(\"The second dog\")\n",
    "print(dog2.name)"
   ]
  },
  {
   "cell_type": "markdown",
   "metadata": {},
   "source": [
    "# Summary\n",
    "And this is the end of today's lesson on classes and objects with Python. It's possible that you think about classes as something you'll never use at the moment, but as you move along your programming journey, object-oriented programming is actually used all the time. Our lesson today covered:\n",
    "* What is OOP?\n",
    "* Classes\n",
    "    * How to make objects of a class\n",
    "    * `__init__()` method\n",
    "    * Instance methods"
   ]
  }
 ],
 "metadata": {
  "kernelspec": {
   "display_name": "Python 3 (ipykernel)",
   "language": "python",
   "name": "python3"
  },
  "language_info": {
   "codemirror_mode": {
    "name": "ipython",
    "version": 3
   },
   "file_extension": ".py",
   "mimetype": "text/x-python",
   "name": "python",
   "nbconvert_exporter": "python",
   "pygments_lexer": "ipython3",
   "version": "3.9.6"
  }
 },
 "nbformat": 4,
 "nbformat_minor": 4
}
