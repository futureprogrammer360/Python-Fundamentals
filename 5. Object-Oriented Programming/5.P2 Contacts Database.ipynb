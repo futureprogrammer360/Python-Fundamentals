{
 "cells": [
  {
   "cell_type": "markdown",
   "id": "exterior-youth",
   "metadata": {},
   "source": [
    "# Contacts Database\n",
    "OOP is a *very* important and useful concept in Python and other programming languages. Today, we're going to create a database of people using classes, objects, and pretty much everything we have learned so far."
   ]
  },
  {
   "cell_type": "markdown",
   "id": "alone-faith",
   "metadata": {},
   "source": [
    "## Goals\n",
    "* A `Contact` class\n",
    "    * Attributes for name, phone number, email address, etc\n",
    "* A `Community` class\n",
    "    * Attribute that store a collection of `Contact`s\n",
    "    * Methods to add and remove `Contact`s\n",
    "    * Method to search for a specific `Contact` by name, phone number, or email address"
   ]
  },
  {
   "cell_type": "markdown",
   "id": "certain-export",
   "metadata": {},
   "source": [
    "## Coding time!"
   ]
  }
 ],
 "metadata": {
  "kernelspec": {
   "display_name": "Python 3",
   "language": "python",
   "name": "python3"
  },
  "language_info": {
   "codemirror_mode": {
    "name": "ipython",
    "version": 3
   },
   "file_extension": ".py",
   "mimetype": "text/x-python",
   "name": "python",
   "nbconvert_exporter": "python",
   "pygments_lexer": "ipython3",
   "version": "3.8.8"
  }
 },
 "nbformat": 4,
 "nbformat_minor": 5
}
